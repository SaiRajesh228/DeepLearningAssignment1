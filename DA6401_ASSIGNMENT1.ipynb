{
  "nbformat": 4,
  "nbformat_minor": 0,
  "metadata": {
    "colab": {
      "provenance": [],
      "authorship_tag": "ABX9TyMHk4pfxEUEd1ZImO34RtE1",
      "include_colab_link": true
    },
    "kernelspec": {
      "name": "python3",
      "display_name": "Python 3"
    },
    "language_info": {
      "name": "python"
    }
  },
  "cells": [
    {
      "cell_type": "markdown",
      "metadata": {
        "id": "view-in-github",
        "colab_type": "text"
      },
      "source": [
        "<a href=\"https://colab.research.google.com/github/SaiRajesh228/DeepLearningAssignment1/blob/main/DA6401_ASSIGNMENT1.ipynb\" target=\"_parent\"><img src=\"https://colab.research.google.com/assets/colab-badge.svg\" alt=\"Open In Colab\"/></a>"
      ]
    },
    {
      "cell_type": "code",
      "execution_count": 1,
      "metadata": {
        "colab": {
          "base_uri": "https://localhost:8080/",
          "height": 1000
        },
        "id": "R1PeztwY0iu6",
        "outputId": "7f5d36db-a053-48e6-ccdb-5990ffd5d03f"
      },
      "outputs": [
        {
          "output_type": "stream",
          "name": "stderr",
          "text": [
            "\u001b[34m\u001b[1mwandb\u001b[0m: Using wandb-core as the SDK backend.  Please refer to https://wandb.me/wandb-core for more information.\n"
          ]
        },
        {
          "output_type": "display_data",
          "data": {
            "text/plain": [
              "<IPython.core.display.Javascript object>"
            ],
            "application/javascript": [
              "\n",
              "        window._wandbApiKey = new Promise((resolve, reject) => {\n",
              "            function loadScript(url) {\n",
              "            return new Promise(function(resolve, reject) {\n",
              "                let newScript = document.createElement(\"script\");\n",
              "                newScript.onerror = reject;\n",
              "                newScript.onload = resolve;\n",
              "                document.body.appendChild(newScript);\n",
              "                newScript.src = url;\n",
              "            });\n",
              "            }\n",
              "            loadScript(\"https://cdn.jsdelivr.net/npm/postmate/build/postmate.min.js\").then(() => {\n",
              "            const iframe = document.createElement('iframe')\n",
              "            iframe.style.cssText = \"width:0;height:0;border:none\"\n",
              "            document.body.appendChild(iframe)\n",
              "            const handshake = new Postmate({\n",
              "                container: iframe,\n",
              "                url: 'https://wandb.ai/authorize'\n",
              "            });\n",
              "            const timeout = setTimeout(() => reject(\"Couldn't auto authenticate\"), 5000)\n",
              "            handshake.then(function(child) {\n",
              "                child.on('authorize', data => {\n",
              "                    clearTimeout(timeout)\n",
              "                    resolve(data)\n",
              "                });\n",
              "            });\n",
              "            })\n",
              "        });\n",
              "    "
            ]
          },
          "metadata": {}
        },
        {
          "output_type": "stream",
          "name": "stderr",
          "text": [
            "\u001b[34m\u001b[1mwandb\u001b[0m: Logging into wandb.ai. (Learn how to deploy a W&B server locally: https://wandb.me/wandb-server)\n",
            "\u001b[34m\u001b[1mwandb\u001b[0m: You can find your API key in your browser here: https://wandb.ai/authorize\n",
            "wandb: Paste an API key from your profile and hit enter:"
          ]
        },
        {
          "name": "stdout",
          "output_type": "stream",
          "text": [
            " ··········\n"
          ]
        },
        {
          "output_type": "stream",
          "name": "stderr",
          "text": [
            "\u001b[34m\u001b[1mwandb\u001b[0m: \u001b[33mWARNING\u001b[0m If you're specifying your api key in code, ensure this code is not shared publicly.\n",
            "\u001b[34m\u001b[1mwandb\u001b[0m: \u001b[33mWARNING\u001b[0m Consider setting the WANDB_API_KEY environment variable, or running `wandb login` from the command line.\n",
            "\u001b[34m\u001b[1mwandb\u001b[0m: No netrc file found, creating one.\n",
            "\u001b[34m\u001b[1mwandb\u001b[0m: Appending key for api.wandb.ai to your netrc file: /root/.netrc\n",
            "\u001b[34m\u001b[1mwandb\u001b[0m: Currently logged in as: \u001b[33mkarapa-rajesh\u001b[0m (\u001b[33mkarapa-rajesh-iit-madras\u001b[0m) to \u001b[32mhttps://api.wandb.ai\u001b[0m. Use \u001b[1m`wandb login --relogin`\u001b[0m to force relogin\n"
          ]
        },
        {
          "output_type": "display_data",
          "data": {
            "text/plain": [
              "<IPython.core.display.HTML object>"
            ],
            "text/html": [
              "Tracking run with wandb version 0.19.8"
            ]
          },
          "metadata": {}
        },
        {
          "output_type": "display_data",
          "data": {
            "text/plain": [
              "<IPython.core.display.HTML object>"
            ],
            "text/html": [
              "Run data is saved locally in <code>/content/wandb/run-20250316_154840-gryzkqp5</code>"
            ]
          },
          "metadata": {}
        },
        {
          "output_type": "display_data",
          "data": {
            "text/plain": [
              "<IPython.core.display.HTML object>"
            ],
            "text/html": [
              "Syncing run <strong><a href='https://wandb.ai/karapa-rajesh-iit-madras/DeepLearning/runs/gryzkqp5' target=\"_blank\">Q1_Samples</a></strong> to <a href='https://wandb.ai/karapa-rajesh-iit-madras/DeepLearning' target=\"_blank\">Weights & Biases</a> (<a href='https://wandb.me/developer-guide' target=\"_blank\">docs</a>)<br>"
            ]
          },
          "metadata": {}
        },
        {
          "output_type": "display_data",
          "data": {
            "text/plain": [
              "<IPython.core.display.HTML object>"
            ],
            "text/html": [
              " View project at <a href='https://wandb.ai/karapa-rajesh-iit-madras/DeepLearning' target=\"_blank\">https://wandb.ai/karapa-rajesh-iit-madras/DeepLearning</a>"
            ]
          },
          "metadata": {}
        },
        {
          "output_type": "display_data",
          "data": {
            "text/plain": [
              "<IPython.core.display.HTML object>"
            ],
            "text/html": [
              " View run at <a href='https://wandb.ai/karapa-rajesh-iit-madras/DeepLearning/runs/gryzkqp5' target=\"_blank\">https://wandb.ai/karapa-rajesh-iit-madras/DeepLearning/runs/gryzkqp5</a>"
            ]
          },
          "metadata": {}
        },
        {
          "output_type": "stream",
          "name": "stdout",
          "text": [
            "Downloading data from https://storage.googleapis.com/tensorflow/tf-keras-datasets/train-labels-idx1-ubyte.gz\n",
            "\u001b[1m29515/29515\u001b[0m \u001b[32m━━━━━━━━━━━━━━━━━━━━\u001b[0m\u001b[37m\u001b[0m \u001b[1m0s\u001b[0m 0us/step\n",
            "Downloading data from https://storage.googleapis.com/tensorflow/tf-keras-datasets/train-images-idx3-ubyte.gz\n",
            "\u001b[1m26421880/26421880\u001b[0m \u001b[32m━━━━━━━━━━━━━━━━━━━━\u001b[0m\u001b[37m\u001b[0m \u001b[1m0s\u001b[0m 0us/step\n",
            "Downloading data from https://storage.googleapis.com/tensorflow/tf-keras-datasets/t10k-labels-idx1-ubyte.gz\n",
            "\u001b[1m5148/5148\u001b[0m \u001b[32m━━━━━━━━━━━━━━━━━━━━\u001b[0m\u001b[37m\u001b[0m \u001b[1m0s\u001b[0m 0us/step\n",
            "Downloading data from https://storage.googleapis.com/tensorflow/tf-keras-datasets/t10k-images-idx3-ubyte.gz\n",
            "\u001b[1m4422102/4422102\u001b[0m \u001b[32m━━━━━━━━━━━━━━━━━━━━\u001b[0m\u001b[37m\u001b[0m \u001b[1m0s\u001b[0m 0us/step\n"
          ]
        },
        {
          "output_type": "display_data",
          "data": {
            "text/plain": [
              "<IPython.core.display.HTML object>"
            ],
            "text/html": []
          },
          "metadata": {}
        },
        {
          "output_type": "display_data",
          "data": {
            "text/plain": [
              "<IPython.core.display.HTML object>"
            ],
            "text/html": [
              " View run <strong style=\"color:#cdcd00\">Q1_Samples</strong> at: <a href='https://wandb.ai/karapa-rajesh-iit-madras/DeepLearning/runs/gryzkqp5' target=\"_blank\">https://wandb.ai/karapa-rajesh-iit-madras/DeepLearning/runs/gryzkqp5</a><br> View project at: <a href='https://wandb.ai/karapa-rajesh-iit-madras/DeepLearning' target=\"_blank\">https://wandb.ai/karapa-rajesh-iit-madras/DeepLearning</a><br>Synced 5 W&B file(s), 1 media file(s), 0 artifact file(s) and 0 other file(s)"
            ]
          },
          "metadata": {}
        },
        {
          "output_type": "display_data",
          "data": {
            "text/plain": [
              "<IPython.core.display.HTML object>"
            ],
            "text/html": [
              "Find logs at: <code>./wandb/run-20250316_154840-gryzkqp5/logs</code>"
            ]
          },
          "metadata": {}
        },
        {
          "output_type": "stream",
          "name": "stdout",
          "text": [
            "Create sweep with ID: dzg25g50\n",
            "Sweep URL: https://wandb.ai/karapa-rajesh-iit-madras/DeepLearning/sweeps/dzg25g50\n"
          ]
        },
        {
          "output_type": "stream",
          "name": "stderr",
          "text": [
            "\u001b[34m\u001b[1mwandb\u001b[0m: Agent Starting Run: m3eueaf6 with config:\n",
            "\u001b[34m\u001b[1mwandb\u001b[0m: \tactivation_func: relu\n",
            "\u001b[34m\u001b[1mwandb\u001b[0m: \tbatch_size: 64\n",
            "\u001b[34m\u001b[1mwandb\u001b[0m: \thiddenlayers: 5\n",
            "\u001b[34m\u001b[1mwandb\u001b[0m: \thiddennodes: 128\n",
            "\u001b[34m\u001b[1mwandb\u001b[0m: \tinitializer: Xavier\n",
            "\u001b[34m\u001b[1mwandb\u001b[0m: \tlearning_rate: 0.0005\n",
            "\u001b[34m\u001b[1mwandb\u001b[0m: \tloss: cross_entropy\n",
            "\u001b[34m\u001b[1mwandb\u001b[0m: \tnum_epochs: 15\n",
            "\u001b[34m\u001b[1mwandb\u001b[0m: \topt: nadam\n"
          ]
        },
        {
          "output_type": "display_data",
          "data": {
            "text/plain": [
              "<IPython.core.display.HTML object>"
            ],
            "text/html": [
              "Tracking run with wandb version 0.19.8"
            ]
          },
          "metadata": {}
        },
        {
          "output_type": "display_data",
          "data": {
            "text/plain": [
              "<IPython.core.display.HTML object>"
            ],
            "text/html": [
              "Run data is saved locally in <code>/content/wandb/run-20250316_154845-m3eueaf6</code>"
            ]
          },
          "metadata": {}
        },
        {
          "output_type": "display_data",
          "data": {
            "text/plain": [
              "<IPython.core.display.HTML object>"
            ],
            "text/html": [
              "Syncing run <strong><a href='https://wandb.ai/karapa-rajesh-iit-madras/DeepLearning/runs/m3eueaf6' target=\"_blank\">golden-sweep-1</a></strong> to <a href='https://wandb.ai/karapa-rajesh-iit-madras/DeepLearning' target=\"_blank\">Weights & Biases</a> (<a href='https://wandb.me/developer-guide' target=\"_blank\">docs</a>)<br>Sweep page: <a href='https://wandb.ai/karapa-rajesh-iit-madras/DeepLearning/sweeps/dzg25g50' target=\"_blank\">https://wandb.ai/karapa-rajesh-iit-madras/DeepLearning/sweeps/dzg25g50</a>"
            ]
          },
          "metadata": {}
        },
        {
          "output_type": "display_data",
          "data": {
            "text/plain": [
              "<IPython.core.display.HTML object>"
            ],
            "text/html": [
              " View project at <a href='https://wandb.ai/karapa-rajesh-iit-madras/DeepLearning' target=\"_blank\">https://wandb.ai/karapa-rajesh-iit-madras/DeepLearning</a>"
            ]
          },
          "metadata": {}
        },
        {
          "output_type": "display_data",
          "data": {
            "text/plain": [
              "<IPython.core.display.HTML object>"
            ],
            "text/html": [
              " View sweep at <a href='https://wandb.ai/karapa-rajesh-iit-madras/DeepLearning/sweeps/dzg25g50' target=\"_blank\">https://wandb.ai/karapa-rajesh-iit-madras/DeepLearning/sweeps/dzg25g50</a>"
            ]
          },
          "metadata": {}
        },
        {
          "output_type": "display_data",
          "data": {
            "text/plain": [
              "<IPython.core.display.HTML object>"
            ],
            "text/html": [
              " View run at <a href='https://wandb.ai/karapa-rajesh-iit-madras/DeepLearning/runs/m3eueaf6' target=\"_blank\">https://wandb.ai/karapa-rajesh-iit-madras/DeepLearning/runs/m3eueaf6</a>"
            ]
          },
          "metadata": {}
        },
        {
          "output_type": "display_data",
          "data": {
            "text/plain": [
              "<IPython.core.display.HTML object>"
            ],
            "text/html": []
          },
          "metadata": {}
        },
        {
          "output_type": "display_data",
          "data": {
            "text/plain": [
              "<IPython.core.display.HTML object>"
            ],
            "text/html": [
              "<br>    <style><br>        .wandb-row {<br>            display: flex;<br>            flex-direction: row;<br>            flex-wrap: wrap;<br>            justify-content: flex-start;<br>            width: 100%;<br>        }<br>        .wandb-col {<br>            display: flex;<br>            flex-direction: column;<br>            flex-basis: 100%;<br>            flex: 1;<br>            padding: 10px;<br>        }<br>    </style><br><div class=\"wandb-row\"><div class=\"wandb-col\"><h3>Run history:</h3><br/><table class=\"wandb\"><tr><td>epoch</td><td>▁▁▂▃▃▃▄▅▅▅▆▇▇▇█</td></tr><tr><td>loss</td><td>█▅▄▄▃▃▃▂▂▂▂▂▁▁▁</td></tr><tr><td>test_accuracy</td><td>▁</td></tr><tr><td>val_accuracy</td><td>▁▅▃▆▆▇▆▆▆█▇▅▇██</td></tr></table><br/></div><div class=\"wandb-col\"><h3>Run summary:</h3><br/><table class=\"wandb\"><tr><td>epoch</td><td>15</td></tr><tr><td>loss</td><td>0.19283</td></tr><tr><td>test_accuracy</td><td>0.8824</td></tr><tr><td>val_accuracy</td><td>0.88683</td></tr></table><br/></div></div>"
            ]
          },
          "metadata": {}
        },
        {
          "output_type": "display_data",
          "data": {
            "text/plain": [
              "<IPython.core.display.HTML object>"
            ],
            "text/html": [
              " View run <strong style=\"color:#cdcd00\">golden-sweep-1</strong> at: <a href='https://wandb.ai/karapa-rajesh-iit-madras/DeepLearning/runs/m3eueaf6' target=\"_blank\">https://wandb.ai/karapa-rajesh-iit-madras/DeepLearning/runs/m3eueaf6</a><br> View project at: <a href='https://wandb.ai/karapa-rajesh-iit-madras/DeepLearning' target=\"_blank\">https://wandb.ai/karapa-rajesh-iit-madras/DeepLearning</a><br>Synced 5 W&B file(s), 1 media file(s), 0 artifact file(s) and 0 other file(s)"
            ]
          },
          "metadata": {}
        },
        {
          "output_type": "display_data",
          "data": {
            "text/plain": [
              "<IPython.core.display.HTML object>"
            ],
            "text/html": [
              "Find logs at: <code>./wandb/run-20250316_154845-m3eueaf6/logs</code>"
            ]
          },
          "metadata": {}
        },
        {
          "output_type": "stream",
          "name": "stderr",
          "text": [
            "\u001b[34m\u001b[1mwandb\u001b[0m: Agent Starting Run: 6c0joq1m with config:\n",
            "\u001b[34m\u001b[1mwandb\u001b[0m: \tactivation_func: relu\n",
            "\u001b[34m\u001b[1mwandb\u001b[0m: \tbatch_size: 64\n",
            "\u001b[34m\u001b[1mwandb\u001b[0m: \thiddenlayers: 4\n",
            "\u001b[34m\u001b[1mwandb\u001b[0m: \thiddennodes: 256\n",
            "\u001b[34m\u001b[1mwandb\u001b[0m: \tinitializer: Xavier\n",
            "\u001b[34m\u001b[1mwandb\u001b[0m: \tlearning_rate: 0.0005\n",
            "\u001b[34m\u001b[1mwandb\u001b[0m: \tloss: cross_entropy\n",
            "\u001b[34m\u001b[1mwandb\u001b[0m: \tnum_epochs: 15\n",
            "\u001b[34m\u001b[1mwandb\u001b[0m: \topt: momentum\n"
          ]
        },
        {
          "output_type": "display_data",
          "data": {
            "text/plain": [
              "<IPython.core.display.HTML object>"
            ],
            "text/html": [
              "Tracking run with wandb version 0.19.8"
            ]
          },
          "metadata": {}
        },
        {
          "output_type": "display_data",
          "data": {
            "text/plain": [
              "<IPython.core.display.HTML object>"
            ],
            "text/html": [
              "Run data is saved locally in <code>/content/wandb/run-20250316_155112-6c0joq1m</code>"
            ]
          },
          "metadata": {}
        },
        {
          "output_type": "display_data",
          "data": {
            "text/plain": [
              "<IPython.core.display.HTML object>"
            ],
            "text/html": [
              "Syncing run <strong><a href='https://wandb.ai/karapa-rajesh-iit-madras/DeepLearning/runs/6c0joq1m' target=\"_blank\">worthy-sweep-2</a></strong> to <a href='https://wandb.ai/karapa-rajesh-iit-madras/DeepLearning' target=\"_blank\">Weights & Biases</a> (<a href='https://wandb.me/developer-guide' target=\"_blank\">docs</a>)<br>Sweep page: <a href='https://wandb.ai/karapa-rajesh-iit-madras/DeepLearning/sweeps/dzg25g50' target=\"_blank\">https://wandb.ai/karapa-rajesh-iit-madras/DeepLearning/sweeps/dzg25g50</a>"
            ]
          },
          "metadata": {}
        },
        {
          "output_type": "display_data",
          "data": {
            "text/plain": [
              "<IPython.core.display.HTML object>"
            ],
            "text/html": [
              " View project at <a href='https://wandb.ai/karapa-rajesh-iit-madras/DeepLearning' target=\"_blank\">https://wandb.ai/karapa-rajesh-iit-madras/DeepLearning</a>"
            ]
          },
          "metadata": {}
        },
        {
          "output_type": "display_data",
          "data": {
            "text/plain": [
              "<IPython.core.display.HTML object>"
            ],
            "text/html": [
              " View sweep at <a href='https://wandb.ai/karapa-rajesh-iit-madras/DeepLearning/sweeps/dzg25g50' target=\"_blank\">https://wandb.ai/karapa-rajesh-iit-madras/DeepLearning/sweeps/dzg25g50</a>"
            ]
          },
          "metadata": {}
        },
        {
          "output_type": "display_data",
          "data": {
            "text/plain": [
              "<IPython.core.display.HTML object>"
            ],
            "text/html": [
              " View run at <a href='https://wandb.ai/karapa-rajesh-iit-madras/DeepLearning/runs/6c0joq1m' target=\"_blank\">https://wandb.ai/karapa-rajesh-iit-madras/DeepLearning/runs/6c0joq1m</a>"
            ]
          },
          "metadata": {}
        },
        {
          "output_type": "display_data",
          "data": {
            "text/plain": [
              "<IPython.core.display.HTML object>"
            ],
            "text/html": []
          },
          "metadata": {}
        },
        {
          "output_type": "display_data",
          "data": {
            "text/plain": [
              "<IPython.core.display.HTML object>"
            ],
            "text/html": [
              "<br>    <style><br>        .wandb-row {<br>            display: flex;<br>            flex-direction: row;<br>            flex-wrap: wrap;<br>            justify-content: flex-start;<br>            width: 100%;<br>        }<br>        .wandb-col {<br>            display: flex;<br>            flex-direction: column;<br>            flex-basis: 100%;<br>            flex: 1;<br>            padding: 10px;<br>        }<br>    </style><br><div class=\"wandb-row\"><div class=\"wandb-col\"><h3>Run history:</h3><br/><table class=\"wandb\"><tr><td>epoch</td><td>▁▁▂▃▃▃▄▅▅▅▆▇▇▇█</td></tr><tr><td>loss</td><td>█▄▃▂▂▂▂▁▁▁▁▁▁▁▁</td></tr><tr><td>test_accuracy</td><td>▁</td></tr><tr><td>val_accuracy</td><td>▁▄▅▆▆▇▇▇▇▇▇████</td></tr></table><br/></div><div class=\"wandb-col\"><h3>Run summary:</h3><br/><table class=\"wandb\"><tr><td>epoch</td><td>15</td></tr><tr><td>loss</td><td>0.44253</td></tr><tr><td>test_accuracy</td><td>0.835</td></tr><tr><td>val_accuracy</td><td>0.842</td></tr></table><br/></div></div>"
            ]
          },
          "metadata": {}
        },
        {
          "output_type": "display_data",
          "data": {
            "text/plain": [
              "<IPython.core.display.HTML object>"
            ],
            "text/html": [
              " View run <strong style=\"color:#cdcd00\">worthy-sweep-2</strong> at: <a href='https://wandb.ai/karapa-rajesh-iit-madras/DeepLearning/runs/6c0joq1m' target=\"_blank\">https://wandb.ai/karapa-rajesh-iit-madras/DeepLearning/runs/6c0joq1m</a><br> View project at: <a href='https://wandb.ai/karapa-rajesh-iit-madras/DeepLearning' target=\"_blank\">https://wandb.ai/karapa-rajesh-iit-madras/DeepLearning</a><br>Synced 5 W&B file(s), 1 media file(s), 0 artifact file(s) and 0 other file(s)"
            ]
          },
          "metadata": {}
        },
        {
          "output_type": "display_data",
          "data": {
            "text/plain": [
              "<IPython.core.display.HTML object>"
            ],
            "text/html": [
              "Find logs at: <code>./wandb/run-20250316_155112-6c0joq1m/logs</code>"
            ]
          },
          "metadata": {}
        },
        {
          "output_type": "stream",
          "name": "stderr",
          "text": [
            "\u001b[34m\u001b[1mwandb\u001b[0m: Agent Starting Run: al4czcif with config:\n",
            "\u001b[34m\u001b[1mwandb\u001b[0m: \tactivation_func: relu\n",
            "\u001b[34m\u001b[1mwandb\u001b[0m: \tbatch_size: 64\n",
            "\u001b[34m\u001b[1mwandb\u001b[0m: \thiddenlayers: 4\n",
            "\u001b[34m\u001b[1mwandb\u001b[0m: \thiddennodes: 256\n",
            "\u001b[34m\u001b[1mwandb\u001b[0m: \tinitializer: Xavier\n",
            "\u001b[34m\u001b[1mwandb\u001b[0m: \tlearning_rate: 0.0005\n",
            "\u001b[34m\u001b[1mwandb\u001b[0m: \tloss: cross_entropy\n",
            "\u001b[34m\u001b[1mwandb\u001b[0m: \tnum_epochs: 10\n",
            "\u001b[34m\u001b[1mwandb\u001b[0m: \topt: momentum\n"
          ]
        },
        {
          "output_type": "display_data",
          "data": {
            "text/plain": [
              "<IPython.core.display.HTML object>"
            ],
            "text/html": [
              "Tracking run with wandb version 0.19.8"
            ]
          },
          "metadata": {}
        },
        {
          "output_type": "display_data",
          "data": {
            "text/plain": [
              "<IPython.core.display.HTML object>"
            ],
            "text/html": [
              "Run data is saved locally in <code>/content/wandb/run-20250316_155420-al4czcif</code>"
            ]
          },
          "metadata": {}
        },
        {
          "output_type": "display_data",
          "data": {
            "text/plain": [
              "<IPython.core.display.HTML object>"
            ],
            "text/html": [
              "Syncing run <strong><a href='https://wandb.ai/karapa-rajesh-iit-madras/DeepLearning/runs/al4czcif' target=\"_blank\">daily-sweep-3</a></strong> to <a href='https://wandb.ai/karapa-rajesh-iit-madras/DeepLearning' target=\"_blank\">Weights & Biases</a> (<a href='https://wandb.me/developer-guide' target=\"_blank\">docs</a>)<br>Sweep page: <a href='https://wandb.ai/karapa-rajesh-iit-madras/DeepLearning/sweeps/dzg25g50' target=\"_blank\">https://wandb.ai/karapa-rajesh-iit-madras/DeepLearning/sweeps/dzg25g50</a>"
            ]
          },
          "metadata": {}
        },
        {
          "output_type": "display_data",
          "data": {
            "text/plain": [
              "<IPython.core.display.HTML object>"
            ],
            "text/html": [
              " View project at <a href='https://wandb.ai/karapa-rajesh-iit-madras/DeepLearning' target=\"_blank\">https://wandb.ai/karapa-rajesh-iit-madras/DeepLearning</a>"
            ]
          },
          "metadata": {}
        },
        {
          "output_type": "display_data",
          "data": {
            "text/plain": [
              "<IPython.core.display.HTML object>"
            ],
            "text/html": [
              " View sweep at <a href='https://wandb.ai/karapa-rajesh-iit-madras/DeepLearning/sweeps/dzg25g50' target=\"_blank\">https://wandb.ai/karapa-rajesh-iit-madras/DeepLearning/sweeps/dzg25g50</a>"
            ]
          },
          "metadata": {}
        },
        {
          "output_type": "display_data",
          "data": {
            "text/plain": [
              "<IPython.core.display.HTML object>"
            ],
            "text/html": [
              " View run at <a href='https://wandb.ai/karapa-rajesh-iit-madras/DeepLearning/runs/al4czcif' target=\"_blank\">https://wandb.ai/karapa-rajesh-iit-madras/DeepLearning/runs/al4czcif</a>"
            ]
          },
          "metadata": {}
        },
        {
          "output_type": "display_data",
          "data": {
            "text/plain": [
              "<IPython.core.display.HTML object>"
            ],
            "text/html": []
          },
          "metadata": {}
        },
        {
          "output_type": "display_data",
          "data": {
            "text/plain": [
              "<IPython.core.display.HTML object>"
            ],
            "text/html": [
              "<br>    <style><br>        .wandb-row {<br>            display: flex;<br>            flex-direction: row;<br>            flex-wrap: wrap;<br>            justify-content: flex-start;<br>            width: 100%;<br>        }<br>        .wandb-col {<br>            display: flex;<br>            flex-direction: column;<br>            flex-basis: 100%;<br>            flex: 1;<br>            padding: 10px;<br>        }<br>    </style><br><div class=\"wandb-row\"><div class=\"wandb-col\"><h3>Run history:</h3><br/><table class=\"wandb\"><tr><td>epoch</td><td>▁▂▃▃▄▅▆▆▇█</td></tr><tr><td>loss</td><td>█▃▂▂▂▁▁▁▁▁</td></tr><tr><td>test_accuracy</td><td>▁</td></tr><tr><td>val_accuracy</td><td>▁▄▆▆▇▇▇███</td></tr></table><br/></div><div class=\"wandb-col\"><h3>Run summary:</h3><br/><table class=\"wandb\"><tr><td>epoch</td><td>10</td></tr><tr><td>loss</td><td>0.47825</td></tr><tr><td>test_accuracy</td><td>0.8234</td></tr><tr><td>val_accuracy</td><td>0.833</td></tr></table><br/></div></div>"
            ]
          },
          "metadata": {}
        },
        {
          "output_type": "display_data",
          "data": {
            "text/plain": [
              "<IPython.core.display.HTML object>"
            ],
            "text/html": [
              " View run <strong style=\"color:#cdcd00\">daily-sweep-3</strong> at: <a href='https://wandb.ai/karapa-rajesh-iit-madras/DeepLearning/runs/al4czcif' target=\"_blank\">https://wandb.ai/karapa-rajesh-iit-madras/DeepLearning/runs/al4czcif</a><br> View project at: <a href='https://wandb.ai/karapa-rajesh-iit-madras/DeepLearning' target=\"_blank\">https://wandb.ai/karapa-rajesh-iit-madras/DeepLearning</a><br>Synced 5 W&B file(s), 1 media file(s), 0 artifact file(s) and 0 other file(s)"
            ]
          },
          "metadata": {}
        },
        {
          "output_type": "display_data",
          "data": {
            "text/plain": [
              "<IPython.core.display.HTML object>"
            ],
            "text/html": [
              "Find logs at: <code>./wandb/run-20250316_155420-al4czcif/logs</code>"
            ]
          },
          "metadata": {}
        },
        {
          "output_type": "stream",
          "name": "stderr",
          "text": [
            "\u001b[34m\u001b[1mwandb\u001b[0m: Agent Starting Run: 2bmkmaiq with config:\n",
            "\u001b[34m\u001b[1mwandb\u001b[0m: \tactivation_func: relu\n",
            "\u001b[34m\u001b[1mwandb\u001b[0m: \tbatch_size: 128\n",
            "\u001b[34m\u001b[1mwandb\u001b[0m: \thiddenlayers: 5\n",
            "\u001b[34m\u001b[1mwandb\u001b[0m: \thiddennodes: 128\n",
            "\u001b[34m\u001b[1mwandb\u001b[0m: \tinitializer: Xavier\n",
            "\u001b[34m\u001b[1mwandb\u001b[0m: \tlearning_rate: 0.0005\n",
            "\u001b[34m\u001b[1mwandb\u001b[0m: \tloss: cross_entropy\n",
            "\u001b[34m\u001b[1mwandb\u001b[0m: \tnum_epochs: 15\n",
            "\u001b[34m\u001b[1mwandb\u001b[0m: \topt: nadam\n"
          ]
        },
        {
          "output_type": "display_data",
          "data": {
            "text/plain": [
              "<IPython.core.display.HTML object>"
            ],
            "text/html": [
              "Tracking run with wandb version 0.19.8"
            ]
          },
          "metadata": {}
        },
        {
          "output_type": "display_data",
          "data": {
            "text/plain": [
              "<IPython.core.display.HTML object>"
            ],
            "text/html": [
              "Run data is saved locally in <code>/content/wandb/run-20250316_155627-2bmkmaiq</code>"
            ]
          },
          "metadata": {}
        },
        {
          "output_type": "display_data",
          "data": {
            "text/plain": [
              "<IPython.core.display.HTML object>"
            ],
            "text/html": [
              "Syncing run <strong><a href='https://wandb.ai/karapa-rajesh-iit-madras/DeepLearning/runs/2bmkmaiq' target=\"_blank\">vibrant-sweep-4</a></strong> to <a href='https://wandb.ai/karapa-rajesh-iit-madras/DeepLearning' target=\"_blank\">Weights & Biases</a> (<a href='https://wandb.me/developer-guide' target=\"_blank\">docs</a>)<br>Sweep page: <a href='https://wandb.ai/karapa-rajesh-iit-madras/DeepLearning/sweeps/dzg25g50' target=\"_blank\">https://wandb.ai/karapa-rajesh-iit-madras/DeepLearning/sweeps/dzg25g50</a>"
            ]
          },
          "metadata": {}
        },
        {
          "output_type": "display_data",
          "data": {
            "text/plain": [
              "<IPython.core.display.HTML object>"
            ],
            "text/html": [
              " View project at <a href='https://wandb.ai/karapa-rajesh-iit-madras/DeepLearning' target=\"_blank\">https://wandb.ai/karapa-rajesh-iit-madras/DeepLearning</a>"
            ]
          },
          "metadata": {}
        },
        {
          "output_type": "display_data",
          "data": {
            "text/plain": [
              "<IPython.core.display.HTML object>"
            ],
            "text/html": [
              " View sweep at <a href='https://wandb.ai/karapa-rajesh-iit-madras/DeepLearning/sweeps/dzg25g50' target=\"_blank\">https://wandb.ai/karapa-rajesh-iit-madras/DeepLearning/sweeps/dzg25g50</a>"
            ]
          },
          "metadata": {}
        },
        {
          "output_type": "display_data",
          "data": {
            "text/plain": [
              "<IPython.core.display.HTML object>"
            ],
            "text/html": [
              " View run at <a href='https://wandb.ai/karapa-rajesh-iit-madras/DeepLearning/runs/2bmkmaiq' target=\"_blank\">https://wandb.ai/karapa-rajesh-iit-madras/DeepLearning/runs/2bmkmaiq</a>"
            ]
          },
          "metadata": {}
        },
        {
          "output_type": "display_data",
          "data": {
            "text/plain": [
              "<IPython.core.display.HTML object>"
            ],
            "text/html": []
          },
          "metadata": {}
        },
        {
          "output_type": "display_data",
          "data": {
            "text/plain": [
              "<IPython.core.display.HTML object>"
            ],
            "text/html": [
              "<br>    <style><br>        .wandb-row {<br>            display: flex;<br>            flex-direction: row;<br>            flex-wrap: wrap;<br>            justify-content: flex-start;<br>            width: 100%;<br>        }<br>        .wandb-col {<br>            display: flex;<br>            flex-direction: column;<br>            flex-basis: 100%;<br>            flex: 1;<br>            padding: 10px;<br>        }<br>    </style><br><div class=\"wandb-row\"><div class=\"wandb-col\"><h3>Run history:</h3><br/><table class=\"wandb\"><tr><td>epoch</td><td>▁▁▂▃▃▃▄▅▅▅▆▇▇▇█</td></tr><tr><td>loss</td><td>█▅▄▃▃▃▂▂▂▂▂▁▁▁▁</td></tr><tr><td>test_accuracy</td><td>▁</td></tr><tr><td>val_accuracy</td><td>▁▃▆▅▆▆▆▇▇▇▆▇█▇▆</td></tr></table><br/></div><div class=\"wandb-col\"><h3>Run summary:</h3><br/><table class=\"wandb\"><tr><td>epoch</td><td>15</td></tr><tr><td>loss</td><td>0.18945</td></tr><tr><td>test_accuracy</td><td>0.8817</td></tr><tr><td>val_accuracy</td><td>0.88217</td></tr></table><br/></div></div>"
            ]
          },
          "metadata": {}
        },
        {
          "output_type": "display_data",
          "data": {
            "text/plain": [
              "<IPython.core.display.HTML object>"
            ],
            "text/html": [
              " View run <strong style=\"color:#cdcd00\">vibrant-sweep-4</strong> at: <a href='https://wandb.ai/karapa-rajesh-iit-madras/DeepLearning/runs/2bmkmaiq' target=\"_blank\">https://wandb.ai/karapa-rajesh-iit-madras/DeepLearning/runs/2bmkmaiq</a><br> View project at: <a href='https://wandb.ai/karapa-rajesh-iit-madras/DeepLearning' target=\"_blank\">https://wandb.ai/karapa-rajesh-iit-madras/DeepLearning</a><br>Synced 5 W&B file(s), 1 media file(s), 0 artifact file(s) and 0 other file(s)"
            ]
          },
          "metadata": {}
        },
        {
          "output_type": "display_data",
          "data": {
            "text/plain": [
              "<IPython.core.display.HTML object>"
            ],
            "text/html": [
              "Find logs at: <code>./wandb/run-20250316_155627-2bmkmaiq/logs</code>"
            ]
          },
          "metadata": {}
        },
        {
          "output_type": "stream",
          "name": "stderr",
          "text": [
            "\u001b[34m\u001b[1mwandb\u001b[0m: Sweep Agent: Waiting for job.\n",
            "\u001b[34m\u001b[1mwandb\u001b[0m: Job received.\n",
            "\u001b[34m\u001b[1mwandb\u001b[0m: Agent Starting Run: lofc0gl6 with config:\n",
            "\u001b[34m\u001b[1mwandb\u001b[0m: \tactivation_func: relu\n",
            "\u001b[34m\u001b[1mwandb\u001b[0m: \tbatch_size: 128\n",
            "\u001b[34m\u001b[1mwandb\u001b[0m: \thiddenlayers: 5\n",
            "\u001b[34m\u001b[1mwandb\u001b[0m: \thiddennodes: 128\n",
            "\u001b[34m\u001b[1mwandb\u001b[0m: \tinitializer: Xavier\n",
            "\u001b[34m\u001b[1mwandb\u001b[0m: \tlearning_rate: 0.0005\n",
            "\u001b[34m\u001b[1mwandb\u001b[0m: \tloss: cross_entropy\n",
            "\u001b[34m\u001b[1mwandb\u001b[0m: \tnum_epochs: 15\n",
            "\u001b[34m\u001b[1mwandb\u001b[0m: \topt: nadam\n"
          ]
        },
        {
          "output_type": "display_data",
          "data": {
            "text/plain": [
              "<IPython.core.display.HTML object>"
            ],
            "text/html": [
              "Tracking run with wandb version 0.19.8"
            ]
          },
          "metadata": {}
        },
        {
          "output_type": "display_data",
          "data": {
            "text/plain": [
              "<IPython.core.display.HTML object>"
            ],
            "text/html": [
              "Run data is saved locally in <code>/content/wandb/run-20250316_155809-lofc0gl6</code>"
            ]
          },
          "metadata": {}
        },
        {
          "output_type": "display_data",
          "data": {
            "text/plain": [
              "<IPython.core.display.HTML object>"
            ],
            "text/html": [
              "Syncing run <strong><a href='https://wandb.ai/karapa-rajesh-iit-madras/DeepLearning/runs/lofc0gl6' target=\"_blank\">glorious-sweep-5</a></strong> to <a href='https://wandb.ai/karapa-rajesh-iit-madras/DeepLearning' target=\"_blank\">Weights & Biases</a> (<a href='https://wandb.me/developer-guide' target=\"_blank\">docs</a>)<br>Sweep page: <a href='https://wandb.ai/karapa-rajesh-iit-madras/DeepLearning/sweeps/dzg25g50' target=\"_blank\">https://wandb.ai/karapa-rajesh-iit-madras/DeepLearning/sweeps/dzg25g50</a>"
            ]
          },
          "metadata": {}
        },
        {
          "output_type": "display_data",
          "data": {
            "text/plain": [
              "<IPython.core.display.HTML object>"
            ],
            "text/html": [
              " View project at <a href='https://wandb.ai/karapa-rajesh-iit-madras/DeepLearning' target=\"_blank\">https://wandb.ai/karapa-rajesh-iit-madras/DeepLearning</a>"
            ]
          },
          "metadata": {}
        },
        {
          "output_type": "display_data",
          "data": {
            "text/plain": [
              "<IPython.core.display.HTML object>"
            ],
            "text/html": [
              " View sweep at <a href='https://wandb.ai/karapa-rajesh-iit-madras/DeepLearning/sweeps/dzg25g50' target=\"_blank\">https://wandb.ai/karapa-rajesh-iit-madras/DeepLearning/sweeps/dzg25g50</a>"
            ]
          },
          "metadata": {}
        },
        {
          "output_type": "display_data",
          "data": {
            "text/plain": [
              "<IPython.core.display.HTML object>"
            ],
            "text/html": [
              " View run at <a href='https://wandb.ai/karapa-rajesh-iit-madras/DeepLearning/runs/lofc0gl6' target=\"_blank\">https://wandb.ai/karapa-rajesh-iit-madras/DeepLearning/runs/lofc0gl6</a>"
            ]
          },
          "metadata": {}
        },
        {
          "output_type": "display_data",
          "data": {
            "text/plain": [
              "<IPython.core.display.HTML object>"
            ],
            "text/html": []
          },
          "metadata": {}
        },
        {
          "output_type": "display_data",
          "data": {
            "text/plain": [
              "<IPython.core.display.HTML object>"
            ],
            "text/html": [
              "<br>    <style><br>        .wandb-row {<br>            display: flex;<br>            flex-direction: row;<br>            flex-wrap: wrap;<br>            justify-content: flex-start;<br>            width: 100%;<br>        }<br>        .wandb-col {<br>            display: flex;<br>            flex-direction: column;<br>            flex-basis: 100%;<br>            flex: 1;<br>            padding: 10px;<br>        }<br>    </style><br><div class=\"wandb-row\"><div class=\"wandb-col\"><h3>Run history:</h3><br/><table class=\"wandb\"><tr><td>epoch</td><td>▁▁▂▃▃▃▄▅▅▅▆▇▇▇█</td></tr><tr><td>loss</td><td>█▅▄▄▃▃▃▂▂▂▂▂▁▁▁</td></tr><tr><td>test_accuracy</td><td>▁</td></tr><tr><td>val_accuracy</td><td>▁▃▄▅▆▆▆▇▇█▇▇▇▆█</td></tr></table><br/></div><div class=\"wandb-col\"><h3>Run summary:</h3><br/><table class=\"wandb\"><tr><td>epoch</td><td>15</td></tr><tr><td>loss</td><td>0.19035</td></tr><tr><td>test_accuracy</td><td>0.8812</td></tr><tr><td>val_accuracy</td><td>0.892</td></tr></table><br/></div></div>"
            ]
          },
          "metadata": {}
        },
        {
          "output_type": "display_data",
          "data": {
            "text/plain": [
              "<IPython.core.display.HTML object>"
            ],
            "text/html": [
              " View run <strong style=\"color:#cdcd00\">glorious-sweep-5</strong> at: <a href='https://wandb.ai/karapa-rajesh-iit-madras/DeepLearning/runs/lofc0gl6' target=\"_blank\">https://wandb.ai/karapa-rajesh-iit-madras/DeepLearning/runs/lofc0gl6</a><br> View project at: <a href='https://wandb.ai/karapa-rajesh-iit-madras/DeepLearning' target=\"_blank\">https://wandb.ai/karapa-rajesh-iit-madras/DeepLearning</a><br>Synced 5 W&B file(s), 1 media file(s), 0 artifact file(s) and 0 other file(s)"
            ]
          },
          "metadata": {}
        },
        {
          "output_type": "display_data",
          "data": {
            "text/plain": [
              "<IPython.core.display.HTML object>"
            ],
            "text/html": [
              "Find logs at: <code>./wandb/run-20250316_155809-lofc0gl6/logs</code>"
            ]
          },
          "metadata": {}
        },
        {
          "output_type": "stream",
          "name": "stderr",
          "text": [
            "\u001b[34m\u001b[1mwandb\u001b[0m: Agent Starting Run: mjc3ulsj with config:\n",
            "\u001b[34m\u001b[1mwandb\u001b[0m: \tactivation_func: relu\n",
            "\u001b[34m\u001b[1mwandb\u001b[0m: \tbatch_size: 128\n",
            "\u001b[34m\u001b[1mwandb\u001b[0m: \thiddenlayers: 5\n",
            "\u001b[34m\u001b[1mwandb\u001b[0m: \thiddennodes: 128\n",
            "\u001b[34m\u001b[1mwandb\u001b[0m: \tinitializer: Xavier\n",
            "\u001b[34m\u001b[1mwandb\u001b[0m: \tlearning_rate: 0.0005\n",
            "\u001b[34m\u001b[1mwandb\u001b[0m: \tloss: cross_entropy\n",
            "\u001b[34m\u001b[1mwandb\u001b[0m: \tnum_epochs: 15\n",
            "\u001b[34m\u001b[1mwandb\u001b[0m: \topt: nadam\n"
          ]
        },
        {
          "output_type": "display_data",
          "data": {
            "text/plain": [
              "<IPython.core.display.HTML object>"
            ],
            "text/html": [
              "Tracking run with wandb version 0.19.8"
            ]
          },
          "metadata": {}
        },
        {
          "output_type": "display_data",
          "data": {
            "text/plain": [
              "<IPython.core.display.HTML object>"
            ],
            "text/html": [
              "Run data is saved locally in <code>/content/wandb/run-20250316_155946-mjc3ulsj</code>"
            ]
          },
          "metadata": {}
        },
        {
          "output_type": "display_data",
          "data": {
            "text/plain": [
              "<IPython.core.display.HTML object>"
            ],
            "text/html": [
              "Syncing run <strong><a href='https://wandb.ai/karapa-rajesh-iit-madras/DeepLearning/runs/mjc3ulsj' target=\"_blank\">cool-sweep-6</a></strong> to <a href='https://wandb.ai/karapa-rajesh-iit-madras/DeepLearning' target=\"_blank\">Weights & Biases</a> (<a href='https://wandb.me/developer-guide' target=\"_blank\">docs</a>)<br>Sweep page: <a href='https://wandb.ai/karapa-rajesh-iit-madras/DeepLearning/sweeps/dzg25g50' target=\"_blank\">https://wandb.ai/karapa-rajesh-iit-madras/DeepLearning/sweeps/dzg25g50</a>"
            ]
          },
          "metadata": {}
        },
        {
          "output_type": "display_data",
          "data": {
            "text/plain": [
              "<IPython.core.display.HTML object>"
            ],
            "text/html": [
              " View project at <a href='https://wandb.ai/karapa-rajesh-iit-madras/DeepLearning' target=\"_blank\">https://wandb.ai/karapa-rajesh-iit-madras/DeepLearning</a>"
            ]
          },
          "metadata": {}
        },
        {
          "output_type": "display_data",
          "data": {
            "text/plain": [
              "<IPython.core.display.HTML object>"
            ],
            "text/html": [
              " View sweep at <a href='https://wandb.ai/karapa-rajesh-iit-madras/DeepLearning/sweeps/dzg25g50' target=\"_blank\">https://wandb.ai/karapa-rajesh-iit-madras/DeepLearning/sweeps/dzg25g50</a>"
            ]
          },
          "metadata": {}
        },
        {
          "output_type": "display_data",
          "data": {
            "text/plain": [
              "<IPython.core.display.HTML object>"
            ],
            "text/html": [
              " View run at <a href='https://wandb.ai/karapa-rajesh-iit-madras/DeepLearning/runs/mjc3ulsj' target=\"_blank\">https://wandb.ai/karapa-rajesh-iit-madras/DeepLearning/runs/mjc3ulsj</a>"
            ]
          },
          "metadata": {}
        },
        {
          "output_type": "display_data",
          "data": {
            "text/plain": [
              "<IPython.core.display.HTML object>"
            ],
            "text/html": []
          },
          "metadata": {}
        },
        {
          "output_type": "display_data",
          "data": {
            "text/plain": [
              "<IPython.core.display.HTML object>"
            ],
            "text/html": [
              "<br>    <style><br>        .wandb-row {<br>            display: flex;<br>            flex-direction: row;<br>            flex-wrap: wrap;<br>            justify-content: flex-start;<br>            width: 100%;<br>        }<br>        .wandb-col {<br>            display: flex;<br>            flex-direction: column;<br>            flex-basis: 100%;<br>            flex: 1;<br>            padding: 10px;<br>        }<br>    </style><br><div class=\"wandb-row\"><div class=\"wandb-col\"><h3>Run history:</h3><br/><table class=\"wandb\"><tr><td>epoch</td><td>▁▁▂▃▃▃▄▅▅▅▆▇▇▇█</td></tr><tr><td>loss</td><td>█▅▄▃▃▃▃▂▂▂▂▂▁▁▁</td></tr><tr><td>test_accuracy</td><td>▁</td></tr><tr><td>val_accuracy</td><td>▁▃▂▆▆▅▇▇▇███▇█▇</td></tr></table><br/></div><div class=\"wandb-col\"><h3>Run summary:</h3><br/><table class=\"wandb\"><tr><td>epoch</td><td>15</td></tr><tr><td>loss</td><td>0.1885</td></tr><tr><td>test_accuracy</td><td>0.8804</td></tr><tr><td>val_accuracy</td><td>0.88233</td></tr></table><br/></div></div>"
            ]
          },
          "metadata": {}
        },
        {
          "output_type": "display_data",
          "data": {
            "text/plain": [
              "<IPython.core.display.HTML object>"
            ],
            "text/html": [
              " View run <strong style=\"color:#cdcd00\">cool-sweep-6</strong> at: <a href='https://wandb.ai/karapa-rajesh-iit-madras/DeepLearning/runs/mjc3ulsj' target=\"_blank\">https://wandb.ai/karapa-rajesh-iit-madras/DeepLearning/runs/mjc3ulsj</a><br> View project at: <a href='https://wandb.ai/karapa-rajesh-iit-madras/DeepLearning' target=\"_blank\">https://wandb.ai/karapa-rajesh-iit-madras/DeepLearning</a><br>Synced 5 W&B file(s), 1 media file(s), 0 artifact file(s) and 0 other file(s)"
            ]
          },
          "metadata": {}
        },
        {
          "output_type": "display_data",
          "data": {
            "text/plain": [
              "<IPython.core.display.HTML object>"
            ],
            "text/html": [
              "Find logs at: <code>./wandb/run-20250316_155946-mjc3ulsj/logs</code>"
            ]
          },
          "metadata": {}
        },
        {
          "output_type": "stream",
          "name": "stderr",
          "text": [
            "\u001b[34m\u001b[1mwandb\u001b[0m: Agent Starting Run: miadaavt with config:\n",
            "\u001b[34m\u001b[1mwandb\u001b[0m: \tactivation_func: relu\n",
            "\u001b[34m\u001b[1mwandb\u001b[0m: \tbatch_size: 128\n",
            "\u001b[34m\u001b[1mwandb\u001b[0m: \thiddenlayers: 5\n",
            "\u001b[34m\u001b[1mwandb\u001b[0m: \thiddennodes: 128\n",
            "\u001b[34m\u001b[1mwandb\u001b[0m: \tinitializer: Xavier\n",
            "\u001b[34m\u001b[1mwandb\u001b[0m: \tlearning_rate: 0.0005\n",
            "\u001b[34m\u001b[1mwandb\u001b[0m: \tloss: cross_entropy\n",
            "\u001b[34m\u001b[1mwandb\u001b[0m: \tnum_epochs: 15\n",
            "\u001b[34m\u001b[1mwandb\u001b[0m: \topt: momentum\n"
          ]
        },
        {
          "output_type": "display_data",
          "data": {
            "text/plain": [
              "<IPython.core.display.HTML object>"
            ],
            "text/html": [
              "Tracking run with wandb version 0.19.8"
            ]
          },
          "metadata": {}
        },
        {
          "output_type": "display_data",
          "data": {
            "text/plain": [
              "<IPython.core.display.HTML object>"
            ],
            "text/html": [
              "Run data is saved locally in <code>/content/wandb/run-20250316_160122-miadaavt</code>"
            ]
          },
          "metadata": {}
        },
        {
          "output_type": "display_data",
          "data": {
            "text/plain": [
              "<IPython.core.display.HTML object>"
            ],
            "text/html": [
              "Syncing run <strong><a href='https://wandb.ai/karapa-rajesh-iit-madras/DeepLearning/runs/miadaavt' target=\"_blank\">vivid-sweep-7</a></strong> to <a href='https://wandb.ai/karapa-rajesh-iit-madras/DeepLearning' target=\"_blank\">Weights & Biases</a> (<a href='https://wandb.me/developer-guide' target=\"_blank\">docs</a>)<br>Sweep page: <a href='https://wandb.ai/karapa-rajesh-iit-madras/DeepLearning/sweeps/dzg25g50' target=\"_blank\">https://wandb.ai/karapa-rajesh-iit-madras/DeepLearning/sweeps/dzg25g50</a>"
            ]
          },
          "metadata": {}
        },
        {
          "output_type": "display_data",
          "data": {
            "text/plain": [
              "<IPython.core.display.HTML object>"
            ],
            "text/html": [
              " View project at <a href='https://wandb.ai/karapa-rajesh-iit-madras/DeepLearning' target=\"_blank\">https://wandb.ai/karapa-rajesh-iit-madras/DeepLearning</a>"
            ]
          },
          "metadata": {}
        },
        {
          "output_type": "display_data",
          "data": {
            "text/plain": [
              "<IPython.core.display.HTML object>"
            ],
            "text/html": [
              " View sweep at <a href='https://wandb.ai/karapa-rajesh-iit-madras/DeepLearning/sweeps/dzg25g50' target=\"_blank\">https://wandb.ai/karapa-rajesh-iit-madras/DeepLearning/sweeps/dzg25g50</a>"
            ]
          },
          "metadata": {}
        },
        {
          "output_type": "display_data",
          "data": {
            "text/plain": [
              "<IPython.core.display.HTML object>"
            ],
            "text/html": [
              " View run at <a href='https://wandb.ai/karapa-rajesh-iit-madras/DeepLearning/runs/miadaavt' target=\"_blank\">https://wandb.ai/karapa-rajesh-iit-madras/DeepLearning/runs/miadaavt</a>"
            ]
          },
          "metadata": {}
        },
        {
          "output_type": "display_data",
          "data": {
            "text/plain": [
              "<IPython.core.display.HTML object>"
            ],
            "text/html": []
          },
          "metadata": {}
        },
        {
          "output_type": "display_data",
          "data": {
            "text/plain": [
              "<IPython.core.display.HTML object>"
            ],
            "text/html": [
              "<br>    <style><br>        .wandb-row {<br>            display: flex;<br>            flex-direction: row;<br>            flex-wrap: wrap;<br>            justify-content: flex-start;<br>            width: 100%;<br>        }<br>        .wandb-col {<br>            display: flex;<br>            flex-direction: column;<br>            flex-basis: 100%;<br>            flex: 1;<br>            padding: 10px;<br>        }<br>    </style><br><div class=\"wandb-row\"><div class=\"wandb-col\"><h3>Run history:</h3><br/><table class=\"wandb\"><tr><td>epoch</td><td>▁▁▂▃▃▃▄▅▅▅▆▇▇▇█</td></tr><tr><td>loss</td><td>█▅▃▃▂▂▂▂▁▁▁▁▁▁▁</td></tr><tr><td>test_accuracy</td><td>▁</td></tr><tr><td>val_accuracy</td><td>▁▄▅▆▆▇▇▇▇▇█████</td></tr></table><br/></div><div class=\"wandb-col\"><h3>Run summary:</h3><br/><table class=\"wandb\"><tr><td>epoch</td><td>15</td></tr><tr><td>loss</td><td>0.52682</td></tr><tr><td>test_accuracy</td><td>0.8081</td></tr><tr><td>val_accuracy</td><td>0.81317</td></tr></table><br/></div></div>"
            ]
          },
          "metadata": {}
        },
        {
          "output_type": "display_data",
          "data": {
            "text/plain": [
              "<IPython.core.display.HTML object>"
            ],
            "text/html": [
              " View run <strong style=\"color:#cdcd00\">vivid-sweep-7</strong> at: <a href='https://wandb.ai/karapa-rajesh-iit-madras/DeepLearning/runs/miadaavt' target=\"_blank\">https://wandb.ai/karapa-rajesh-iit-madras/DeepLearning/runs/miadaavt</a><br> View project at: <a href='https://wandb.ai/karapa-rajesh-iit-madras/DeepLearning' target=\"_blank\">https://wandb.ai/karapa-rajesh-iit-madras/DeepLearning</a><br>Synced 5 W&B file(s), 1 media file(s), 0 artifact file(s) and 0 other file(s)"
            ]
          },
          "metadata": {}
        },
        {
          "output_type": "display_data",
          "data": {
            "text/plain": [
              "<IPython.core.display.HTML object>"
            ],
            "text/html": [
              "Find logs at: <code>./wandb/run-20250316_160122-miadaavt/logs</code>"
            ]
          },
          "metadata": {}
        },
        {
          "output_type": "stream",
          "name": "stderr",
          "text": [
            "\u001b[34m\u001b[1mwandb\u001b[0m: Agent Starting Run: hvfrssrk with config:\n",
            "\u001b[34m\u001b[1mwandb\u001b[0m: \tactivation_func: relu\n",
            "\u001b[34m\u001b[1mwandb\u001b[0m: \tbatch_size: 128\n",
            "\u001b[34m\u001b[1mwandb\u001b[0m: \thiddenlayers: 3\n",
            "\u001b[34m\u001b[1mwandb\u001b[0m: \thiddennodes: 128\n",
            "\u001b[34m\u001b[1mwandb\u001b[0m: \tinitializer: Xavier\n",
            "\u001b[34m\u001b[1mwandb\u001b[0m: \tlearning_rate: 0.001\n",
            "\u001b[34m\u001b[1mwandb\u001b[0m: \tloss: cross_entropy\n",
            "\u001b[34m\u001b[1mwandb\u001b[0m: \tnum_epochs: 15\n",
            "\u001b[34m\u001b[1mwandb\u001b[0m: \topt: momentum\n"
          ]
        },
        {
          "output_type": "display_data",
          "data": {
            "text/plain": [
              "<IPython.core.display.HTML object>"
            ],
            "text/html": [
              "Tracking run with wandb version 0.19.8"
            ]
          },
          "metadata": {}
        },
        {
          "output_type": "display_data",
          "data": {
            "text/plain": [
              "<IPython.core.display.HTML object>"
            ],
            "text/html": [
              "Run data is saved locally in <code>/content/wandb/run-20250316_160234-hvfrssrk</code>"
            ]
          },
          "metadata": {}
        },
        {
          "output_type": "display_data",
          "data": {
            "text/plain": [
              "<IPython.core.display.HTML object>"
            ],
            "text/html": [
              "Syncing run <strong><a href='https://wandb.ai/karapa-rajesh-iit-madras/DeepLearning/runs/hvfrssrk' target=\"_blank\">quiet-sweep-8</a></strong> to <a href='https://wandb.ai/karapa-rajesh-iit-madras/DeepLearning' target=\"_blank\">Weights & Biases</a> (<a href='https://wandb.me/developer-guide' target=\"_blank\">docs</a>)<br>Sweep page: <a href='https://wandb.ai/karapa-rajesh-iit-madras/DeepLearning/sweeps/dzg25g50' target=\"_blank\">https://wandb.ai/karapa-rajesh-iit-madras/DeepLearning/sweeps/dzg25g50</a>"
            ]
          },
          "metadata": {}
        },
        {
          "output_type": "display_data",
          "data": {
            "text/plain": [
              "<IPython.core.display.HTML object>"
            ],
            "text/html": [
              " View project at <a href='https://wandb.ai/karapa-rajesh-iit-madras/DeepLearning' target=\"_blank\">https://wandb.ai/karapa-rajesh-iit-madras/DeepLearning</a>"
            ]
          },
          "metadata": {}
        },
        {
          "output_type": "display_data",
          "data": {
            "text/plain": [
              "<IPython.core.display.HTML object>"
            ],
            "text/html": [
              " View sweep at <a href='https://wandb.ai/karapa-rajesh-iit-madras/DeepLearning/sweeps/dzg25g50' target=\"_blank\">https://wandb.ai/karapa-rajesh-iit-madras/DeepLearning/sweeps/dzg25g50</a>"
            ]
          },
          "metadata": {}
        },
        {
          "output_type": "display_data",
          "data": {
            "text/plain": [
              "<IPython.core.display.HTML object>"
            ],
            "text/html": [
              " View run at <a href='https://wandb.ai/karapa-rajesh-iit-madras/DeepLearning/runs/hvfrssrk' target=\"_blank\">https://wandb.ai/karapa-rajesh-iit-madras/DeepLearning/runs/hvfrssrk</a>"
            ]
          },
          "metadata": {}
        },
        {
          "output_type": "display_data",
          "data": {
            "text/plain": [
              "<IPython.core.display.HTML object>"
            ],
            "text/html": []
          },
          "metadata": {}
        },
        {
          "output_type": "display_data",
          "data": {
            "text/plain": [
              "<IPython.core.display.HTML object>"
            ],
            "text/html": [
              "<br>    <style><br>        .wandb-row {<br>            display: flex;<br>            flex-direction: row;<br>            flex-wrap: wrap;<br>            justify-content: flex-start;<br>            width: 100%;<br>        }<br>        .wandb-col {<br>            display: flex;<br>            flex-direction: column;<br>            flex-basis: 100%;<br>            flex: 1;<br>            padding: 10px;<br>        }<br>    </style><br><div class=\"wandb-row\"><div class=\"wandb-col\"><h3>Run history:</h3><br/><table class=\"wandb\"><tr><td>epoch</td><td>▁▁▂▃▃▃▄▅▅▅▆▇▇▇█</td></tr><tr><td>loss</td><td>█▄▃▂▂▂▂▁▁▁▁▁▁▁▁</td></tr><tr><td>test_accuracy</td><td>▁</td></tr><tr><td>val_accuracy</td><td>▁▄▅▆▆▇▇▇▇▇█████</td></tr></table><br/></div><div class=\"wandb-col\"><h3>Run summary:</h3><br/><table class=\"wandb\"><tr><td>epoch</td><td>15</td></tr><tr><td>loss</td><td>0.48894</td></tr><tr><td>test_accuracy</td><td>0.8186</td></tr><tr><td>val_accuracy</td><td>0.83</td></tr></table><br/></div></div>"
            ]
          },
          "metadata": {}
        },
        {
          "output_type": "display_data",
          "data": {
            "text/plain": [
              "<IPython.core.display.HTML object>"
            ],
            "text/html": [
              " View run <strong style=\"color:#cdcd00\">quiet-sweep-8</strong> at: <a href='https://wandb.ai/karapa-rajesh-iit-madras/DeepLearning/runs/hvfrssrk' target=\"_blank\">https://wandb.ai/karapa-rajesh-iit-madras/DeepLearning/runs/hvfrssrk</a><br> View project at: <a href='https://wandb.ai/karapa-rajesh-iit-madras/DeepLearning' target=\"_blank\">https://wandb.ai/karapa-rajesh-iit-madras/DeepLearning</a><br>Synced 5 W&B file(s), 1 media file(s), 0 artifact file(s) and 0 other file(s)"
            ]
          },
          "metadata": {}
        },
        {
          "output_type": "display_data",
          "data": {
            "text/plain": [
              "<IPython.core.display.HTML object>"
            ],
            "text/html": [
              "Find logs at: <code>./wandb/run-20250316_160234-hvfrssrk/logs</code>"
            ]
          },
          "metadata": {}
        },
        {
          "output_type": "stream",
          "name": "stderr",
          "text": [
            "\u001b[34m\u001b[1mwandb\u001b[0m: Agent Starting Run: pbb91o3h with config:\n",
            "\u001b[34m\u001b[1mwandb\u001b[0m: \tactivation_func: relu\n",
            "\u001b[34m\u001b[1mwandb\u001b[0m: \tbatch_size: 64\n",
            "\u001b[34m\u001b[1mwandb\u001b[0m: \thiddenlayers: 3\n",
            "\u001b[34m\u001b[1mwandb\u001b[0m: \thiddennodes: 256\n",
            "\u001b[34m\u001b[1mwandb\u001b[0m: \tinitializer: Xavier\n",
            "\u001b[34m\u001b[1mwandb\u001b[0m: \tlearning_rate: 0.001\n",
            "\u001b[34m\u001b[1mwandb\u001b[0m: \tloss: cross_entropy\n",
            "\u001b[34m\u001b[1mwandb\u001b[0m: \tnum_epochs: 15\n",
            "\u001b[34m\u001b[1mwandb\u001b[0m: \topt: adam\n"
          ]
        },
        {
          "output_type": "display_data",
          "data": {
            "text/plain": [
              "<IPython.core.display.HTML object>"
            ],
            "text/html": [
              "Tracking run with wandb version 0.19.8"
            ]
          },
          "metadata": {}
        },
        {
          "output_type": "display_data",
          "data": {
            "text/plain": [
              "<IPython.core.display.HTML object>"
            ],
            "text/html": [
              "Run data is saved locally in <code>/content/wandb/run-20250316_160329-pbb91o3h</code>"
            ]
          },
          "metadata": {}
        },
        {
          "output_type": "display_data",
          "data": {
            "text/plain": [
              "<IPython.core.display.HTML object>"
            ],
            "text/html": [
              "Syncing run <strong><a href='https://wandb.ai/karapa-rajesh-iit-madras/DeepLearning/runs/pbb91o3h' target=\"_blank\">worldly-sweep-9</a></strong> to <a href='https://wandb.ai/karapa-rajesh-iit-madras/DeepLearning' target=\"_blank\">Weights & Biases</a> (<a href='https://wandb.me/developer-guide' target=\"_blank\">docs</a>)<br>Sweep page: <a href='https://wandb.ai/karapa-rajesh-iit-madras/DeepLearning/sweeps/dzg25g50' target=\"_blank\">https://wandb.ai/karapa-rajesh-iit-madras/DeepLearning/sweeps/dzg25g50</a>"
            ]
          },
          "metadata": {}
        },
        {
          "output_type": "display_data",
          "data": {
            "text/plain": [
              "<IPython.core.display.HTML object>"
            ],
            "text/html": [
              " View project at <a href='https://wandb.ai/karapa-rajesh-iit-madras/DeepLearning' target=\"_blank\">https://wandb.ai/karapa-rajesh-iit-madras/DeepLearning</a>"
            ]
          },
          "metadata": {}
        },
        {
          "output_type": "display_data",
          "data": {
            "text/plain": [
              "<IPython.core.display.HTML object>"
            ],
            "text/html": [
              " View sweep at <a href='https://wandb.ai/karapa-rajesh-iit-madras/DeepLearning/sweeps/dzg25g50' target=\"_blank\">https://wandb.ai/karapa-rajesh-iit-madras/DeepLearning/sweeps/dzg25g50</a>"
            ]
          },
          "metadata": {}
        },
        {
          "output_type": "display_data",
          "data": {
            "text/plain": [
              "<IPython.core.display.HTML object>"
            ],
            "text/html": [
              " View run at <a href='https://wandb.ai/karapa-rajesh-iit-madras/DeepLearning/runs/pbb91o3h' target=\"_blank\">https://wandb.ai/karapa-rajesh-iit-madras/DeepLearning/runs/pbb91o3h</a>"
            ]
          },
          "metadata": {}
        },
        {
          "output_type": "display_data",
          "data": {
            "text/plain": [
              "<IPython.core.display.HTML object>"
            ],
            "text/html": []
          },
          "metadata": {}
        },
        {
          "output_type": "display_data",
          "data": {
            "text/plain": [
              "<IPython.core.display.HTML object>"
            ],
            "text/html": [
              "<br>    <style><br>        .wandb-row {<br>            display: flex;<br>            flex-direction: row;<br>            flex-wrap: wrap;<br>            justify-content: flex-start;<br>            width: 100%;<br>        }<br>        .wandb-col {<br>            display: flex;<br>            flex-direction: column;<br>            flex-basis: 100%;<br>            flex: 1;<br>            padding: 10px;<br>        }<br>    </style><br><div class=\"wandb-row\"><div class=\"wandb-col\"><h3>Run history:</h3><br/><table class=\"wandb\"><tr><td>epoch</td><td>▁▁▂▃▃▃▄▅▅▅▆▇▇▇█</td></tr><tr><td>loss</td><td>█▅▄▄▃▃▃▂▂▂▂▁▁▁▁</td></tr><tr><td>test_accuracy</td><td>▁</td></tr><tr><td>val_accuracy</td><td>▁▄▄▅▃▆▇▆▇▆▇▇█▆█</td></tr></table><br/></div><div class=\"wandb-col\"><h3>Run summary:</h3><br/><table class=\"wandb\"><tr><td>epoch</td><td>15</td></tr><tr><td>loss</td><td>0.18771</td></tr><tr><td>test_accuracy</td><td>0.8873</td></tr><tr><td>val_accuracy</td><td>0.8945</td></tr></table><br/></div></div>"
            ]
          },
          "metadata": {}
        },
        {
          "output_type": "display_data",
          "data": {
            "text/plain": [
              "<IPython.core.display.HTML object>"
            ],
            "text/html": [
              " View run <strong style=\"color:#cdcd00\">worldly-sweep-9</strong> at: <a href='https://wandb.ai/karapa-rajesh-iit-madras/DeepLearning/runs/pbb91o3h' target=\"_blank\">https://wandb.ai/karapa-rajesh-iit-madras/DeepLearning/runs/pbb91o3h</a><br> View project at: <a href='https://wandb.ai/karapa-rajesh-iit-madras/DeepLearning' target=\"_blank\">https://wandb.ai/karapa-rajesh-iit-madras/DeepLearning</a><br>Synced 5 W&B file(s), 1 media file(s), 0 artifact file(s) and 0 other file(s)"
            ]
          },
          "metadata": {}
        },
        {
          "output_type": "display_data",
          "data": {
            "text/plain": [
              "<IPython.core.display.HTML object>"
            ],
            "text/html": [
              "Find logs at: <code>./wandb/run-20250316_160329-pbb91o3h/logs</code>"
            ]
          },
          "metadata": {}
        },
        {
          "output_type": "stream",
          "name": "stderr",
          "text": [
            "\u001b[34m\u001b[1mwandb\u001b[0m: Agent Starting Run: uanvnm5j with config:\n",
            "\u001b[34m\u001b[1mwandb\u001b[0m: \tactivation_func: relu\n",
            "\u001b[34m\u001b[1mwandb\u001b[0m: \tbatch_size: 64\n",
            "\u001b[34m\u001b[1mwandb\u001b[0m: \thiddenlayers: 5\n",
            "\u001b[34m\u001b[1mwandb\u001b[0m: \thiddennodes: 256\n",
            "\u001b[34m\u001b[1mwandb\u001b[0m: \tinitializer: Xavier\n",
            "\u001b[34m\u001b[1mwandb\u001b[0m: \tlearning_rate: 0.001\n",
            "\u001b[34m\u001b[1mwandb\u001b[0m: \tloss: cross_entropy\n",
            "\u001b[34m\u001b[1mwandb\u001b[0m: \tnum_epochs: 10\n",
            "\u001b[34m\u001b[1mwandb\u001b[0m: \topt: rmsprop\n"
          ]
        },
        {
          "output_type": "display_data",
          "data": {
            "text/plain": [
              "<IPython.core.display.HTML object>"
            ],
            "text/html": [
              "Tracking run with wandb version 0.19.8"
            ]
          },
          "metadata": {}
        },
        {
          "output_type": "display_data",
          "data": {
            "text/plain": [
              "<IPython.core.display.HTML object>"
            ],
            "text/html": [
              "Run data is saved locally in <code>/content/wandb/run-20250316_160722-uanvnm5j</code>"
            ]
          },
          "metadata": {}
        },
        {
          "output_type": "display_data",
          "data": {
            "text/plain": [
              "<IPython.core.display.HTML object>"
            ],
            "text/html": [
              "Syncing run <strong><a href='https://wandb.ai/karapa-rajesh-iit-madras/DeepLearning/runs/uanvnm5j' target=\"_blank\">silver-sweep-10</a></strong> to <a href='https://wandb.ai/karapa-rajesh-iit-madras/DeepLearning' target=\"_blank\">Weights & Biases</a> (<a href='https://wandb.me/developer-guide' target=\"_blank\">docs</a>)<br>Sweep page: <a href='https://wandb.ai/karapa-rajesh-iit-madras/DeepLearning/sweeps/dzg25g50' target=\"_blank\">https://wandb.ai/karapa-rajesh-iit-madras/DeepLearning/sweeps/dzg25g50</a>"
            ]
          },
          "metadata": {}
        },
        {
          "output_type": "display_data",
          "data": {
            "text/plain": [
              "<IPython.core.display.HTML object>"
            ],
            "text/html": [
              " View project at <a href='https://wandb.ai/karapa-rajesh-iit-madras/DeepLearning' target=\"_blank\">https://wandb.ai/karapa-rajesh-iit-madras/DeepLearning</a>"
            ]
          },
          "metadata": {}
        },
        {
          "output_type": "display_data",
          "data": {
            "text/plain": [
              "<IPython.core.display.HTML object>"
            ],
            "text/html": [
              " View sweep at <a href='https://wandb.ai/karapa-rajesh-iit-madras/DeepLearning/sweeps/dzg25g50' target=\"_blank\">https://wandb.ai/karapa-rajesh-iit-madras/DeepLearning/sweeps/dzg25g50</a>"
            ]
          },
          "metadata": {}
        },
        {
          "output_type": "display_data",
          "data": {
            "text/plain": [
              "<IPython.core.display.HTML object>"
            ],
            "text/html": [
              " View run at <a href='https://wandb.ai/karapa-rajesh-iit-madras/DeepLearning/runs/uanvnm5j' target=\"_blank\">https://wandb.ai/karapa-rajesh-iit-madras/DeepLearning/runs/uanvnm5j</a>"
            ]
          },
          "metadata": {}
        },
        {
          "output_type": "display_data",
          "data": {
            "text/plain": [
              "<IPython.core.display.HTML object>"
            ],
            "text/html": []
          },
          "metadata": {}
        },
        {
          "output_type": "display_data",
          "data": {
            "text/plain": [
              "<IPython.core.display.HTML object>"
            ],
            "text/html": [
              "<br>    <style><br>        .wandb-row {<br>            display: flex;<br>            flex-direction: row;<br>            flex-wrap: wrap;<br>            justify-content: flex-start;<br>            width: 100%;<br>        }<br>        .wandb-col {<br>            display: flex;<br>            flex-direction: column;<br>            flex-basis: 100%;<br>            flex: 1;<br>            padding: 10px;<br>        }<br>    </style><br><div class=\"wandb-row\"><div class=\"wandb-col\"><h3>Run history:</h3><br/><table class=\"wandb\"><tr><td>epoch</td><td>▁▂▃▃▄▅▆▆▇█</td></tr><tr><td>loss</td><td>█▃▂▂▂▂▁▁▁▁</td></tr><tr><td>test_accuracy</td><td>▁</td></tr><tr><td>val_accuracy</td><td>▁▅▄█▇▅▇█▆▆</td></tr></table><br/></div><div class=\"wandb-col\"><h3>Run summary:</h3><br/><table class=\"wandb\"><tr><td>epoch</td><td>10</td></tr><tr><td>loss</td><td>0.34148</td></tr><tr><td>test_accuracy</td><td>0.8553</td></tr><tr><td>val_accuracy</td><td>0.86367</td></tr></table><br/></div></div>"
            ]
          },
          "metadata": {}
        },
        {
          "output_type": "display_data",
          "data": {
            "text/plain": [
              "<IPython.core.display.HTML object>"
            ],
            "text/html": [
              " View run <strong style=\"color:#cdcd00\">silver-sweep-10</strong> at: <a href='https://wandb.ai/karapa-rajesh-iit-madras/DeepLearning/runs/uanvnm5j' target=\"_blank\">https://wandb.ai/karapa-rajesh-iit-madras/DeepLearning/runs/uanvnm5j</a><br> View project at: <a href='https://wandb.ai/karapa-rajesh-iit-madras/DeepLearning' target=\"_blank\">https://wandb.ai/karapa-rajesh-iit-madras/DeepLearning</a><br>Synced 5 W&B file(s), 1 media file(s), 0 artifact file(s) and 0 other file(s)"
            ]
          },
          "metadata": {}
        },
        {
          "output_type": "display_data",
          "data": {
            "text/plain": [
              "<IPython.core.display.HTML object>"
            ],
            "text/html": [
              "Find logs at: <code>./wandb/run-20250316_160722-uanvnm5j/logs</code>"
            ]
          },
          "metadata": {}
        },
        {
          "output_type": "stream",
          "name": "stderr",
          "text": [
            "\u001b[34m\u001b[1mwandb\u001b[0m: Sweep Agent: Waiting for job.\n",
            "\u001b[34m\u001b[1mwandb\u001b[0m: Job received.\n",
            "\u001b[34m\u001b[1mwandb\u001b[0m: Agent Starting Run: jse0ev9q with config:\n",
            "\u001b[34m\u001b[1mwandb\u001b[0m: \tactivation_func: relu\n",
            "\u001b[34m\u001b[1mwandb\u001b[0m: \tbatch_size: 64\n",
            "\u001b[34m\u001b[1mwandb\u001b[0m: \thiddenlayers: 5\n",
            "\u001b[34m\u001b[1mwandb\u001b[0m: \thiddennodes: 256\n",
            "\u001b[34m\u001b[1mwandb\u001b[0m: \tinitializer: Xavier\n",
            "\u001b[34m\u001b[1mwandb\u001b[0m: \tlearning_rate: 0.001\n",
            "\u001b[34m\u001b[1mwandb\u001b[0m: \tloss: cross_entropy\n",
            "\u001b[34m\u001b[1mwandb\u001b[0m: \tnum_epochs: 15\n",
            "\u001b[34m\u001b[1mwandb\u001b[0m: \topt: nadam\n"
          ]
        },
        {
          "output_type": "display_data",
          "data": {
            "text/plain": [
              "<IPython.core.display.HTML object>"
            ],
            "text/html": [
              "Tracking run with wandb version 0.19.8"
            ]
          },
          "metadata": {}
        },
        {
          "output_type": "display_data",
          "data": {
            "text/plain": [
              "<IPython.core.display.HTML object>"
            ],
            "text/html": [
              "Run data is saved locally in <code>/content/wandb/run-20250316_161030-jse0ev9q</code>"
            ]
          },
          "metadata": {}
        },
        {
          "output_type": "display_data",
          "data": {
            "text/plain": [
              "<IPython.core.display.HTML object>"
            ],
            "text/html": [
              "Syncing run <strong><a href='https://wandb.ai/karapa-rajesh-iit-madras/DeepLearning/runs/jse0ev9q' target=\"_blank\">charmed-sweep-11</a></strong> to <a href='https://wandb.ai/karapa-rajesh-iit-madras/DeepLearning' target=\"_blank\">Weights & Biases</a> (<a href='https://wandb.me/developer-guide' target=\"_blank\">docs</a>)<br>Sweep page: <a href='https://wandb.ai/karapa-rajesh-iit-madras/DeepLearning/sweeps/dzg25g50' target=\"_blank\">https://wandb.ai/karapa-rajesh-iit-madras/DeepLearning/sweeps/dzg25g50</a>"
            ]
          },
          "metadata": {}
        },
        {
          "output_type": "display_data",
          "data": {
            "text/plain": [
              "<IPython.core.display.HTML object>"
            ],
            "text/html": [
              " View project at <a href='https://wandb.ai/karapa-rajesh-iit-madras/DeepLearning' target=\"_blank\">https://wandb.ai/karapa-rajesh-iit-madras/DeepLearning</a>"
            ]
          },
          "metadata": {}
        },
        {
          "output_type": "display_data",
          "data": {
            "text/plain": [
              "<IPython.core.display.HTML object>"
            ],
            "text/html": [
              " View sweep at <a href='https://wandb.ai/karapa-rajesh-iit-madras/DeepLearning/sweeps/dzg25g50' target=\"_blank\">https://wandb.ai/karapa-rajesh-iit-madras/DeepLearning/sweeps/dzg25g50</a>"
            ]
          },
          "metadata": {}
        },
        {
          "output_type": "display_data",
          "data": {
            "text/plain": [
              "<IPython.core.display.HTML object>"
            ],
            "text/html": [
              " View run at <a href='https://wandb.ai/karapa-rajesh-iit-madras/DeepLearning/runs/jse0ev9q' target=\"_blank\">https://wandb.ai/karapa-rajesh-iit-madras/DeepLearning/runs/jse0ev9q</a>"
            ]
          },
          "metadata": {}
        },
        {
          "output_type": "display_data",
          "data": {
            "text/plain": [
              "<IPython.core.display.HTML object>"
            ],
            "text/html": []
          },
          "metadata": {}
        },
        {
          "output_type": "display_data",
          "data": {
            "text/plain": [
              "<IPython.core.display.HTML object>"
            ],
            "text/html": [
              "<br>    <style><br>        .wandb-row {<br>            display: flex;<br>            flex-direction: row;<br>            flex-wrap: wrap;<br>            justify-content: flex-start;<br>            width: 100%;<br>        }<br>        .wandb-col {<br>            display: flex;<br>            flex-direction: column;<br>            flex-basis: 100%;<br>            flex: 1;<br>            padding: 10px;<br>        }<br>    </style><br><div class=\"wandb-row\"><div class=\"wandb-col\"><h3>Run history:</h3><br/><table class=\"wandb\"><tr><td>epoch</td><td>▁▁▂▃▃▃▄▅▅▅▆▇▇▇█</td></tr><tr><td>loss</td><td>█▅▄▄▃▃▃▂▂▂▂▂▁▁▁</td></tr><tr><td>test_accuracy</td><td>▁</td></tr><tr><td>val_accuracy</td><td>▁▁▅▅▆▇▆▆▆▇▇█▇██</td></tr></table><br/></div><div class=\"wandb-col\"><h3>Run summary:</h3><br/><table class=\"wandb\"><tr><td>epoch</td><td>15</td></tr><tr><td>loss</td><td>0.19517</td></tr><tr><td>test_accuracy</td><td>0.8862</td></tr><tr><td>val_accuracy</td><td>0.8895</td></tr></table><br/></div></div>"
            ]
          },
          "metadata": {}
        },
        {
          "output_type": "display_data",
          "data": {
            "text/plain": [
              "<IPython.core.display.HTML object>"
            ],
            "text/html": [
              " View run <strong style=\"color:#cdcd00\">charmed-sweep-11</strong> at: <a href='https://wandb.ai/karapa-rajesh-iit-madras/DeepLearning/runs/jse0ev9q' target=\"_blank\">https://wandb.ai/karapa-rajesh-iit-madras/DeepLearning/runs/jse0ev9q</a><br> View project at: <a href='https://wandb.ai/karapa-rajesh-iit-madras/DeepLearning' target=\"_blank\">https://wandb.ai/karapa-rajesh-iit-madras/DeepLearning</a><br>Synced 5 W&B file(s), 1 media file(s), 0 artifact file(s) and 0 other file(s)"
            ]
          },
          "metadata": {}
        },
        {
          "output_type": "display_data",
          "data": {
            "text/plain": [
              "<IPython.core.display.HTML object>"
            ],
            "text/html": [
              "Find logs at: <code>./wandb/run-20250316_161030-jse0ev9q/logs</code>"
            ]
          },
          "metadata": {}
        },
        {
          "output_type": "stream",
          "name": "stderr",
          "text": [
            "\u001b[34m\u001b[1mwandb\u001b[0m: Sweep Agent: Waiting for job.\n",
            "\u001b[34m\u001b[1mwandb\u001b[0m: Job received.\n",
            "\u001b[34m\u001b[1mwandb\u001b[0m: Agent Starting Run: 9wshp958 with config:\n",
            "\u001b[34m\u001b[1mwandb\u001b[0m: \tactivation_func: relu\n",
            "\u001b[34m\u001b[1mwandb\u001b[0m: \tbatch_size: 64\n",
            "\u001b[34m\u001b[1mwandb\u001b[0m: \thiddenlayers: 3\n",
            "\u001b[34m\u001b[1mwandb\u001b[0m: \thiddennodes: 128\n",
            "\u001b[34m\u001b[1mwandb\u001b[0m: \tinitializer: Xavier\n",
            "\u001b[34m\u001b[1mwandb\u001b[0m: \tlearning_rate: 0.001\n",
            "\u001b[34m\u001b[1mwandb\u001b[0m: \tloss: cross_entropy\n",
            "\u001b[34m\u001b[1mwandb\u001b[0m: \tnum_epochs: 10\n",
            "\u001b[34m\u001b[1mwandb\u001b[0m: \topt: nadam\n"
          ]
        },
        {
          "output_type": "display_data",
          "data": {
            "text/plain": [
              "<IPython.core.display.HTML object>"
            ],
            "text/html": [
              "Tracking run with wandb version 0.19.8"
            ]
          },
          "metadata": {}
        },
        {
          "output_type": "display_data",
          "data": {
            "text/plain": [
              "<IPython.core.display.HTML object>"
            ],
            "text/html": [
              "Run data is saved locally in <code>/content/wandb/run-20250316_161710-9wshp958</code>"
            ]
          },
          "metadata": {}
        },
        {
          "output_type": "display_data",
          "data": {
            "text/plain": [
              "<IPython.core.display.HTML object>"
            ],
            "text/html": [
              "Syncing run <strong><a href='https://wandb.ai/karapa-rajesh-iit-madras/DeepLearning/runs/9wshp958' target=\"_blank\">devout-sweep-12</a></strong> to <a href='https://wandb.ai/karapa-rajesh-iit-madras/DeepLearning' target=\"_blank\">Weights & Biases</a> (<a href='https://wandb.me/developer-guide' target=\"_blank\">docs</a>)<br>Sweep page: <a href='https://wandb.ai/karapa-rajesh-iit-madras/DeepLearning/sweeps/dzg25g50' target=\"_blank\">https://wandb.ai/karapa-rajesh-iit-madras/DeepLearning/sweeps/dzg25g50</a>"
            ]
          },
          "metadata": {}
        },
        {
          "output_type": "display_data",
          "data": {
            "text/plain": [
              "<IPython.core.display.HTML object>"
            ],
            "text/html": [
              " View project at <a href='https://wandb.ai/karapa-rajesh-iit-madras/DeepLearning' target=\"_blank\">https://wandb.ai/karapa-rajesh-iit-madras/DeepLearning</a>"
            ]
          },
          "metadata": {}
        },
        {
          "output_type": "display_data",
          "data": {
            "text/plain": [
              "<IPython.core.display.HTML object>"
            ],
            "text/html": [
              " View sweep at <a href='https://wandb.ai/karapa-rajesh-iit-madras/DeepLearning/sweeps/dzg25g50' target=\"_blank\">https://wandb.ai/karapa-rajesh-iit-madras/DeepLearning/sweeps/dzg25g50</a>"
            ]
          },
          "metadata": {}
        },
        {
          "output_type": "display_data",
          "data": {
            "text/plain": [
              "<IPython.core.display.HTML object>"
            ],
            "text/html": [
              " View run at <a href='https://wandb.ai/karapa-rajesh-iit-madras/DeepLearning/runs/9wshp958' target=\"_blank\">https://wandb.ai/karapa-rajesh-iit-madras/DeepLearning/runs/9wshp958</a>"
            ]
          },
          "metadata": {}
        },
        {
          "output_type": "display_data",
          "data": {
            "text/plain": [
              "<IPython.core.display.HTML object>"
            ],
            "text/html": []
          },
          "metadata": {}
        },
        {
          "output_type": "display_data",
          "data": {
            "text/plain": [
              "<IPython.core.display.HTML object>"
            ],
            "text/html": [
              "<br>    <style><br>        .wandb-row {<br>            display: flex;<br>            flex-direction: row;<br>            flex-wrap: wrap;<br>            justify-content: flex-start;<br>            width: 100%;<br>        }<br>        .wandb-col {<br>            display: flex;<br>            flex-direction: column;<br>            flex-basis: 100%;<br>            flex: 1;<br>            padding: 10px;<br>        }<br>    </style><br><div class=\"wandb-row\"><div class=\"wandb-col\"><h3>Run history:</h3><br/><table class=\"wandb\"><tr><td>epoch</td><td>▁▂▃▃▄▅▆▆▇█</td></tr><tr><td>loss</td><td>█▄▄▃▂▂▂▁▁▁</td></tr><tr><td>test_accuracy</td><td>▁</td></tr><tr><td>val_accuracy</td><td>▁▅▄▅▅▇▅██▇</td></tr></table><br/></div><div class=\"wandb-col\"><h3>Run summary:</h3><br/><table class=\"wandb\"><tr><td>epoch</td><td>10</td></tr><tr><td>loss</td><td>0.22979</td></tr><tr><td>test_accuracy</td><td>0.8795</td></tr><tr><td>val_accuracy</td><td>0.885</td></tr></table><br/></div></div>"
            ]
          },
          "metadata": {}
        },
        {
          "output_type": "display_data",
          "data": {
            "text/plain": [
              "<IPython.core.display.HTML object>"
            ],
            "text/html": [
              " View run <strong style=\"color:#cdcd00\">devout-sweep-12</strong> at: <a href='https://wandb.ai/karapa-rajesh-iit-madras/DeepLearning/runs/9wshp958' target=\"_blank\">https://wandb.ai/karapa-rajesh-iit-madras/DeepLearning/runs/9wshp958</a><br> View project at: <a href='https://wandb.ai/karapa-rajesh-iit-madras/DeepLearning' target=\"_blank\">https://wandb.ai/karapa-rajesh-iit-madras/DeepLearning</a><br>Synced 5 W&B file(s), 1 media file(s), 0 artifact file(s) and 0 other file(s)"
            ]
          },
          "metadata": {}
        },
        {
          "output_type": "display_data",
          "data": {
            "text/plain": [
              "<IPython.core.display.HTML object>"
            ],
            "text/html": [
              "Find logs at: <code>./wandb/run-20250316_161710-9wshp958/logs</code>"
            ]
          },
          "metadata": {}
        },
        {
          "output_type": "stream",
          "name": "stderr",
          "text": [
            "\u001b[34m\u001b[1mwandb\u001b[0m: Agent Starting Run: t4ef1ric with config:\n",
            "\u001b[34m\u001b[1mwandb\u001b[0m: \tactivation_func: relu\n",
            "\u001b[34m\u001b[1mwandb\u001b[0m: \tbatch_size: 128\n",
            "\u001b[34m\u001b[1mwandb\u001b[0m: \thiddenlayers: 3\n",
            "\u001b[34m\u001b[1mwandb\u001b[0m: \thiddennodes: 128\n",
            "\u001b[34m\u001b[1mwandb\u001b[0m: \tinitializer: Xavier\n",
            "\u001b[34m\u001b[1mwandb\u001b[0m: \tlearning_rate: 0.001\n",
            "\u001b[34m\u001b[1mwandb\u001b[0m: \tloss: cross_entropy\n",
            "\u001b[34m\u001b[1mwandb\u001b[0m: \tnum_epochs: 10\n",
            "\u001b[34m\u001b[1mwandb\u001b[0m: \topt: adam\n"
          ]
        },
        {
          "output_type": "display_data",
          "data": {
            "text/plain": [
              "<IPython.core.display.HTML object>"
            ],
            "text/html": [
              "Tracking run with wandb version 0.19.8"
            ]
          },
          "metadata": {}
        },
        {
          "output_type": "display_data",
          "data": {
            "text/plain": [
              "<IPython.core.display.HTML object>"
            ],
            "text/html": [
              "Run data is saved locally in <code>/content/wandb/run-20250316_161823-t4ef1ric</code>"
            ]
          },
          "metadata": {}
        },
        {
          "output_type": "display_data",
          "data": {
            "text/plain": [
              "<IPython.core.display.HTML object>"
            ],
            "text/html": [
              "Syncing run <strong><a href='https://wandb.ai/karapa-rajesh-iit-madras/DeepLearning/runs/t4ef1ric' target=\"_blank\">balmy-sweep-13</a></strong> to <a href='https://wandb.ai/karapa-rajesh-iit-madras/DeepLearning' target=\"_blank\">Weights & Biases</a> (<a href='https://wandb.me/developer-guide' target=\"_blank\">docs</a>)<br>Sweep page: <a href='https://wandb.ai/karapa-rajesh-iit-madras/DeepLearning/sweeps/dzg25g50' target=\"_blank\">https://wandb.ai/karapa-rajesh-iit-madras/DeepLearning/sweeps/dzg25g50</a>"
            ]
          },
          "metadata": {}
        },
        {
          "output_type": "display_data",
          "data": {
            "text/plain": [
              "<IPython.core.display.HTML object>"
            ],
            "text/html": [
              " View project at <a href='https://wandb.ai/karapa-rajesh-iit-madras/DeepLearning' target=\"_blank\">https://wandb.ai/karapa-rajesh-iit-madras/DeepLearning</a>"
            ]
          },
          "metadata": {}
        },
        {
          "output_type": "display_data",
          "data": {
            "text/plain": [
              "<IPython.core.display.HTML object>"
            ],
            "text/html": [
              " View sweep at <a href='https://wandb.ai/karapa-rajesh-iit-madras/DeepLearning/sweeps/dzg25g50' target=\"_blank\">https://wandb.ai/karapa-rajesh-iit-madras/DeepLearning/sweeps/dzg25g50</a>"
            ]
          },
          "metadata": {}
        },
        {
          "output_type": "display_data",
          "data": {
            "text/plain": [
              "<IPython.core.display.HTML object>"
            ],
            "text/html": [
              " View run at <a href='https://wandb.ai/karapa-rajesh-iit-madras/DeepLearning/runs/t4ef1ric' target=\"_blank\">https://wandb.ai/karapa-rajesh-iit-madras/DeepLearning/runs/t4ef1ric</a>"
            ]
          },
          "metadata": {}
        },
        {
          "output_type": "display_data",
          "data": {
            "text/plain": [
              "<IPython.core.display.HTML object>"
            ],
            "text/html": []
          },
          "metadata": {}
        },
        {
          "output_type": "display_data",
          "data": {
            "text/plain": [
              "<IPython.core.display.HTML object>"
            ],
            "text/html": [
              "<br>    <style><br>        .wandb-row {<br>            display: flex;<br>            flex-direction: row;<br>            flex-wrap: wrap;<br>            justify-content: flex-start;<br>            width: 100%;<br>        }<br>        .wandb-col {<br>            display: flex;<br>            flex-direction: column;<br>            flex-basis: 100%;<br>            flex: 1;<br>            padding: 10px;<br>        }<br>    </style><br><div class=\"wandb-row\"><div class=\"wandb-col\"><h3>Run history:</h3><br/><table class=\"wandb\"><tr><td>epoch</td><td>▁▂▃▃▄▅▆▆▇█</td></tr><tr><td>loss</td><td>█▄▃▃▂▂▂▁▁▁</td></tr><tr><td>test_accuracy</td><td>▁</td></tr><tr><td>val_accuracy</td><td>▁▄▆▅▆▆▇█▆▇</td></tr></table><br/></div><div class=\"wandb-col\"><h3>Run summary:</h3><br/><table class=\"wandb\"><tr><td>epoch</td><td>10</td></tr><tr><td>loss</td><td>0.23798</td></tr><tr><td>test_accuracy</td><td>0.875</td></tr><tr><td>val_accuracy</td><td>0.88133</td></tr></table><br/></div></div>"
            ]
          },
          "metadata": {}
        },
        {
          "output_type": "display_data",
          "data": {
            "text/plain": [
              "<IPython.core.display.HTML object>"
            ],
            "text/html": [
              " View run <strong style=\"color:#cdcd00\">balmy-sweep-13</strong> at: <a href='https://wandb.ai/karapa-rajesh-iit-madras/DeepLearning/runs/t4ef1ric' target=\"_blank\">https://wandb.ai/karapa-rajesh-iit-madras/DeepLearning/runs/t4ef1ric</a><br> View project at: <a href='https://wandb.ai/karapa-rajesh-iit-madras/DeepLearning' target=\"_blank\">https://wandb.ai/karapa-rajesh-iit-madras/DeepLearning</a><br>Synced 5 W&B file(s), 1 media file(s), 0 artifact file(s) and 0 other file(s)"
            ]
          },
          "metadata": {}
        },
        {
          "output_type": "display_data",
          "data": {
            "text/plain": [
              "<IPython.core.display.HTML object>"
            ],
            "text/html": [
              "Find logs at: <code>./wandb/run-20250316_161823-t4ef1ric/logs</code>"
            ]
          },
          "metadata": {}
        },
        {
          "output_type": "stream",
          "name": "stderr",
          "text": [
            "\u001b[34m\u001b[1mwandb\u001b[0m: Agent Starting Run: soh3sfjf with config:\n",
            "\u001b[34m\u001b[1mwandb\u001b[0m: \tactivation_func: relu\n",
            "\u001b[34m\u001b[1mwandb\u001b[0m: \tbatch_size: 64\n",
            "\u001b[34m\u001b[1mwandb\u001b[0m: \thiddenlayers: 5\n",
            "\u001b[34m\u001b[1mwandb\u001b[0m: \thiddennodes: 128\n",
            "\u001b[34m\u001b[1mwandb\u001b[0m: \tinitializer: Xavier\n",
            "\u001b[34m\u001b[1mwandb\u001b[0m: \tlearning_rate: 0.0005\n",
            "\u001b[34m\u001b[1mwandb\u001b[0m: \tloss: cross_entropy\n",
            "\u001b[34m\u001b[1mwandb\u001b[0m: \tnum_epochs: 10\n",
            "\u001b[34m\u001b[1mwandb\u001b[0m: \topt: nadam\n"
          ]
        },
        {
          "output_type": "display_data",
          "data": {
            "text/plain": [
              "<IPython.core.display.HTML object>"
            ],
            "text/html": [
              "Tracking run with wandb version 0.19.8"
            ]
          },
          "metadata": {}
        },
        {
          "output_type": "display_data",
          "data": {
            "text/plain": [
              "<IPython.core.display.HTML object>"
            ],
            "text/html": [
              "Run data is saved locally in <code>/content/wandb/run-20250316_161909-soh3sfjf</code>"
            ]
          },
          "metadata": {}
        },
        {
          "output_type": "display_data",
          "data": {
            "text/plain": [
              "<IPython.core.display.HTML object>"
            ],
            "text/html": [
              "Syncing run <strong><a href='https://wandb.ai/karapa-rajesh-iit-madras/DeepLearning/runs/soh3sfjf' target=\"_blank\">rose-sweep-14</a></strong> to <a href='https://wandb.ai/karapa-rajesh-iit-madras/DeepLearning' target=\"_blank\">Weights & Biases</a> (<a href='https://wandb.me/developer-guide' target=\"_blank\">docs</a>)<br>Sweep page: <a href='https://wandb.ai/karapa-rajesh-iit-madras/DeepLearning/sweeps/dzg25g50' target=\"_blank\">https://wandb.ai/karapa-rajesh-iit-madras/DeepLearning/sweeps/dzg25g50</a>"
            ]
          },
          "metadata": {}
        },
        {
          "output_type": "display_data",
          "data": {
            "text/plain": [
              "<IPython.core.display.HTML object>"
            ],
            "text/html": [
              " View project at <a href='https://wandb.ai/karapa-rajesh-iit-madras/DeepLearning' target=\"_blank\">https://wandb.ai/karapa-rajesh-iit-madras/DeepLearning</a>"
            ]
          },
          "metadata": {}
        },
        {
          "output_type": "display_data",
          "data": {
            "text/plain": [
              "<IPython.core.display.HTML object>"
            ],
            "text/html": [
              " View sweep at <a href='https://wandb.ai/karapa-rajesh-iit-madras/DeepLearning/sweeps/dzg25g50' target=\"_blank\">https://wandb.ai/karapa-rajesh-iit-madras/DeepLearning/sweeps/dzg25g50</a>"
            ]
          },
          "metadata": {}
        },
        {
          "output_type": "display_data",
          "data": {
            "text/plain": [
              "<IPython.core.display.HTML object>"
            ],
            "text/html": [
              " View run at <a href='https://wandb.ai/karapa-rajesh-iit-madras/DeepLearning/runs/soh3sfjf' target=\"_blank\">https://wandb.ai/karapa-rajesh-iit-madras/DeepLearning/runs/soh3sfjf</a>"
            ]
          },
          "metadata": {}
        },
        {
          "output_type": "display_data",
          "data": {
            "text/plain": [
              "<IPython.core.display.HTML object>"
            ],
            "text/html": []
          },
          "metadata": {}
        },
        {
          "output_type": "display_data",
          "data": {
            "text/plain": [
              "<IPython.core.display.HTML object>"
            ],
            "text/html": [
              "<br>    <style><br>        .wandb-row {<br>            display: flex;<br>            flex-direction: row;<br>            flex-wrap: wrap;<br>            justify-content: flex-start;<br>            width: 100%;<br>        }<br>        .wandb-col {<br>            display: flex;<br>            flex-direction: column;<br>            flex-basis: 100%;<br>            flex: 1;<br>            padding: 10px;<br>        }<br>    </style><br><div class=\"wandb-row\"><div class=\"wandb-col\"><h3>Run history:</h3><br/><table class=\"wandb\"><tr><td>epoch</td><td>▁▂▃▃▄▅▆▆▇█</td></tr><tr><td>loss</td><td>█▅▄▃▃▂▂▂▁▁</td></tr><tr><td>test_accuracy</td><td>▁</td></tr><tr><td>val_accuracy</td><td>▁▂▆▄▆▇▇██▇</td></tr></table><br/></div><div class=\"wandb-col\"><h3>Run summary:</h3><br/><table class=\"wandb\"><tr><td>epoch</td><td>10</td></tr><tr><td>loss</td><td>0.22757</td></tr><tr><td>test_accuracy</td><td>0.8788</td></tr><tr><td>val_accuracy</td><td>0.88533</td></tr></table><br/></div></div>"
            ]
          },
          "metadata": {}
        },
        {
          "output_type": "display_data",
          "data": {
            "text/plain": [
              "<IPython.core.display.HTML object>"
            ],
            "text/html": [
              " View run <strong style=\"color:#cdcd00\">rose-sweep-14</strong> at: <a href='https://wandb.ai/karapa-rajesh-iit-madras/DeepLearning/runs/soh3sfjf' target=\"_blank\">https://wandb.ai/karapa-rajesh-iit-madras/DeepLearning/runs/soh3sfjf</a><br> View project at: <a href='https://wandb.ai/karapa-rajesh-iit-madras/DeepLearning' target=\"_blank\">https://wandb.ai/karapa-rajesh-iit-madras/DeepLearning</a><br>Synced 5 W&B file(s), 1 media file(s), 0 artifact file(s) and 0 other file(s)"
            ]
          },
          "metadata": {}
        },
        {
          "output_type": "display_data",
          "data": {
            "text/plain": [
              "<IPython.core.display.HTML object>"
            ],
            "text/html": [
              "Find logs at: <code>./wandb/run-20250316_161909-soh3sfjf/logs</code>"
            ]
          },
          "metadata": {}
        },
        {
          "output_type": "stream",
          "name": "stderr",
          "text": [
            "\u001b[34m\u001b[1mwandb\u001b[0m: Agent Starting Run: 2awts7mj with config:\n",
            "\u001b[34m\u001b[1mwandb\u001b[0m: \tactivation_func: relu\n",
            "\u001b[34m\u001b[1mwandb\u001b[0m: \tbatch_size: 128\n",
            "\u001b[34m\u001b[1mwandb\u001b[0m: \thiddenlayers: 4\n",
            "\u001b[34m\u001b[1mwandb\u001b[0m: \thiddennodes: 256\n",
            "\u001b[34m\u001b[1mwandb\u001b[0m: \tinitializer: Xavier\n",
            "\u001b[34m\u001b[1mwandb\u001b[0m: \tlearning_rate: 0.0005\n",
            "\u001b[34m\u001b[1mwandb\u001b[0m: \tloss: cross_entropy\n",
            "\u001b[34m\u001b[1mwandb\u001b[0m: \tnum_epochs: 10\n",
            "\u001b[34m\u001b[1mwandb\u001b[0m: \topt: nesterov\n"
          ]
        },
        {
          "output_type": "display_data",
          "data": {
            "text/plain": [
              "<IPython.core.display.HTML object>"
            ],
            "text/html": [
              "Tracking run with wandb version 0.19.8"
            ]
          },
          "metadata": {}
        },
        {
          "output_type": "display_data",
          "data": {
            "text/plain": [
              "<IPython.core.display.HTML object>"
            ],
            "text/html": [
              "Run data is saved locally in <code>/content/wandb/run-20250316_162041-2awts7mj</code>"
            ]
          },
          "metadata": {}
        },
        {
          "output_type": "display_data",
          "data": {
            "text/plain": [
              "<IPython.core.display.HTML object>"
            ],
            "text/html": [
              "Syncing run <strong><a href='https://wandb.ai/karapa-rajesh-iit-madras/DeepLearning/runs/2awts7mj' target=\"_blank\">laced-sweep-15</a></strong> to <a href='https://wandb.ai/karapa-rajesh-iit-madras/DeepLearning' target=\"_blank\">Weights & Biases</a> (<a href='https://wandb.me/developer-guide' target=\"_blank\">docs</a>)<br>Sweep page: <a href='https://wandb.ai/karapa-rajesh-iit-madras/DeepLearning/sweeps/dzg25g50' target=\"_blank\">https://wandb.ai/karapa-rajesh-iit-madras/DeepLearning/sweeps/dzg25g50</a>"
            ]
          },
          "metadata": {}
        },
        {
          "output_type": "display_data",
          "data": {
            "text/plain": [
              "<IPython.core.display.HTML object>"
            ],
            "text/html": [
              " View project at <a href='https://wandb.ai/karapa-rajesh-iit-madras/DeepLearning' target=\"_blank\">https://wandb.ai/karapa-rajesh-iit-madras/DeepLearning</a>"
            ]
          },
          "metadata": {}
        },
        {
          "output_type": "display_data",
          "data": {
            "text/plain": [
              "<IPython.core.display.HTML object>"
            ],
            "text/html": [
              " View sweep at <a href='https://wandb.ai/karapa-rajesh-iit-madras/DeepLearning/sweeps/dzg25g50' target=\"_blank\">https://wandb.ai/karapa-rajesh-iit-madras/DeepLearning/sweeps/dzg25g50</a>"
            ]
          },
          "metadata": {}
        },
        {
          "output_type": "display_data",
          "data": {
            "text/plain": [
              "<IPython.core.display.HTML object>"
            ],
            "text/html": [
              " View run at <a href='https://wandb.ai/karapa-rajesh-iit-madras/DeepLearning/runs/2awts7mj' target=\"_blank\">https://wandb.ai/karapa-rajesh-iit-madras/DeepLearning/runs/2awts7mj</a>"
            ]
          },
          "metadata": {}
        },
        {
          "output_type": "display_data",
          "data": {
            "text/plain": [
              "<IPython.core.display.HTML object>"
            ],
            "text/html": []
          },
          "metadata": {}
        },
        {
          "output_type": "display_data",
          "data": {
            "text/plain": [
              "<IPython.core.display.HTML object>"
            ],
            "text/html": [
              "<br>    <style><br>        .wandb-row {<br>            display: flex;<br>            flex-direction: row;<br>            flex-wrap: wrap;<br>            justify-content: flex-start;<br>            width: 100%;<br>        }<br>        .wandb-col {<br>            display: flex;<br>            flex-direction: column;<br>            flex-basis: 100%;<br>            flex: 1;<br>            padding: 10px;<br>        }<br>    </style><br><div class=\"wandb-row\"><div class=\"wandb-col\"><h3>Run history:</h3><br/><table class=\"wandb\"><tr><td>epoch</td><td>▁▂▃▃▄▅▆▆▇█</td></tr><tr><td>loss</td><td>█▃▂▂▂▁▁▁▁▁</td></tr><tr><td>test_accuracy</td><td>▁</td></tr><tr><td>val_accuracy</td><td>▁▄▅▆▆▇▇███</td></tr></table><br/></div><div class=\"wandb-col\"><h3>Run summary:</h3><br/><table class=\"wandb\"><tr><td>epoch</td><td>10</td></tr><tr><td>loss</td><td>0.40549</td></tr><tr><td>test_accuracy</td><td>0.8438</td></tr><tr><td>val_accuracy</td><td>0.85167</td></tr></table><br/></div></div>"
            ]
          },
          "metadata": {}
        },
        {
          "output_type": "display_data",
          "data": {
            "text/plain": [
              "<IPython.core.display.HTML object>"
            ],
            "text/html": [
              " View run <strong style=\"color:#cdcd00\">laced-sweep-15</strong> at: <a href='https://wandb.ai/karapa-rajesh-iit-madras/DeepLearning/runs/2awts7mj' target=\"_blank\">https://wandb.ai/karapa-rajesh-iit-madras/DeepLearning/runs/2awts7mj</a><br> View project at: <a href='https://wandb.ai/karapa-rajesh-iit-madras/DeepLearning' target=\"_blank\">https://wandb.ai/karapa-rajesh-iit-madras/DeepLearning</a><br>Synced 5 W&B file(s), 1 media file(s), 0 artifact file(s) and 0 other file(s)"
            ]
          },
          "metadata": {}
        },
        {
          "output_type": "display_data",
          "data": {
            "text/plain": [
              "<IPython.core.display.HTML object>"
            ],
            "text/html": [
              "Find logs at: <code>./wandb/run-20250316_162041-2awts7mj/logs</code>"
            ]
          },
          "metadata": {}
        },
        {
          "output_type": "stream",
          "name": "stderr",
          "text": [
            "\u001b[34m\u001b[1mwandb\u001b[0m: Agent Starting Run: 5lz8p2gy with config:\n",
            "\u001b[34m\u001b[1mwandb\u001b[0m: \tactivation_func: relu\n",
            "\u001b[34m\u001b[1mwandb\u001b[0m: \tbatch_size: 64\n",
            "\u001b[34m\u001b[1mwandb\u001b[0m: \thiddenlayers: 3\n",
            "\u001b[34m\u001b[1mwandb\u001b[0m: \thiddennodes: 128\n",
            "\u001b[34m\u001b[1mwandb\u001b[0m: \tinitializer: Xavier\n",
            "\u001b[34m\u001b[1mwandb\u001b[0m: \tlearning_rate: 0.001\n",
            "\u001b[34m\u001b[1mwandb\u001b[0m: \tloss: cross_entropy\n",
            "\u001b[34m\u001b[1mwandb\u001b[0m: \tnum_epochs: 15\n",
            "\u001b[34m\u001b[1mwandb\u001b[0m: \topt: rmsprop\n"
          ]
        },
        {
          "output_type": "display_data",
          "data": {
            "text/plain": [
              "<IPython.core.display.HTML object>"
            ],
            "text/html": [
              "Tracking run with wandb version 0.19.8"
            ]
          },
          "metadata": {}
        },
        {
          "output_type": "display_data",
          "data": {
            "text/plain": [
              "<IPython.core.display.HTML object>"
            ],
            "text/html": [
              "Run data is saved locally in <code>/content/wandb/run-20250316_162227-5lz8p2gy</code>"
            ]
          },
          "metadata": {}
        },
        {
          "output_type": "display_data",
          "data": {
            "text/plain": [
              "<IPython.core.display.HTML object>"
            ],
            "text/html": [
              "Syncing run <strong><a href='https://wandb.ai/karapa-rajesh-iit-madras/DeepLearning/runs/5lz8p2gy' target=\"_blank\">drawn-sweep-16</a></strong> to <a href='https://wandb.ai/karapa-rajesh-iit-madras/DeepLearning' target=\"_blank\">Weights & Biases</a> (<a href='https://wandb.me/developer-guide' target=\"_blank\">docs</a>)<br>Sweep page: <a href='https://wandb.ai/karapa-rajesh-iit-madras/DeepLearning/sweeps/dzg25g50' target=\"_blank\">https://wandb.ai/karapa-rajesh-iit-madras/DeepLearning/sweeps/dzg25g50</a>"
            ]
          },
          "metadata": {}
        },
        {
          "output_type": "display_data",
          "data": {
            "text/plain": [
              "<IPython.core.display.HTML object>"
            ],
            "text/html": [
              " View project at <a href='https://wandb.ai/karapa-rajesh-iit-madras/DeepLearning' target=\"_blank\">https://wandb.ai/karapa-rajesh-iit-madras/DeepLearning</a>"
            ]
          },
          "metadata": {}
        },
        {
          "output_type": "display_data",
          "data": {
            "text/plain": [
              "<IPython.core.display.HTML object>"
            ],
            "text/html": [
              " View sweep at <a href='https://wandb.ai/karapa-rajesh-iit-madras/DeepLearning/sweeps/dzg25g50' target=\"_blank\">https://wandb.ai/karapa-rajesh-iit-madras/DeepLearning/sweeps/dzg25g50</a>"
            ]
          },
          "metadata": {}
        },
        {
          "output_type": "display_data",
          "data": {
            "text/plain": [
              "<IPython.core.display.HTML object>"
            ],
            "text/html": [
              " View run at <a href='https://wandb.ai/karapa-rajesh-iit-madras/DeepLearning/runs/5lz8p2gy' target=\"_blank\">https://wandb.ai/karapa-rajesh-iit-madras/DeepLearning/runs/5lz8p2gy</a>"
            ]
          },
          "metadata": {}
        },
        {
          "output_type": "display_data",
          "data": {
            "text/plain": [
              "<IPython.core.display.HTML object>"
            ],
            "text/html": []
          },
          "metadata": {}
        },
        {
          "output_type": "display_data",
          "data": {
            "text/plain": [
              "<IPython.core.display.HTML object>"
            ],
            "text/html": [
              "<br>    <style><br>        .wandb-row {<br>            display: flex;<br>            flex-direction: row;<br>            flex-wrap: wrap;<br>            justify-content: flex-start;<br>            width: 100%;<br>        }<br>        .wandb-col {<br>            display: flex;<br>            flex-direction: column;<br>            flex-basis: 100%;<br>            flex: 1;<br>            padding: 10px;<br>        }<br>    </style><br><div class=\"wandb-row\"><div class=\"wandb-col\"><h3>Run history:</h3><br/><table class=\"wandb\"><tr><td>epoch</td><td>▁▁▂▃▃▃▄▅▅▅▆▇▇▇█</td></tr><tr><td>loss</td><td>█▄▃▃▂▂▂▂▁▁▁▁▁▁▁</td></tr><tr><td>test_accuracy</td><td>▁</td></tr><tr><td>val_accuracy</td><td>▁▆▆▇▇▇█▇▇█▇█▇██</td></tr></table><br/></div><div class=\"wandb-col\"><h3>Run summary:</h3><br/><table class=\"wandb\"><tr><td>epoch</td><td>15</td></tr><tr><td>loss</td><td>0.26672</td></tr><tr><td>test_accuracy</td><td>0.8781</td></tr><tr><td>val_accuracy</td><td>0.8825</td></tr></table><br/></div></div>"
            ]
          },
          "metadata": {}
        },
        {
          "output_type": "display_data",
          "data": {
            "text/plain": [
              "<IPython.core.display.HTML object>"
            ],
            "text/html": [
              " View run <strong style=\"color:#cdcd00\">drawn-sweep-16</strong> at: <a href='https://wandb.ai/karapa-rajesh-iit-madras/DeepLearning/runs/5lz8p2gy' target=\"_blank\">https://wandb.ai/karapa-rajesh-iit-madras/DeepLearning/runs/5lz8p2gy</a><br> View project at: <a href='https://wandb.ai/karapa-rajesh-iit-madras/DeepLearning' target=\"_blank\">https://wandb.ai/karapa-rajesh-iit-madras/DeepLearning</a><br>Synced 5 W&B file(s), 1 media file(s), 0 artifact file(s) and 0 other file(s)"
            ]
          },
          "metadata": {}
        },
        {
          "output_type": "display_data",
          "data": {
            "text/plain": [
              "<IPython.core.display.HTML object>"
            ],
            "text/html": [
              "Find logs at: <code>./wandb/run-20250316_162227-5lz8p2gy/logs</code>"
            ]
          },
          "metadata": {}
        },
        {
          "output_type": "stream",
          "name": "stderr",
          "text": [
            "\u001b[34m\u001b[1mwandb\u001b[0m: Agent Starting Run: 40l609sf with config:\n",
            "\u001b[34m\u001b[1mwandb\u001b[0m: \tactivation_func: relu\n",
            "\u001b[34m\u001b[1mwandb\u001b[0m: \tbatch_size: 128\n",
            "\u001b[34m\u001b[1mwandb\u001b[0m: \thiddenlayers: 3\n",
            "\u001b[34m\u001b[1mwandb\u001b[0m: \thiddennodes: 128\n",
            "\u001b[34m\u001b[1mwandb\u001b[0m: \tinitializer: Xavier\n",
            "\u001b[34m\u001b[1mwandb\u001b[0m: \tlearning_rate: 0.0005\n",
            "\u001b[34m\u001b[1mwandb\u001b[0m: \tloss: cross_entropy\n",
            "\u001b[34m\u001b[1mwandb\u001b[0m: \tnum_epochs: 10\n",
            "\u001b[34m\u001b[1mwandb\u001b[0m: \topt: rmsprop\n"
          ]
        },
        {
          "output_type": "display_data",
          "data": {
            "text/plain": [
              "<IPython.core.display.HTML object>"
            ],
            "text/html": [
              "Tracking run with wandb version 0.19.8"
            ]
          },
          "metadata": {}
        },
        {
          "output_type": "display_data",
          "data": {
            "text/plain": [
              "<IPython.core.display.HTML object>"
            ],
            "text/html": [
              "Run data is saved locally in <code>/content/wandb/run-20250316_162351-40l609sf</code>"
            ]
          },
          "metadata": {}
        },
        {
          "output_type": "display_data",
          "data": {
            "text/plain": [
              "<IPython.core.display.HTML object>"
            ],
            "text/html": [
              "Syncing run <strong><a href='https://wandb.ai/karapa-rajesh-iit-madras/DeepLearning/runs/40l609sf' target=\"_blank\">helpful-sweep-17</a></strong> to <a href='https://wandb.ai/karapa-rajesh-iit-madras/DeepLearning' target=\"_blank\">Weights & Biases</a> (<a href='https://wandb.me/developer-guide' target=\"_blank\">docs</a>)<br>Sweep page: <a href='https://wandb.ai/karapa-rajesh-iit-madras/DeepLearning/sweeps/dzg25g50' target=\"_blank\">https://wandb.ai/karapa-rajesh-iit-madras/DeepLearning/sweeps/dzg25g50</a>"
            ]
          },
          "metadata": {}
        },
        {
          "output_type": "display_data",
          "data": {
            "text/plain": [
              "<IPython.core.display.HTML object>"
            ],
            "text/html": [
              " View project at <a href='https://wandb.ai/karapa-rajesh-iit-madras/DeepLearning' target=\"_blank\">https://wandb.ai/karapa-rajesh-iit-madras/DeepLearning</a>"
            ]
          },
          "metadata": {}
        },
        {
          "output_type": "display_data",
          "data": {
            "text/plain": [
              "<IPython.core.display.HTML object>"
            ],
            "text/html": [
              " View sweep at <a href='https://wandb.ai/karapa-rajesh-iit-madras/DeepLearning/sweeps/dzg25g50' target=\"_blank\">https://wandb.ai/karapa-rajesh-iit-madras/DeepLearning/sweeps/dzg25g50</a>"
            ]
          },
          "metadata": {}
        },
        {
          "output_type": "display_data",
          "data": {
            "text/plain": [
              "<IPython.core.display.HTML object>"
            ],
            "text/html": [
              " View run at <a href='https://wandb.ai/karapa-rajesh-iit-madras/DeepLearning/runs/40l609sf' target=\"_blank\">https://wandb.ai/karapa-rajesh-iit-madras/DeepLearning/runs/40l609sf</a>"
            ]
          },
          "metadata": {}
        },
        {
          "output_type": "display_data",
          "data": {
            "text/plain": [
              "<IPython.core.display.HTML object>"
            ],
            "text/html": []
          },
          "metadata": {}
        },
        {
          "output_type": "display_data",
          "data": {
            "text/plain": [
              "<IPython.core.display.HTML object>"
            ],
            "text/html": [
              "<br>    <style><br>        .wandb-row {<br>            display: flex;<br>            flex-direction: row;<br>            flex-wrap: wrap;<br>            justify-content: flex-start;<br>            width: 100%;<br>        }<br>        .wandb-col {<br>            display: flex;<br>            flex-direction: column;<br>            flex-basis: 100%;<br>            flex: 1;<br>            padding: 10px;<br>        }<br>    </style><br><div class=\"wandb-row\"><div class=\"wandb-col\"><h3>Run history:</h3><br/><table class=\"wandb\"><tr><td>epoch</td><td>▁▂▃▃▄▅▆▆▇█</td></tr><tr><td>loss</td><td>█▄▃▃▂▂▂▁▁▁</td></tr><tr><td>test_accuracy</td><td>▁</td></tr><tr><td>val_accuracy</td><td>▁▃▆▆▆▆▇█▇█</td></tr></table><br/></div><div class=\"wandb-col\"><h3>Run summary:</h3><br/><table class=\"wandb\"><tr><td>epoch</td><td>10</td></tr><tr><td>loss</td><td>0.24586</td></tr><tr><td>test_accuracy</td><td>0.8773</td></tr><tr><td>val_accuracy</td><td>0.88283</td></tr></table><br/></div></div>"
            ]
          },
          "metadata": {}
        },
        {
          "output_type": "display_data",
          "data": {
            "text/plain": [
              "<IPython.core.display.HTML object>"
            ],
            "text/html": [
              " View run <strong style=\"color:#cdcd00\">helpful-sweep-17</strong> at: <a href='https://wandb.ai/karapa-rajesh-iit-madras/DeepLearning/runs/40l609sf' target=\"_blank\">https://wandb.ai/karapa-rajesh-iit-madras/DeepLearning/runs/40l609sf</a><br> View project at: <a href='https://wandb.ai/karapa-rajesh-iit-madras/DeepLearning' target=\"_blank\">https://wandb.ai/karapa-rajesh-iit-madras/DeepLearning</a><br>Synced 5 W&B file(s), 1 media file(s), 0 artifact file(s) and 0 other file(s)"
            ]
          },
          "metadata": {}
        },
        {
          "output_type": "display_data",
          "data": {
            "text/plain": [
              "<IPython.core.display.HTML object>"
            ],
            "text/html": [
              "Find logs at: <code>./wandb/run-20250316_162351-40l609sf/logs</code>"
            ]
          },
          "metadata": {}
        },
        {
          "output_type": "stream",
          "name": "stderr",
          "text": [
            "\u001b[34m\u001b[1mwandb\u001b[0m: Agent Starting Run: usiffoqe with config:\n",
            "\u001b[34m\u001b[1mwandb\u001b[0m: \tactivation_func: relu\n",
            "\u001b[34m\u001b[1mwandb\u001b[0m: \tbatch_size: 128\n",
            "\u001b[34m\u001b[1mwandb\u001b[0m: \thiddenlayers: 5\n",
            "\u001b[34m\u001b[1mwandb\u001b[0m: \thiddennodes: 256\n",
            "\u001b[34m\u001b[1mwandb\u001b[0m: \tinitializer: Xavier\n",
            "\u001b[34m\u001b[1mwandb\u001b[0m: \tlearning_rate: 0.001\n",
            "\u001b[34m\u001b[1mwandb\u001b[0m: \tloss: cross_entropy\n",
            "\u001b[34m\u001b[1mwandb\u001b[0m: \tnum_epochs: 15\n",
            "\u001b[34m\u001b[1mwandb\u001b[0m: \topt: adam\n"
          ]
        },
        {
          "output_type": "display_data",
          "data": {
            "text/plain": [
              "<IPython.core.display.HTML object>"
            ],
            "text/html": [
              "Tracking run with wandb version 0.19.8"
            ]
          },
          "metadata": {}
        },
        {
          "output_type": "display_data",
          "data": {
            "text/plain": [
              "<IPython.core.display.HTML object>"
            ],
            "text/html": [
              "Run data is saved locally in <code>/content/wandb/run-20250316_162431-usiffoqe</code>"
            ]
          },
          "metadata": {}
        },
        {
          "output_type": "display_data",
          "data": {
            "text/plain": [
              "<IPython.core.display.HTML object>"
            ],
            "text/html": [
              "Syncing run <strong><a href='https://wandb.ai/karapa-rajesh-iit-madras/DeepLearning/runs/usiffoqe' target=\"_blank\">golden-sweep-18</a></strong> to <a href='https://wandb.ai/karapa-rajesh-iit-madras/DeepLearning' target=\"_blank\">Weights & Biases</a> (<a href='https://wandb.me/developer-guide' target=\"_blank\">docs</a>)<br>Sweep page: <a href='https://wandb.ai/karapa-rajesh-iit-madras/DeepLearning/sweeps/dzg25g50' target=\"_blank\">https://wandb.ai/karapa-rajesh-iit-madras/DeepLearning/sweeps/dzg25g50</a>"
            ]
          },
          "metadata": {}
        },
        {
          "output_type": "display_data",
          "data": {
            "text/plain": [
              "<IPython.core.display.HTML object>"
            ],
            "text/html": [
              " View project at <a href='https://wandb.ai/karapa-rajesh-iit-madras/DeepLearning' target=\"_blank\">https://wandb.ai/karapa-rajesh-iit-madras/DeepLearning</a>"
            ]
          },
          "metadata": {}
        },
        {
          "output_type": "display_data",
          "data": {
            "text/plain": [
              "<IPython.core.display.HTML object>"
            ],
            "text/html": [
              " View sweep at <a href='https://wandb.ai/karapa-rajesh-iit-madras/DeepLearning/sweeps/dzg25g50' target=\"_blank\">https://wandb.ai/karapa-rajesh-iit-madras/DeepLearning/sweeps/dzg25g50</a>"
            ]
          },
          "metadata": {}
        },
        {
          "output_type": "display_data",
          "data": {
            "text/plain": [
              "<IPython.core.display.HTML object>"
            ],
            "text/html": [
              " View run at <a href='https://wandb.ai/karapa-rajesh-iit-madras/DeepLearning/runs/usiffoqe' target=\"_blank\">https://wandb.ai/karapa-rajesh-iit-madras/DeepLearning/runs/usiffoqe</a>"
            ]
          },
          "metadata": {}
        },
        {
          "output_type": "display_data",
          "data": {
            "text/plain": [
              "<IPython.core.display.HTML object>"
            ],
            "text/html": []
          },
          "metadata": {}
        },
        {
          "output_type": "display_data",
          "data": {
            "text/plain": [
              "<IPython.core.display.HTML object>"
            ],
            "text/html": [
              "<br>    <style><br>        .wandb-row {<br>            display: flex;<br>            flex-direction: row;<br>            flex-wrap: wrap;<br>            justify-content: flex-start;<br>            width: 100%;<br>        }<br>        .wandb-col {<br>            display: flex;<br>            flex-direction: column;<br>            flex-basis: 100%;<br>            flex: 1;<br>            padding: 10px;<br>        }<br>    </style><br><div class=\"wandb-row\"><div class=\"wandb-col\"><h3>Run history:</h3><br/><table class=\"wandb\"><tr><td>epoch</td><td>▁▁▂▃▃▃▄▅▅▅▆▇▇▇█</td></tr><tr><td>loss</td><td>█▅▄▃▃▃▂▂▂▂▂▁▁▁▁</td></tr><tr><td>test_accuracy</td><td>▁</td></tr><tr><td>val_accuracy</td><td>▂▁▃▂▆▆▄▇▇█▆▇█▇█</td></tr></table><br/></div><div class=\"wandb-col\"><h3>Run summary:</h3><br/><table class=\"wandb\"><tr><td>epoch</td><td>15</td></tr><tr><td>loss</td><td>0.19905</td></tr><tr><td>test_accuracy</td><td>0.8922</td></tr><tr><td>val_accuracy</td><td>0.88717</td></tr></table><br/></div></div>"
            ]
          },
          "metadata": {}
        },
        {
          "output_type": "display_data",
          "data": {
            "text/plain": [
              "<IPython.core.display.HTML object>"
            ],
            "text/html": [
              " View run <strong style=\"color:#cdcd00\">golden-sweep-18</strong> at: <a href='https://wandb.ai/karapa-rajesh-iit-madras/DeepLearning/runs/usiffoqe' target=\"_blank\">https://wandb.ai/karapa-rajesh-iit-madras/DeepLearning/runs/usiffoqe</a><br> View project at: <a href='https://wandb.ai/karapa-rajesh-iit-madras/DeepLearning' target=\"_blank\">https://wandb.ai/karapa-rajesh-iit-madras/DeepLearning</a><br>Synced 5 W&B file(s), 1 media file(s), 0 artifact file(s) and 0 other file(s)"
            ]
          },
          "metadata": {}
        },
        {
          "output_type": "display_data",
          "data": {
            "text/plain": [
              "<IPython.core.display.HTML object>"
            ],
            "text/html": [
              "Find logs at: <code>./wandb/run-20250316_162431-usiffoqe/logs</code>"
            ]
          },
          "metadata": {}
        },
        {
          "output_type": "stream",
          "name": "stderr",
          "text": [
            "\u001b[34m\u001b[1mwandb\u001b[0m: Agent Starting Run: 4uke6ixs with config:\n",
            "\u001b[34m\u001b[1mwandb\u001b[0m: \tactivation_func: relu\n",
            "\u001b[34m\u001b[1mwandb\u001b[0m: \tbatch_size: 128\n",
            "\u001b[34m\u001b[1mwandb\u001b[0m: \thiddenlayers: 3\n",
            "\u001b[34m\u001b[1mwandb\u001b[0m: \thiddennodes: 256\n",
            "\u001b[34m\u001b[1mwandb\u001b[0m: \tinitializer: Xavier\n",
            "\u001b[34m\u001b[1mwandb\u001b[0m: \tlearning_rate: 0.0005\n",
            "\u001b[34m\u001b[1mwandb\u001b[0m: \tloss: cross_entropy\n",
            "\u001b[34m\u001b[1mwandb\u001b[0m: \tnum_epochs: 10\n",
            "\u001b[34m\u001b[1mwandb\u001b[0m: \topt: momentum\n"
          ]
        },
        {
          "output_type": "display_data",
          "data": {
            "text/plain": [
              "<IPython.core.display.HTML object>"
            ],
            "text/html": [
              "Tracking run with wandb version 0.19.8"
            ]
          },
          "metadata": {}
        },
        {
          "output_type": "display_data",
          "data": {
            "text/plain": [
              "<IPython.core.display.HTML object>"
            ],
            "text/html": [
              "Run data is saved locally in <code>/content/wandb/run-20250316_162800-4uke6ixs</code>"
            ]
          },
          "metadata": {}
        },
        {
          "output_type": "display_data",
          "data": {
            "text/plain": [
              "<IPython.core.display.HTML object>"
            ],
            "text/html": [
              "Syncing run <strong><a href='https://wandb.ai/karapa-rajesh-iit-madras/DeepLearning/runs/4uke6ixs' target=\"_blank\">spring-sweep-19</a></strong> to <a href='https://wandb.ai/karapa-rajesh-iit-madras/DeepLearning' target=\"_blank\">Weights & Biases</a> (<a href='https://wandb.me/developer-guide' target=\"_blank\">docs</a>)<br>Sweep page: <a href='https://wandb.ai/karapa-rajesh-iit-madras/DeepLearning/sweeps/dzg25g50' target=\"_blank\">https://wandb.ai/karapa-rajesh-iit-madras/DeepLearning/sweeps/dzg25g50</a>"
            ]
          },
          "metadata": {}
        },
        {
          "output_type": "display_data",
          "data": {
            "text/plain": [
              "<IPython.core.display.HTML object>"
            ],
            "text/html": [
              " View project at <a href='https://wandb.ai/karapa-rajesh-iit-madras/DeepLearning' target=\"_blank\">https://wandb.ai/karapa-rajesh-iit-madras/DeepLearning</a>"
            ]
          },
          "metadata": {}
        },
        {
          "output_type": "display_data",
          "data": {
            "text/plain": [
              "<IPython.core.display.HTML object>"
            ],
            "text/html": [
              " View sweep at <a href='https://wandb.ai/karapa-rajesh-iit-madras/DeepLearning/sweeps/dzg25g50' target=\"_blank\">https://wandb.ai/karapa-rajesh-iit-madras/DeepLearning/sweeps/dzg25g50</a>"
            ]
          },
          "metadata": {}
        },
        {
          "output_type": "display_data",
          "data": {
            "text/plain": [
              "<IPython.core.display.HTML object>"
            ],
            "text/html": [
              " View run at <a href='https://wandb.ai/karapa-rajesh-iit-madras/DeepLearning/runs/4uke6ixs' target=\"_blank\">https://wandb.ai/karapa-rajesh-iit-madras/DeepLearning/runs/4uke6ixs</a>"
            ]
          },
          "metadata": {}
        },
        {
          "output_type": "display_data",
          "data": {
            "text/plain": [
              "<IPython.core.display.HTML object>"
            ],
            "text/html": []
          },
          "metadata": {}
        },
        {
          "output_type": "display_data",
          "data": {
            "text/plain": [
              "<IPython.core.display.HTML object>"
            ],
            "text/html": [
              "<br>    <style><br>        .wandb-row {<br>            display: flex;<br>            flex-direction: row;<br>            flex-wrap: wrap;<br>            justify-content: flex-start;<br>            width: 100%;<br>        }<br>        .wandb-col {<br>            display: flex;<br>            flex-direction: column;<br>            flex-basis: 100%;<br>            flex: 1;<br>            padding: 10px;<br>        }<br>    </style><br><div class=\"wandb-row\"><div class=\"wandb-col\"><h3>Run history:</h3><br/><table class=\"wandb\"><tr><td>epoch</td><td>▁▂▃▃▄▅▆▆▇█</td></tr><tr><td>loss</td><td>█▄▃▂▂▂▁▁▁▁</td></tr><tr><td>test_accuracy</td><td>▁</td></tr><tr><td>val_accuracy</td><td>▁▃▅▅▆▇▇███</td></tr></table><br/></div><div class=\"wandb-col\"><h3>Run summary:</h3><br/><table class=\"wandb\"><tr><td>epoch</td><td>10</td></tr><tr><td>loss</td><td>0.60872</td></tr><tr><td>test_accuracy</td><td>0.7984</td></tr><tr><td>val_accuracy</td><td>0.81083</td></tr></table><br/></div></div>"
            ]
          },
          "metadata": {}
        },
        {
          "output_type": "display_data",
          "data": {
            "text/plain": [
              "<IPython.core.display.HTML object>"
            ],
            "text/html": [
              " View run <strong style=\"color:#cdcd00\">spring-sweep-19</strong> at: <a href='https://wandb.ai/karapa-rajesh-iit-madras/DeepLearning/runs/4uke6ixs' target=\"_blank\">https://wandb.ai/karapa-rajesh-iit-madras/DeepLearning/runs/4uke6ixs</a><br> View project at: <a href='https://wandb.ai/karapa-rajesh-iit-madras/DeepLearning' target=\"_blank\">https://wandb.ai/karapa-rajesh-iit-madras/DeepLearning</a><br>Synced 5 W&B file(s), 1 media file(s), 0 artifact file(s) and 0 other file(s)"
            ]
          },
          "metadata": {}
        },
        {
          "output_type": "display_data",
          "data": {
            "text/plain": [
              "<IPython.core.display.HTML object>"
            ],
            "text/html": [
              "Find logs at: <code>./wandb/run-20250316_162800-4uke6ixs/logs</code>"
            ]
          },
          "metadata": {}
        },
        {
          "output_type": "stream",
          "name": "stderr",
          "text": [
            "\u001b[34m\u001b[1mwandb\u001b[0m: Agent Starting Run: dom0u3k0 with config:\n",
            "\u001b[34m\u001b[1mwandb\u001b[0m: \tactivation_func: relu\n",
            "\u001b[34m\u001b[1mwandb\u001b[0m: \tbatch_size: 128\n",
            "\u001b[34m\u001b[1mwandb\u001b[0m: \thiddenlayers: 5\n",
            "\u001b[34m\u001b[1mwandb\u001b[0m: \thiddennodes: 128\n",
            "\u001b[34m\u001b[1mwandb\u001b[0m: \tinitializer: Xavier\n",
            "\u001b[34m\u001b[1mwandb\u001b[0m: \tlearning_rate: 0.0005\n",
            "\u001b[34m\u001b[1mwandb\u001b[0m: \tloss: cross_entropy\n",
            "\u001b[34m\u001b[1mwandb\u001b[0m: \tnum_epochs: 10\n",
            "\u001b[34m\u001b[1mwandb\u001b[0m: \topt: adam\n"
          ]
        },
        {
          "output_type": "display_data",
          "data": {
            "text/plain": [
              "<IPython.core.display.HTML object>"
            ],
            "text/html": [
              "Tracking run with wandb version 0.19.8"
            ]
          },
          "metadata": {}
        },
        {
          "output_type": "display_data",
          "data": {
            "text/plain": [
              "<IPython.core.display.HTML object>"
            ],
            "text/html": [
              "Run data is saved locally in <code>/content/wandb/run-20250316_162916-dom0u3k0</code>"
            ]
          },
          "metadata": {}
        },
        {
          "output_type": "display_data",
          "data": {
            "text/plain": [
              "<IPython.core.display.HTML object>"
            ],
            "text/html": [
              "Syncing run <strong><a href='https://wandb.ai/karapa-rajesh-iit-madras/DeepLearning/runs/dom0u3k0' target=\"_blank\">stilted-sweep-20</a></strong> to <a href='https://wandb.ai/karapa-rajesh-iit-madras/DeepLearning' target=\"_blank\">Weights & Biases</a> (<a href='https://wandb.me/developer-guide' target=\"_blank\">docs</a>)<br>Sweep page: <a href='https://wandb.ai/karapa-rajesh-iit-madras/DeepLearning/sweeps/dzg25g50' target=\"_blank\">https://wandb.ai/karapa-rajesh-iit-madras/DeepLearning/sweeps/dzg25g50</a>"
            ]
          },
          "metadata": {}
        },
        {
          "output_type": "display_data",
          "data": {
            "text/plain": [
              "<IPython.core.display.HTML object>"
            ],
            "text/html": [
              " View project at <a href='https://wandb.ai/karapa-rajesh-iit-madras/DeepLearning' target=\"_blank\">https://wandb.ai/karapa-rajesh-iit-madras/DeepLearning</a>"
            ]
          },
          "metadata": {}
        },
        {
          "output_type": "display_data",
          "data": {
            "text/plain": [
              "<IPython.core.display.HTML object>"
            ],
            "text/html": [
              " View sweep at <a href='https://wandb.ai/karapa-rajesh-iit-madras/DeepLearning/sweeps/dzg25g50' target=\"_blank\">https://wandb.ai/karapa-rajesh-iit-madras/DeepLearning/sweeps/dzg25g50</a>"
            ]
          },
          "metadata": {}
        },
        {
          "output_type": "display_data",
          "data": {
            "text/plain": [
              "<IPython.core.display.HTML object>"
            ],
            "text/html": [
              " View run at <a href='https://wandb.ai/karapa-rajesh-iit-madras/DeepLearning/runs/dom0u3k0' target=\"_blank\">https://wandb.ai/karapa-rajesh-iit-madras/DeepLearning/runs/dom0u3k0</a>"
            ]
          },
          "metadata": {}
        },
        {
          "output_type": "display_data",
          "data": {
            "text/plain": [
              "<IPython.core.display.HTML object>"
            ],
            "text/html": []
          },
          "metadata": {}
        },
        {
          "output_type": "display_data",
          "data": {
            "text/plain": [
              "<IPython.core.display.HTML object>"
            ],
            "text/html": [
              "<br>    <style><br>        .wandb-row {<br>            display: flex;<br>            flex-direction: row;<br>            flex-wrap: wrap;<br>            justify-content: flex-start;<br>            width: 100%;<br>        }<br>        .wandb-col {<br>            display: flex;<br>            flex-direction: column;<br>            flex-basis: 100%;<br>            flex: 1;<br>            padding: 10px;<br>        }<br>    </style><br><div class=\"wandb-row\"><div class=\"wandb-col\"><h3>Run history:</h3><br/><table class=\"wandb\"><tr><td>epoch</td><td>▁▂▃▃▄▅▆▆▇█</td></tr><tr><td>loss</td><td>█▄▃▃▂▂▂▁▁▁</td></tr><tr><td>test_accuracy</td><td>▁</td></tr><tr><td>val_accuracy</td><td>▁▃▆▇▇█▆█▇█</td></tr></table><br/></div><div class=\"wandb-col\"><h3>Run summary:</h3><br/><table class=\"wandb\"><tr><td>epoch</td><td>10</td></tr><tr><td>loss</td><td>0.24478</td></tr><tr><td>test_accuracy</td><td>0.8819</td></tr><tr><td>val_accuracy</td><td>0.88367</td></tr></table><br/></div></div>"
            ]
          },
          "metadata": {}
        },
        {
          "output_type": "display_data",
          "data": {
            "text/plain": [
              "<IPython.core.display.HTML object>"
            ],
            "text/html": [
              " View run <strong style=\"color:#cdcd00\">stilted-sweep-20</strong> at: <a href='https://wandb.ai/karapa-rajesh-iit-madras/DeepLearning/runs/dom0u3k0' target=\"_blank\">https://wandb.ai/karapa-rajesh-iit-madras/DeepLearning/runs/dom0u3k0</a><br> View project at: <a href='https://wandb.ai/karapa-rajesh-iit-madras/DeepLearning' target=\"_blank\">https://wandb.ai/karapa-rajesh-iit-madras/DeepLearning</a><br>Synced 5 W&B file(s), 1 media file(s), 0 artifact file(s) and 0 other file(s)"
            ]
          },
          "metadata": {}
        },
        {
          "output_type": "display_data",
          "data": {
            "text/plain": [
              "<IPython.core.display.HTML object>"
            ],
            "text/html": [
              "Find logs at: <code>./wandb/run-20250316_162916-dom0u3k0/logs</code>"
            ]
          },
          "metadata": {}
        },
        {
          "output_type": "stream",
          "name": "stderr",
          "text": [
            "\u001b[34m\u001b[1mwandb\u001b[0m: Agent Starting Run: glr32eho with config:\n",
            "\u001b[34m\u001b[1mwandb\u001b[0m: \tactivation_func: relu\n",
            "\u001b[34m\u001b[1mwandb\u001b[0m: \tbatch_size: 128\n",
            "\u001b[34m\u001b[1mwandb\u001b[0m: \thiddenlayers: 5\n",
            "\u001b[34m\u001b[1mwandb\u001b[0m: \thiddennodes: 128\n",
            "\u001b[34m\u001b[1mwandb\u001b[0m: \tinitializer: Xavier\n",
            "\u001b[34m\u001b[1mwandb\u001b[0m: \tlearning_rate: 0.0005\n",
            "\u001b[34m\u001b[1mwandb\u001b[0m: \tloss: cross_entropy\n",
            "\u001b[34m\u001b[1mwandb\u001b[0m: \tnum_epochs: 15\n",
            "\u001b[34m\u001b[1mwandb\u001b[0m: \topt: rmsprop\n"
          ]
        },
        {
          "output_type": "display_data",
          "data": {
            "text/plain": [
              "<IPython.core.display.HTML object>"
            ],
            "text/html": [
              "Tracking run with wandb version 0.19.8"
            ]
          },
          "metadata": {}
        },
        {
          "output_type": "display_data",
          "data": {
            "text/plain": [
              "<IPython.core.display.HTML object>"
            ],
            "text/html": [
              "Run data is saved locally in <code>/content/wandb/run-20250316_163018-glr32eho</code>"
            ]
          },
          "metadata": {}
        },
        {
          "output_type": "display_data",
          "data": {
            "text/plain": [
              "<IPython.core.display.HTML object>"
            ],
            "text/html": [
              "Syncing run <strong><a href='https://wandb.ai/karapa-rajesh-iit-madras/DeepLearning/runs/glr32eho' target=\"_blank\">denim-sweep-21</a></strong> to <a href='https://wandb.ai/karapa-rajesh-iit-madras/DeepLearning' target=\"_blank\">Weights & Biases</a> (<a href='https://wandb.me/developer-guide' target=\"_blank\">docs</a>)<br>Sweep page: <a href='https://wandb.ai/karapa-rajesh-iit-madras/DeepLearning/sweeps/dzg25g50' target=\"_blank\">https://wandb.ai/karapa-rajesh-iit-madras/DeepLearning/sweeps/dzg25g50</a>"
            ]
          },
          "metadata": {}
        },
        {
          "output_type": "display_data",
          "data": {
            "text/plain": [
              "<IPython.core.display.HTML object>"
            ],
            "text/html": [
              " View project at <a href='https://wandb.ai/karapa-rajesh-iit-madras/DeepLearning' target=\"_blank\">https://wandb.ai/karapa-rajesh-iit-madras/DeepLearning</a>"
            ]
          },
          "metadata": {}
        },
        {
          "output_type": "display_data",
          "data": {
            "text/plain": [
              "<IPython.core.display.HTML object>"
            ],
            "text/html": [
              " View sweep at <a href='https://wandb.ai/karapa-rajesh-iit-madras/DeepLearning/sweeps/dzg25g50' target=\"_blank\">https://wandb.ai/karapa-rajesh-iit-madras/DeepLearning/sweeps/dzg25g50</a>"
            ]
          },
          "metadata": {}
        },
        {
          "output_type": "display_data",
          "data": {
            "text/plain": [
              "<IPython.core.display.HTML object>"
            ],
            "text/html": [
              " View run at <a href='https://wandb.ai/karapa-rajesh-iit-madras/DeepLearning/runs/glr32eho' target=\"_blank\">https://wandb.ai/karapa-rajesh-iit-madras/DeepLearning/runs/glr32eho</a>"
            ]
          },
          "metadata": {}
        },
        {
          "output_type": "display_data",
          "data": {
            "text/plain": [
              "<IPython.core.display.HTML object>"
            ],
            "text/html": []
          },
          "metadata": {}
        },
        {
          "output_type": "display_data",
          "data": {
            "text/plain": [
              "<IPython.core.display.HTML object>"
            ],
            "text/html": [
              "<br>    <style><br>        .wandb-row {<br>            display: flex;<br>            flex-direction: row;<br>            flex-wrap: wrap;<br>            justify-content: flex-start;<br>            width: 100%;<br>        }<br>        .wandb-col {<br>            display: flex;<br>            flex-direction: column;<br>            flex-basis: 100%;<br>            flex: 1;<br>            padding: 10px;<br>        }<br>    </style><br><div class=\"wandb-row\"><div class=\"wandb-col\"><h3>Run history:</h3><br/><table class=\"wandb\"><tr><td>epoch</td><td>▁▁▂▃▃▃▄▅▅▅▆▇▇▇█</td></tr><tr><td>loss</td><td>█▅▄▃▃▃▂▂▂▂▂▁▁▁▁</td></tr><tr><td>test_accuracy</td><td>▁</td></tr><tr><td>val_accuracy</td><td>▁▂▂▅▆▅▇▇▇▇▇█▇▇▇</td></tr></table><br/></div><div class=\"wandb-col\"><h3>Run summary:</h3><br/><table class=\"wandb\"><tr><td>epoch</td><td>15</td></tr><tr><td>loss</td><td>0.20826</td></tr><tr><td>test_accuracy</td><td>0.88</td></tr><tr><td>val_accuracy</td><td>0.88433</td></tr></table><br/></div></div>"
            ]
          },
          "metadata": {}
        },
        {
          "output_type": "display_data",
          "data": {
            "text/plain": [
              "<IPython.core.display.HTML object>"
            ],
            "text/html": [
              " View run <strong style=\"color:#cdcd00\">denim-sweep-21</strong> at: <a href='https://wandb.ai/karapa-rajesh-iit-madras/DeepLearning/runs/glr32eho' target=\"_blank\">https://wandb.ai/karapa-rajesh-iit-madras/DeepLearning/runs/glr32eho</a><br> View project at: <a href='https://wandb.ai/karapa-rajesh-iit-madras/DeepLearning' target=\"_blank\">https://wandb.ai/karapa-rajesh-iit-madras/DeepLearning</a><br>Synced 5 W&B file(s), 1 media file(s), 0 artifact file(s) and 0 other file(s)"
            ]
          },
          "metadata": {}
        },
        {
          "output_type": "display_data",
          "data": {
            "text/plain": [
              "<IPython.core.display.HTML object>"
            ],
            "text/html": [
              "Find logs at: <code>./wandb/run-20250316_163018-glr32eho/logs</code>"
            ]
          },
          "metadata": {}
        },
        {
          "output_type": "stream",
          "name": "stderr",
          "text": [
            "\u001b[34m\u001b[1mwandb\u001b[0m: Agent Starting Run: 6lb0xihg with config:\n",
            "\u001b[34m\u001b[1mwandb\u001b[0m: \tactivation_func: relu\n",
            "\u001b[34m\u001b[1mwandb\u001b[0m: \tbatch_size: 128\n",
            "\u001b[34m\u001b[1mwandb\u001b[0m: \thiddenlayers: 5\n",
            "\u001b[34m\u001b[1mwandb\u001b[0m: \thiddennodes: 128\n",
            "\u001b[34m\u001b[1mwandb\u001b[0m: \tinitializer: Xavier\n",
            "\u001b[34m\u001b[1mwandb\u001b[0m: \tlearning_rate: 0.0005\n",
            "\u001b[34m\u001b[1mwandb\u001b[0m: \tloss: cross_entropy\n",
            "\u001b[34m\u001b[1mwandb\u001b[0m: \tnum_epochs: 10\n",
            "\u001b[34m\u001b[1mwandb\u001b[0m: \topt: nesterov\n"
          ]
        },
        {
          "output_type": "display_data",
          "data": {
            "text/plain": [
              "<IPython.core.display.HTML object>"
            ],
            "text/html": [
              "Tracking run with wandb version 0.19.8"
            ]
          },
          "metadata": {}
        },
        {
          "output_type": "display_data",
          "data": {
            "text/plain": [
              "<IPython.core.display.HTML object>"
            ],
            "text/html": [
              "Run data is saved locally in <code>/content/wandb/run-20250316_163133-6lb0xihg</code>"
            ]
          },
          "metadata": {}
        },
        {
          "output_type": "display_data",
          "data": {
            "text/plain": [
              "<IPython.core.display.HTML object>"
            ],
            "text/html": [
              "Syncing run <strong><a href='https://wandb.ai/karapa-rajesh-iit-madras/DeepLearning/runs/6lb0xihg' target=\"_blank\">bright-sweep-22</a></strong> to <a href='https://wandb.ai/karapa-rajesh-iit-madras/DeepLearning' target=\"_blank\">Weights & Biases</a> (<a href='https://wandb.me/developer-guide' target=\"_blank\">docs</a>)<br>Sweep page: <a href='https://wandb.ai/karapa-rajesh-iit-madras/DeepLearning/sweeps/dzg25g50' target=\"_blank\">https://wandb.ai/karapa-rajesh-iit-madras/DeepLearning/sweeps/dzg25g50</a>"
            ]
          },
          "metadata": {}
        },
        {
          "output_type": "display_data",
          "data": {
            "text/plain": [
              "<IPython.core.display.HTML object>"
            ],
            "text/html": [
              " View project at <a href='https://wandb.ai/karapa-rajesh-iit-madras/DeepLearning' target=\"_blank\">https://wandb.ai/karapa-rajesh-iit-madras/DeepLearning</a>"
            ]
          },
          "metadata": {}
        },
        {
          "output_type": "display_data",
          "data": {
            "text/plain": [
              "<IPython.core.display.HTML object>"
            ],
            "text/html": [
              " View sweep at <a href='https://wandb.ai/karapa-rajesh-iit-madras/DeepLearning/sweeps/dzg25g50' target=\"_blank\">https://wandb.ai/karapa-rajesh-iit-madras/DeepLearning/sweeps/dzg25g50</a>"
            ]
          },
          "metadata": {}
        },
        {
          "output_type": "display_data",
          "data": {
            "text/plain": [
              "<IPython.core.display.HTML object>"
            ],
            "text/html": [
              " View run at <a href='https://wandb.ai/karapa-rajesh-iit-madras/DeepLearning/runs/6lb0xihg' target=\"_blank\">https://wandb.ai/karapa-rajesh-iit-madras/DeepLearning/runs/6lb0xihg</a>"
            ]
          },
          "metadata": {}
        },
        {
          "output_type": "display_data",
          "data": {
            "text/plain": [
              "<IPython.core.display.HTML object>"
            ],
            "text/html": []
          },
          "metadata": {}
        },
        {
          "output_type": "display_data",
          "data": {
            "text/plain": [
              "<IPython.core.display.HTML object>"
            ],
            "text/html": [
              "<br>    <style><br>        .wandb-row {<br>            display: flex;<br>            flex-direction: row;<br>            flex-wrap: wrap;<br>            justify-content: flex-start;<br>            width: 100%;<br>        }<br>        .wandb-col {<br>            display: flex;<br>            flex-direction: column;<br>            flex-basis: 100%;<br>            flex: 1;<br>            padding: 10px;<br>        }<br>    </style><br><div class=\"wandb-row\"><div class=\"wandb-col\"><h3>Run history:</h3><br/><table class=\"wandb\"><tr><td>epoch</td><td>▁▂▃▃▄▅▆▆▇█</td></tr><tr><td>loss</td><td>█▃▂▂▂▁▁▁▁▁</td></tr><tr><td>test_accuracy</td><td>▁</td></tr><tr><td>val_accuracy</td><td>▁▄▆▇▇▇████</td></tr></table><br/></div><div class=\"wandb-col\"><h3>Run summary:</h3><br/><table class=\"wandb\"><tr><td>epoch</td><td>10</td></tr><tr><td>loss</td><td>0.40538</td></tr><tr><td>test_accuracy</td><td>0.8438</td></tr><tr><td>val_accuracy</td><td>0.85317</td></tr></table><br/></div></div>"
            ]
          },
          "metadata": {}
        },
        {
          "output_type": "display_data",
          "data": {
            "text/plain": [
              "<IPython.core.display.HTML object>"
            ],
            "text/html": [
              " View run <strong style=\"color:#cdcd00\">bright-sweep-22</strong> at: <a href='https://wandb.ai/karapa-rajesh-iit-madras/DeepLearning/runs/6lb0xihg' target=\"_blank\">https://wandb.ai/karapa-rajesh-iit-madras/DeepLearning/runs/6lb0xihg</a><br> View project at: <a href='https://wandb.ai/karapa-rajesh-iit-madras/DeepLearning' target=\"_blank\">https://wandb.ai/karapa-rajesh-iit-madras/DeepLearning</a><br>Synced 5 W&B file(s), 1 media file(s), 0 artifact file(s) and 0 other file(s)"
            ]
          },
          "metadata": {}
        },
        {
          "output_type": "display_data",
          "data": {
            "text/plain": [
              "<IPython.core.display.HTML object>"
            ],
            "text/html": [
              "Find logs at: <code>./wandb/run-20250316_163133-6lb0xihg/logs</code>"
            ]
          },
          "metadata": {}
        },
        {
          "output_type": "stream",
          "name": "stderr",
          "text": [
            "\u001b[34m\u001b[1mwandb\u001b[0m: Agent Starting Run: hnp6y9z7 with config:\n",
            "\u001b[34m\u001b[1mwandb\u001b[0m: \tactivation_func: relu\n",
            "\u001b[34m\u001b[1mwandb\u001b[0m: \tbatch_size: 64\n",
            "\u001b[34m\u001b[1mwandb\u001b[0m: \thiddenlayers: 5\n",
            "\u001b[34m\u001b[1mwandb\u001b[0m: \thiddennodes: 256\n",
            "\u001b[34m\u001b[1mwandb\u001b[0m: \tinitializer: Xavier\n",
            "\u001b[34m\u001b[1mwandb\u001b[0m: \tlearning_rate: 0.0005\n",
            "\u001b[34m\u001b[1mwandb\u001b[0m: \tloss: cross_entropy\n",
            "\u001b[34m\u001b[1mwandb\u001b[0m: \tnum_epochs: 10\n",
            "\u001b[34m\u001b[1mwandb\u001b[0m: \topt: rmsprop\n"
          ]
        },
        {
          "output_type": "display_data",
          "data": {
            "text/plain": [
              "<IPython.core.display.HTML object>"
            ],
            "text/html": [
              "Tracking run with wandb version 0.19.8"
            ]
          },
          "metadata": {}
        },
        {
          "output_type": "display_data",
          "data": {
            "text/plain": [
              "<IPython.core.display.HTML object>"
            ],
            "text/html": [
              "Run data is saved locally in <code>/content/wandb/run-20250316_163223-hnp6y9z7</code>"
            ]
          },
          "metadata": {}
        },
        {
          "output_type": "display_data",
          "data": {
            "text/plain": [
              "<IPython.core.display.HTML object>"
            ],
            "text/html": [
              "Syncing run <strong><a href='https://wandb.ai/karapa-rajesh-iit-madras/DeepLearning/runs/hnp6y9z7' target=\"_blank\">morning-sweep-23</a></strong> to <a href='https://wandb.ai/karapa-rajesh-iit-madras/DeepLearning' target=\"_blank\">Weights & Biases</a> (<a href='https://wandb.me/developer-guide' target=\"_blank\">docs</a>)<br>Sweep page: <a href='https://wandb.ai/karapa-rajesh-iit-madras/DeepLearning/sweeps/dzg25g50' target=\"_blank\">https://wandb.ai/karapa-rajesh-iit-madras/DeepLearning/sweeps/dzg25g50</a>"
            ]
          },
          "metadata": {}
        },
        {
          "output_type": "display_data",
          "data": {
            "text/plain": [
              "<IPython.core.display.HTML object>"
            ],
            "text/html": [
              " View project at <a href='https://wandb.ai/karapa-rajesh-iit-madras/DeepLearning' target=\"_blank\">https://wandb.ai/karapa-rajesh-iit-madras/DeepLearning</a>"
            ]
          },
          "metadata": {}
        },
        {
          "output_type": "display_data",
          "data": {
            "text/plain": [
              "<IPython.core.display.HTML object>"
            ],
            "text/html": [
              " View sweep at <a href='https://wandb.ai/karapa-rajesh-iit-madras/DeepLearning/sweeps/dzg25g50' target=\"_blank\">https://wandb.ai/karapa-rajesh-iit-madras/DeepLearning/sweeps/dzg25g50</a>"
            ]
          },
          "metadata": {}
        },
        {
          "output_type": "display_data",
          "data": {
            "text/plain": [
              "<IPython.core.display.HTML object>"
            ],
            "text/html": [
              " View run at <a href='https://wandb.ai/karapa-rajesh-iit-madras/DeepLearning/runs/hnp6y9z7' target=\"_blank\">https://wandb.ai/karapa-rajesh-iit-madras/DeepLearning/runs/hnp6y9z7</a>"
            ]
          },
          "metadata": {}
        },
        {
          "output_type": "display_data",
          "data": {
            "text/plain": [
              "<IPython.core.display.HTML object>"
            ],
            "text/html": []
          },
          "metadata": {}
        },
        {
          "output_type": "display_data",
          "data": {
            "text/plain": [
              "<IPython.core.display.HTML object>"
            ],
            "text/html": [
              "<br>    <style><br>        .wandb-row {<br>            display: flex;<br>            flex-direction: row;<br>            flex-wrap: wrap;<br>            justify-content: flex-start;<br>            width: 100%;<br>        }<br>        .wandb-col {<br>            display: flex;<br>            flex-direction: column;<br>            flex-basis: 100%;<br>            flex: 1;<br>            padding: 10px;<br>        }<br>    </style><br><div class=\"wandb-row\"><div class=\"wandb-col\"><h3>Run history:</h3><br/><table class=\"wandb\"><tr><td>epoch</td><td>▁▂▃▃▄▅▆▆▇█</td></tr><tr><td>loss</td><td>█▄▃▂▁▁▁▁▁▁</td></tr><tr><td>test_accuracy</td><td>▁</td></tr><tr><td>val_accuracy</td><td>▁▄▆▄▆▆▇▇▃█</td></tr></table><br/></div><div class=\"wandb-col\"><h3>Run summary:</h3><br/><table class=\"wandb\"><tr><td>epoch</td><td>10</td></tr><tr><td>loss</td><td>0.2939</td></tr><tr><td>test_accuracy</td><td>0.8754</td></tr><tr><td>val_accuracy</td><td>0.88633</td></tr></table><br/></div></div>"
            ]
          },
          "metadata": {}
        },
        {
          "output_type": "display_data",
          "data": {
            "text/plain": [
              "<IPython.core.display.HTML object>"
            ],
            "text/html": [
              " View run <strong style=\"color:#cdcd00\">morning-sweep-23</strong> at: <a href='https://wandb.ai/karapa-rajesh-iit-madras/DeepLearning/runs/hnp6y9z7' target=\"_blank\">https://wandb.ai/karapa-rajesh-iit-madras/DeepLearning/runs/hnp6y9z7</a><br> View project at: <a href='https://wandb.ai/karapa-rajesh-iit-madras/DeepLearning' target=\"_blank\">https://wandb.ai/karapa-rajesh-iit-madras/DeepLearning</a><br>Synced 5 W&B file(s), 1 media file(s), 0 artifact file(s) and 0 other file(s)"
            ]
          },
          "metadata": {}
        },
        {
          "output_type": "display_data",
          "data": {
            "text/plain": [
              "<IPython.core.display.HTML object>"
            ],
            "text/html": [
              "Find logs at: <code>./wandb/run-20250316_163223-hnp6y9z7/logs</code>"
            ]
          },
          "metadata": {}
        },
        {
          "output_type": "stream",
          "name": "stderr",
          "text": [
            "\u001b[34m\u001b[1mwandb\u001b[0m: Agent Starting Run: 4oxyeawu with config:\n",
            "\u001b[34m\u001b[1mwandb\u001b[0m: \tactivation_func: relu\n",
            "\u001b[34m\u001b[1mwandb\u001b[0m: \tbatch_size: 64\n",
            "\u001b[34m\u001b[1mwandb\u001b[0m: \thiddenlayers: 3\n",
            "\u001b[34m\u001b[1mwandb\u001b[0m: \thiddennodes: 256\n",
            "\u001b[34m\u001b[1mwandb\u001b[0m: \tinitializer: Xavier\n",
            "\u001b[34m\u001b[1mwandb\u001b[0m: \tlearning_rate: 0.001\n",
            "\u001b[34m\u001b[1mwandb\u001b[0m: \tloss: cross_entropy\n",
            "\u001b[34m\u001b[1mwandb\u001b[0m: \tnum_epochs: 10\n",
            "\u001b[34m\u001b[1mwandb\u001b[0m: \topt: nadam\n"
          ]
        },
        {
          "output_type": "display_data",
          "data": {
            "text/plain": [
              "<IPython.core.display.HTML object>"
            ],
            "text/html": [
              "Tracking run with wandb version 0.19.8"
            ]
          },
          "metadata": {}
        },
        {
          "output_type": "display_data",
          "data": {
            "text/plain": [
              "<IPython.core.display.HTML object>"
            ],
            "text/html": [
              "Run data is saved locally in <code>/content/wandb/run-20250316_163522-4oxyeawu</code>"
            ]
          },
          "metadata": {}
        },
        {
          "output_type": "display_data",
          "data": {
            "text/plain": [
              "<IPython.core.display.HTML object>"
            ],
            "text/html": [
              "Syncing run <strong><a href='https://wandb.ai/karapa-rajesh-iit-madras/DeepLearning/runs/4oxyeawu' target=\"_blank\">crisp-sweep-24</a></strong> to <a href='https://wandb.ai/karapa-rajesh-iit-madras/DeepLearning' target=\"_blank\">Weights & Biases</a> (<a href='https://wandb.me/developer-guide' target=\"_blank\">docs</a>)<br>Sweep page: <a href='https://wandb.ai/karapa-rajesh-iit-madras/DeepLearning/sweeps/dzg25g50' target=\"_blank\">https://wandb.ai/karapa-rajesh-iit-madras/DeepLearning/sweeps/dzg25g50</a>"
            ]
          },
          "metadata": {}
        },
        {
          "output_type": "display_data",
          "data": {
            "text/plain": [
              "<IPython.core.display.HTML object>"
            ],
            "text/html": [
              " View project at <a href='https://wandb.ai/karapa-rajesh-iit-madras/DeepLearning' target=\"_blank\">https://wandb.ai/karapa-rajesh-iit-madras/DeepLearning</a>"
            ]
          },
          "metadata": {}
        },
        {
          "output_type": "display_data",
          "data": {
            "text/plain": [
              "<IPython.core.display.HTML object>"
            ],
            "text/html": [
              " View sweep at <a href='https://wandb.ai/karapa-rajesh-iit-madras/DeepLearning/sweeps/dzg25g50' target=\"_blank\">https://wandb.ai/karapa-rajesh-iit-madras/DeepLearning/sweeps/dzg25g50</a>"
            ]
          },
          "metadata": {}
        },
        {
          "output_type": "display_data",
          "data": {
            "text/plain": [
              "<IPython.core.display.HTML object>"
            ],
            "text/html": [
              " View run at <a href='https://wandb.ai/karapa-rajesh-iit-madras/DeepLearning/runs/4oxyeawu' target=\"_blank\">https://wandb.ai/karapa-rajesh-iit-madras/DeepLearning/runs/4oxyeawu</a>"
            ]
          },
          "metadata": {}
        },
        {
          "output_type": "display_data",
          "data": {
            "text/plain": [
              "<IPython.core.display.HTML object>"
            ],
            "text/html": []
          },
          "metadata": {}
        },
        {
          "output_type": "display_data",
          "data": {
            "text/plain": [
              "<IPython.core.display.HTML object>"
            ],
            "text/html": [
              "<br>    <style><br>        .wandb-row {<br>            display: flex;<br>            flex-direction: row;<br>            flex-wrap: wrap;<br>            justify-content: flex-start;<br>            width: 100%;<br>        }<br>        .wandb-col {<br>            display: flex;<br>            flex-direction: column;<br>            flex-basis: 100%;<br>            flex: 1;<br>            padding: 10px;<br>        }<br>    </style><br><div class=\"wandb-row\"><div class=\"wandb-col\"><h3>Run history:</h3><br/><table class=\"wandb\"><tr><td>epoch</td><td>▁▂▃▃▄▅▆▆▇█</td></tr><tr><td>loss</td><td>█▅▄▃▃▂▂▂▁▁</td></tr><tr><td>test_accuracy</td><td>▁</td></tr><tr><td>val_accuracy</td><td>▁▅▅▅▃▇▇▇██</td></tr></table><br/></div><div class=\"wandb-col\"><h3>Run summary:</h3><br/><table class=\"wandb\"><tr><td>epoch</td><td>10</td></tr><tr><td>loss</td><td>0.21903</td></tr><tr><td>test_accuracy</td><td>0.885</td></tr><tr><td>val_accuracy</td><td>0.89067</td></tr></table><br/></div></div>"
            ]
          },
          "metadata": {}
        },
        {
          "output_type": "display_data",
          "data": {
            "text/plain": [
              "<IPython.core.display.HTML object>"
            ],
            "text/html": [
              " View run <strong style=\"color:#cdcd00\">crisp-sweep-24</strong> at: <a href='https://wandb.ai/karapa-rajesh-iit-madras/DeepLearning/runs/4oxyeawu' target=\"_blank\">https://wandb.ai/karapa-rajesh-iit-madras/DeepLearning/runs/4oxyeawu</a><br> View project at: <a href='https://wandb.ai/karapa-rajesh-iit-madras/DeepLearning' target=\"_blank\">https://wandb.ai/karapa-rajesh-iit-madras/DeepLearning</a><br>Synced 5 W&B file(s), 1 media file(s), 0 artifact file(s) and 0 other file(s)"
            ]
          },
          "metadata": {}
        },
        {
          "output_type": "display_data",
          "data": {
            "text/plain": [
              "<IPython.core.display.HTML object>"
            ],
            "text/html": [
              "Find logs at: <code>./wandb/run-20250316_163522-4oxyeawu/logs</code>"
            ]
          },
          "metadata": {}
        },
        {
          "output_type": "stream",
          "name": "stderr",
          "text": [
            "\u001b[34m\u001b[1mwandb\u001b[0m: Agent Starting Run: 0v9y2l9z with config:\n",
            "\u001b[34m\u001b[1mwandb\u001b[0m: \tactivation_func: relu\n",
            "\u001b[34m\u001b[1mwandb\u001b[0m: \tbatch_size: 128\n",
            "\u001b[34m\u001b[1mwandb\u001b[0m: \thiddenlayers: 3\n",
            "\u001b[34m\u001b[1mwandb\u001b[0m: \thiddennodes: 256\n",
            "\u001b[34m\u001b[1mwandb\u001b[0m: \tinitializer: Xavier\n",
            "\u001b[34m\u001b[1mwandb\u001b[0m: \tlearning_rate: 0.001\n",
            "\u001b[34m\u001b[1mwandb\u001b[0m: \tloss: cross_entropy\n",
            "\u001b[34m\u001b[1mwandb\u001b[0m: \tnum_epochs: 15\n",
            "\u001b[34m\u001b[1mwandb\u001b[0m: \topt: nadam\n"
          ]
        },
        {
          "output_type": "display_data",
          "data": {
            "text/plain": [
              "<IPython.core.display.HTML object>"
            ],
            "text/html": [
              "Tracking run with wandb version 0.19.8"
            ]
          },
          "metadata": {}
        },
        {
          "output_type": "display_data",
          "data": {
            "text/plain": [
              "<IPython.core.display.HTML object>"
            ],
            "text/html": [
              "Run data is saved locally in <code>/content/wandb/run-20250316_163808-0v9y2l9z</code>"
            ]
          },
          "metadata": {}
        },
        {
          "output_type": "display_data",
          "data": {
            "text/plain": [
              "<IPython.core.display.HTML object>"
            ],
            "text/html": [
              "Syncing run <strong><a href='https://wandb.ai/karapa-rajesh-iit-madras/DeepLearning/runs/0v9y2l9z' target=\"_blank\">unique-sweep-25</a></strong> to <a href='https://wandb.ai/karapa-rajesh-iit-madras/DeepLearning' target=\"_blank\">Weights & Biases</a> (<a href='https://wandb.me/developer-guide' target=\"_blank\">docs</a>)<br>Sweep page: <a href='https://wandb.ai/karapa-rajesh-iit-madras/DeepLearning/sweeps/dzg25g50' target=\"_blank\">https://wandb.ai/karapa-rajesh-iit-madras/DeepLearning/sweeps/dzg25g50</a>"
            ]
          },
          "metadata": {}
        },
        {
          "output_type": "display_data",
          "data": {
            "text/plain": [
              "<IPython.core.display.HTML object>"
            ],
            "text/html": [
              " View project at <a href='https://wandb.ai/karapa-rajesh-iit-madras/DeepLearning' target=\"_blank\">https://wandb.ai/karapa-rajesh-iit-madras/DeepLearning</a>"
            ]
          },
          "metadata": {}
        },
        {
          "output_type": "display_data",
          "data": {
            "text/plain": [
              "<IPython.core.display.HTML object>"
            ],
            "text/html": [
              " View sweep at <a href='https://wandb.ai/karapa-rajesh-iit-madras/DeepLearning/sweeps/dzg25g50' target=\"_blank\">https://wandb.ai/karapa-rajesh-iit-madras/DeepLearning/sweeps/dzg25g50</a>"
            ]
          },
          "metadata": {}
        },
        {
          "output_type": "display_data",
          "data": {
            "text/plain": [
              "<IPython.core.display.HTML object>"
            ],
            "text/html": [
              " View run at <a href='https://wandb.ai/karapa-rajesh-iit-madras/DeepLearning/runs/0v9y2l9z' target=\"_blank\">https://wandb.ai/karapa-rajesh-iit-madras/DeepLearning/runs/0v9y2l9z</a>"
            ]
          },
          "metadata": {}
        },
        {
          "output_type": "display_data",
          "data": {
            "text/plain": [
              "<IPython.core.display.HTML object>"
            ],
            "text/html": []
          },
          "metadata": {}
        },
        {
          "output_type": "display_data",
          "data": {
            "text/plain": [
              "<IPython.core.display.HTML object>"
            ],
            "text/html": [
              "<br>    <style><br>        .wandb-row {<br>            display: flex;<br>            flex-direction: row;<br>            flex-wrap: wrap;<br>            justify-content: flex-start;<br>            width: 100%;<br>        }<br>        .wandb-col {<br>            display: flex;<br>            flex-direction: column;<br>            flex-basis: 100%;<br>            flex: 1;<br>            padding: 10px;<br>        }<br>    </style><br><div class=\"wandb-row\"><div class=\"wandb-col\"><h3>Run history:</h3><br/><table class=\"wandb\"><tr><td>epoch</td><td>▁▁▂▃▃▃▄▅▅▅▆▇▇▇█</td></tr><tr><td>loss</td><td>█▅▄▄▃▃▃▂▂▂▂▂▁▁▁</td></tr><tr><td>test_accuracy</td><td>▁</td></tr><tr><td>val_accuracy</td><td>▁▅▅▆▅▇▆▇███▇█▇█</td></tr></table><br/></div><div class=\"wandb-col\"><h3>Run summary:</h3><br/><table class=\"wandb\"><tr><td>epoch</td><td>15</td></tr><tr><td>loss</td><td>0.16974</td></tr><tr><td>test_accuracy</td><td>0.8918</td></tr><tr><td>val_accuracy</td><td>0.891</td></tr></table><br/></div></div>"
            ]
          },
          "metadata": {}
        },
        {
          "output_type": "display_data",
          "data": {
            "text/plain": [
              "<IPython.core.display.HTML object>"
            ],
            "text/html": [
              " View run <strong style=\"color:#cdcd00\">unique-sweep-25</strong> at: <a href='https://wandb.ai/karapa-rajesh-iit-madras/DeepLearning/runs/0v9y2l9z' target=\"_blank\">https://wandb.ai/karapa-rajesh-iit-madras/DeepLearning/runs/0v9y2l9z</a><br> View project at: <a href='https://wandb.ai/karapa-rajesh-iit-madras/DeepLearning' target=\"_blank\">https://wandb.ai/karapa-rajesh-iit-madras/DeepLearning</a><br>Synced 5 W&B file(s), 1 media file(s), 0 artifact file(s) and 0 other file(s)"
            ]
          },
          "metadata": {}
        },
        {
          "output_type": "display_data",
          "data": {
            "text/plain": [
              "<IPython.core.display.HTML object>"
            ],
            "text/html": [
              "Find logs at: <code>./wandb/run-20250316_163808-0v9y2l9z/logs</code>"
            ]
          },
          "metadata": {}
        },
        {
          "output_type": "stream",
          "name": "stderr",
          "text": [
            "\u001b[34m\u001b[1mwandb\u001b[0m: Sweep Agent: Waiting for job.\n",
            "\u001b[34m\u001b[1mwandb\u001b[0m: Job received.\n",
            "\u001b[34m\u001b[1mwandb\u001b[0m: Agent Starting Run: brylqe0d with config:\n",
            "\u001b[34m\u001b[1mwandb\u001b[0m: \tactivation_func: relu\n",
            "\u001b[34m\u001b[1mwandb\u001b[0m: \tbatch_size: 128\n",
            "\u001b[34m\u001b[1mwandb\u001b[0m: \thiddenlayers: 5\n",
            "\u001b[34m\u001b[1mwandb\u001b[0m: \thiddennodes: 128\n",
            "\u001b[34m\u001b[1mwandb\u001b[0m: \tinitializer: Xavier\n",
            "\u001b[34m\u001b[1mwandb\u001b[0m: \tlearning_rate: 0.001\n",
            "\u001b[34m\u001b[1mwandb\u001b[0m: \tloss: cross_entropy\n",
            "\u001b[34m\u001b[1mwandb\u001b[0m: \tnum_epochs: 15\n",
            "\u001b[34m\u001b[1mwandb\u001b[0m: \topt: nadam\n"
          ]
        },
        {
          "output_type": "display_data",
          "data": {
            "text/plain": [
              "<IPython.core.display.HTML object>"
            ],
            "text/html": [
              "Tracking run with wandb version 0.19.8"
            ]
          },
          "metadata": {}
        },
        {
          "output_type": "display_data",
          "data": {
            "text/plain": [
              "<IPython.core.display.HTML object>"
            ],
            "text/html": [
              "Run data is saved locally in <code>/content/wandb/run-20250316_164051-brylqe0d</code>"
            ]
          },
          "metadata": {}
        },
        {
          "output_type": "display_data",
          "data": {
            "text/plain": [
              "<IPython.core.display.HTML object>"
            ],
            "text/html": [
              "Syncing run <strong><a href='https://wandb.ai/karapa-rajesh-iit-madras/DeepLearning/runs/brylqe0d' target=\"_blank\">toasty-sweep-26</a></strong> to <a href='https://wandb.ai/karapa-rajesh-iit-madras/DeepLearning' target=\"_blank\">Weights & Biases</a> (<a href='https://wandb.me/developer-guide' target=\"_blank\">docs</a>)<br>Sweep page: <a href='https://wandb.ai/karapa-rajesh-iit-madras/DeepLearning/sweeps/dzg25g50' target=\"_blank\">https://wandb.ai/karapa-rajesh-iit-madras/DeepLearning/sweeps/dzg25g50</a>"
            ]
          },
          "metadata": {}
        },
        {
          "output_type": "display_data",
          "data": {
            "text/plain": [
              "<IPython.core.display.HTML object>"
            ],
            "text/html": [
              " View project at <a href='https://wandb.ai/karapa-rajesh-iit-madras/DeepLearning' target=\"_blank\">https://wandb.ai/karapa-rajesh-iit-madras/DeepLearning</a>"
            ]
          },
          "metadata": {}
        },
        {
          "output_type": "display_data",
          "data": {
            "text/plain": [
              "<IPython.core.display.HTML object>"
            ],
            "text/html": [
              " View sweep at <a href='https://wandb.ai/karapa-rajesh-iit-madras/DeepLearning/sweeps/dzg25g50' target=\"_blank\">https://wandb.ai/karapa-rajesh-iit-madras/DeepLearning/sweeps/dzg25g50</a>"
            ]
          },
          "metadata": {}
        },
        {
          "output_type": "display_data",
          "data": {
            "text/plain": [
              "<IPython.core.display.HTML object>"
            ],
            "text/html": [
              " View run at <a href='https://wandb.ai/karapa-rajesh-iit-madras/DeepLearning/runs/brylqe0d' target=\"_blank\">https://wandb.ai/karapa-rajesh-iit-madras/DeepLearning/runs/brylqe0d</a>"
            ]
          },
          "metadata": {}
        },
        {
          "output_type": "display_data",
          "data": {
            "text/plain": [
              "<IPython.core.display.HTML object>"
            ],
            "text/html": []
          },
          "metadata": {}
        },
        {
          "output_type": "display_data",
          "data": {
            "text/plain": [
              "<IPython.core.display.HTML object>"
            ],
            "text/html": [
              "<br>    <style><br>        .wandb-row {<br>            display: flex;<br>            flex-direction: row;<br>            flex-wrap: wrap;<br>            justify-content: flex-start;<br>            width: 100%;<br>        }<br>        .wandb-col {<br>            display: flex;<br>            flex-direction: column;<br>            flex-basis: 100%;<br>            flex: 1;<br>            padding: 10px;<br>        }<br>    </style><br><div class=\"wandb-row\"><div class=\"wandb-col\"><h3>Run history:</h3><br/><table class=\"wandb\"><tr><td>epoch</td><td>▁▁▂▃▃▃▄▅▅▅▆▇▇▇█</td></tr><tr><td>loss</td><td>█▅▄▄▃▃▂▂▂▂▂▁▁▁▁</td></tr><tr><td>test_accuracy</td><td>▁</td></tr><tr><td>val_accuracy</td><td>▁▄▅▆▆▇▆▆▇▇▇▇███</td></tr></table><br/></div><div class=\"wandb-col\"><h3>Run summary:</h3><br/><table class=\"wandb\"><tr><td>epoch</td><td>15</td></tr><tr><td>loss</td><td>0.19527</td></tr><tr><td>test_accuracy</td><td>0.8813</td></tr><tr><td>val_accuracy</td><td>0.88867</td></tr></table><br/></div></div>"
            ]
          },
          "metadata": {}
        },
        {
          "output_type": "display_data",
          "data": {
            "text/plain": [
              "<IPython.core.display.HTML object>"
            ],
            "text/html": [
              " View run <strong style=\"color:#cdcd00\">toasty-sweep-26</strong> at: <a href='https://wandb.ai/karapa-rajesh-iit-madras/DeepLearning/runs/brylqe0d' target=\"_blank\">https://wandb.ai/karapa-rajesh-iit-madras/DeepLearning/runs/brylqe0d</a><br> View project at: <a href='https://wandb.ai/karapa-rajesh-iit-madras/DeepLearning' target=\"_blank\">https://wandb.ai/karapa-rajesh-iit-madras/DeepLearning</a><br>Synced 5 W&B file(s), 1 media file(s), 0 artifact file(s) and 0 other file(s)"
            ]
          },
          "metadata": {}
        },
        {
          "output_type": "display_data",
          "data": {
            "text/plain": [
              "<IPython.core.display.HTML object>"
            ],
            "text/html": [
              "Find logs at: <code>./wandb/run-20250316_164051-brylqe0d/logs</code>"
            ]
          },
          "metadata": {}
        },
        {
          "output_type": "stream",
          "name": "stderr",
          "text": [
            "\u001b[34m\u001b[1mwandb\u001b[0m: Agent Starting Run: qnf3fu95 with config:\n",
            "\u001b[34m\u001b[1mwandb\u001b[0m: \tactivation_func: relu\n",
            "\u001b[34m\u001b[1mwandb\u001b[0m: \tbatch_size: 128\n",
            "\u001b[34m\u001b[1mwandb\u001b[0m: \thiddenlayers: 3\n",
            "\u001b[34m\u001b[1mwandb\u001b[0m: \thiddennodes: 128\n",
            "\u001b[34m\u001b[1mwandb\u001b[0m: \tinitializer: Xavier\n",
            "\u001b[34m\u001b[1mwandb\u001b[0m: \tlearning_rate: 0.001\n",
            "\u001b[34m\u001b[1mwandb\u001b[0m: \tloss: cross_entropy\n",
            "\u001b[34m\u001b[1mwandb\u001b[0m: \tnum_epochs: 10\n",
            "\u001b[34m\u001b[1mwandb\u001b[0m: \topt: momentum\n"
          ]
        },
        {
          "output_type": "display_data",
          "data": {
            "text/plain": [
              "<IPython.core.display.HTML object>"
            ],
            "text/html": [
              "Tracking run with wandb version 0.19.8"
            ]
          },
          "metadata": {}
        },
        {
          "output_type": "display_data",
          "data": {
            "text/plain": [
              "<IPython.core.display.HTML object>"
            ],
            "text/html": [
              "Run data is saved locally in <code>/content/wandb/run-20250316_164222-qnf3fu95</code>"
            ]
          },
          "metadata": {}
        },
        {
          "output_type": "display_data",
          "data": {
            "text/plain": [
              "<IPython.core.display.HTML object>"
            ],
            "text/html": [
              "Syncing run <strong><a href='https://wandb.ai/karapa-rajesh-iit-madras/DeepLearning/runs/qnf3fu95' target=\"_blank\">lunar-sweep-27</a></strong> to <a href='https://wandb.ai/karapa-rajesh-iit-madras/DeepLearning' target=\"_blank\">Weights & Biases</a> (<a href='https://wandb.me/developer-guide' target=\"_blank\">docs</a>)<br>Sweep page: <a href='https://wandb.ai/karapa-rajesh-iit-madras/DeepLearning/sweeps/dzg25g50' target=\"_blank\">https://wandb.ai/karapa-rajesh-iit-madras/DeepLearning/sweeps/dzg25g50</a>"
            ]
          },
          "metadata": {}
        },
        {
          "output_type": "display_data",
          "data": {
            "text/plain": [
              "<IPython.core.display.HTML object>"
            ],
            "text/html": [
              " View project at <a href='https://wandb.ai/karapa-rajesh-iit-madras/DeepLearning' target=\"_blank\">https://wandb.ai/karapa-rajesh-iit-madras/DeepLearning</a>"
            ]
          },
          "metadata": {}
        },
        {
          "output_type": "display_data",
          "data": {
            "text/plain": [
              "<IPython.core.display.HTML object>"
            ],
            "text/html": [
              " View sweep at <a href='https://wandb.ai/karapa-rajesh-iit-madras/DeepLearning/sweeps/dzg25g50' target=\"_blank\">https://wandb.ai/karapa-rajesh-iit-madras/DeepLearning/sweeps/dzg25g50</a>"
            ]
          },
          "metadata": {}
        },
        {
          "output_type": "display_data",
          "data": {
            "text/plain": [
              "<IPython.core.display.HTML object>"
            ],
            "text/html": [
              " View run at <a href='https://wandb.ai/karapa-rajesh-iit-madras/DeepLearning/runs/qnf3fu95' target=\"_blank\">https://wandb.ai/karapa-rajesh-iit-madras/DeepLearning/runs/qnf3fu95</a>"
            ]
          },
          "metadata": {}
        },
        {
          "output_type": "display_data",
          "data": {
            "text/plain": [
              "<IPython.core.display.HTML object>"
            ],
            "text/html": []
          },
          "metadata": {}
        },
        {
          "output_type": "display_data",
          "data": {
            "text/plain": [
              "<IPython.core.display.HTML object>"
            ],
            "text/html": [
              "<br>    <style><br>        .wandb-row {<br>            display: flex;<br>            flex-direction: row;<br>            flex-wrap: wrap;<br>            justify-content: flex-start;<br>            width: 100%;<br>        }<br>        .wandb-col {<br>            display: flex;<br>            flex-direction: column;<br>            flex-basis: 100%;<br>            flex: 1;<br>            padding: 10px;<br>        }<br>    </style><br><div class=\"wandb-row\"><div class=\"wandb-col\"><h3>Run history:</h3><br/><table class=\"wandb\"><tr><td>epoch</td><td>▁▂▃▃▄▅▆▆▇█</td></tr><tr><td>loss</td><td>█▄▃▂▂▂▁▁▁▁</td></tr><tr><td>test_accuracy</td><td>▁</td></tr><tr><td>val_accuracy</td><td>▁▄▅▆▆▇▇▇██</td></tr></table><br/></div><div class=\"wandb-col\"><h3>Run summary:</h3><br/><table class=\"wandb\"><tr><td>epoch</td><td>10</td></tr><tr><td>loss</td><td>0.54116</td></tr><tr><td>test_accuracy</td><td>0.8062</td></tr><tr><td>val_accuracy</td><td>0.8185</td></tr></table><br/></div></div>"
            ]
          },
          "metadata": {}
        },
        {
          "output_type": "display_data",
          "data": {
            "text/plain": [
              "<IPython.core.display.HTML object>"
            ],
            "text/html": [
              " View run <strong style=\"color:#cdcd00\">lunar-sweep-27</strong> at: <a href='https://wandb.ai/karapa-rajesh-iit-madras/DeepLearning/runs/qnf3fu95' target=\"_blank\">https://wandb.ai/karapa-rajesh-iit-madras/DeepLearning/runs/qnf3fu95</a><br> View project at: <a href='https://wandb.ai/karapa-rajesh-iit-madras/DeepLearning' target=\"_blank\">https://wandb.ai/karapa-rajesh-iit-madras/DeepLearning</a><br>Synced 5 W&B file(s), 1 media file(s), 0 artifact file(s) and 0 other file(s)"
            ]
          },
          "metadata": {}
        },
        {
          "output_type": "display_data",
          "data": {
            "text/plain": [
              "<IPython.core.display.HTML object>"
            ],
            "text/html": [
              "Find logs at: <code>./wandb/run-20250316_164222-qnf3fu95/logs</code>"
            ]
          },
          "metadata": {}
        },
        {
          "output_type": "stream",
          "name": "stderr",
          "text": [
            "\u001b[34m\u001b[1mwandb\u001b[0m: Agent Starting Run: l9yollu7 with config:\n",
            "\u001b[34m\u001b[1mwandb\u001b[0m: \tactivation_func: relu\n",
            "\u001b[34m\u001b[1mwandb\u001b[0m: \tbatch_size: 128\n",
            "\u001b[34m\u001b[1mwandb\u001b[0m: \thiddenlayers: 5\n",
            "\u001b[34m\u001b[1mwandb\u001b[0m: \thiddennodes: 256\n",
            "\u001b[34m\u001b[1mwandb\u001b[0m: \tinitializer: Xavier\n",
            "\u001b[34m\u001b[1mwandb\u001b[0m: \tlearning_rate: 0.001\n",
            "\u001b[34m\u001b[1mwandb\u001b[0m: \tloss: cross_entropy\n",
            "\u001b[34m\u001b[1mwandb\u001b[0m: \tnum_epochs: 15\n",
            "\u001b[34m\u001b[1mwandb\u001b[0m: \topt: rmsprop\n"
          ]
        },
        {
          "output_type": "display_data",
          "data": {
            "text/plain": [
              "<IPython.core.display.HTML object>"
            ],
            "text/html": [
              "Tracking run with wandb version 0.19.8"
            ]
          },
          "metadata": {}
        },
        {
          "output_type": "display_data",
          "data": {
            "text/plain": [
              "<IPython.core.display.HTML object>"
            ],
            "text/html": [
              "Run data is saved locally in <code>/content/wandb/run-20250316_164303-l9yollu7</code>"
            ]
          },
          "metadata": {}
        },
        {
          "output_type": "display_data",
          "data": {
            "text/plain": [
              "<IPython.core.display.HTML object>"
            ],
            "text/html": [
              "Syncing run <strong><a href='https://wandb.ai/karapa-rajesh-iit-madras/DeepLearning/runs/l9yollu7' target=\"_blank\">dashing-sweep-28</a></strong> to <a href='https://wandb.ai/karapa-rajesh-iit-madras/DeepLearning' target=\"_blank\">Weights & Biases</a> (<a href='https://wandb.me/developer-guide' target=\"_blank\">docs</a>)<br>Sweep page: <a href='https://wandb.ai/karapa-rajesh-iit-madras/DeepLearning/sweeps/dzg25g50' target=\"_blank\">https://wandb.ai/karapa-rajesh-iit-madras/DeepLearning/sweeps/dzg25g50</a>"
            ]
          },
          "metadata": {}
        },
        {
          "output_type": "display_data",
          "data": {
            "text/plain": [
              "<IPython.core.display.HTML object>"
            ],
            "text/html": [
              " View project at <a href='https://wandb.ai/karapa-rajesh-iit-madras/DeepLearning' target=\"_blank\">https://wandb.ai/karapa-rajesh-iit-madras/DeepLearning</a>"
            ]
          },
          "metadata": {}
        },
        {
          "output_type": "display_data",
          "data": {
            "text/plain": [
              "<IPython.core.display.HTML object>"
            ],
            "text/html": [
              " View sweep at <a href='https://wandb.ai/karapa-rajesh-iit-madras/DeepLearning/sweeps/dzg25g50' target=\"_blank\">https://wandb.ai/karapa-rajesh-iit-madras/DeepLearning/sweeps/dzg25g50</a>"
            ]
          },
          "metadata": {}
        },
        {
          "output_type": "display_data",
          "data": {
            "text/plain": [
              "<IPython.core.display.HTML object>"
            ],
            "text/html": [
              " View run at <a href='https://wandb.ai/karapa-rajesh-iit-madras/DeepLearning/runs/l9yollu7' target=\"_blank\">https://wandb.ai/karapa-rajesh-iit-madras/DeepLearning/runs/l9yollu7</a>"
            ]
          },
          "metadata": {}
        },
        {
          "output_type": "display_data",
          "data": {
            "text/plain": [
              "<IPython.core.display.HTML object>"
            ],
            "text/html": []
          },
          "metadata": {}
        },
        {
          "output_type": "display_data",
          "data": {
            "text/plain": [
              "<IPython.core.display.HTML object>"
            ],
            "text/html": [
              "<br>    <style><br>        .wandb-row {<br>            display: flex;<br>            flex-direction: row;<br>            flex-wrap: wrap;<br>            justify-content: flex-start;<br>            width: 100%;<br>        }<br>        .wandb-col {<br>            display: flex;<br>            flex-direction: column;<br>            flex-basis: 100%;<br>            flex: 1;<br>            padding: 10px;<br>        }<br>    </style><br><div class=\"wandb-row\"><div class=\"wandb-col\"><h3>Run history:</h3><br/><table class=\"wandb\"><tr><td>epoch</td><td>▁▁▂▃▃▃▄▅▅▅▆▇▇▇█</td></tr><tr><td>loss</td><td>█▄▃▂▂▂▂▂▁▁▁▁▁▁▁</td></tr><tr><td>test_accuracy</td><td>▁</td></tr><tr><td>val_accuracy</td><td>▁▅▇▆▇▇█▇█████▇█</td></tr></table><br/></div><div class=\"wandb-col\"><h3>Run summary:</h3><br/><table class=\"wandb\"><tr><td>epoch</td><td>15</td></tr><tr><td>loss</td><td>0.27489</td></tr><tr><td>test_accuracy</td><td>0.8712</td></tr><tr><td>val_accuracy</td><td>0.87883</td></tr></table><br/></div></div>"
            ]
          },
          "metadata": {}
        },
        {
          "output_type": "display_data",
          "data": {
            "text/plain": [
              "<IPython.core.display.HTML object>"
            ],
            "text/html": [
              " View run <strong style=\"color:#cdcd00\">dashing-sweep-28</strong> at: <a href='https://wandb.ai/karapa-rajesh-iit-madras/DeepLearning/runs/l9yollu7' target=\"_blank\">https://wandb.ai/karapa-rajesh-iit-madras/DeepLearning/runs/l9yollu7</a><br> View project at: <a href='https://wandb.ai/karapa-rajesh-iit-madras/DeepLearning' target=\"_blank\">https://wandb.ai/karapa-rajesh-iit-madras/DeepLearning</a><br>Synced 5 W&B file(s), 1 media file(s), 0 artifact file(s) and 0 other file(s)"
            ]
          },
          "metadata": {}
        },
        {
          "output_type": "display_data",
          "data": {
            "text/plain": [
              "<IPython.core.display.HTML object>"
            ],
            "text/html": [
              "Find logs at: <code>./wandb/run-20250316_164303-l9yollu7/logs</code>"
            ]
          },
          "metadata": {}
        },
        {
          "output_type": "stream",
          "name": "stderr",
          "text": [
            "\u001b[34m\u001b[1mwandb\u001b[0m: Agent Starting Run: f1kah73c with config:\n",
            "\u001b[34m\u001b[1mwandb\u001b[0m: \tactivation_func: relu\n",
            "\u001b[34m\u001b[1mwandb\u001b[0m: \tbatch_size: 128\n",
            "\u001b[34m\u001b[1mwandb\u001b[0m: \thiddenlayers: 3\n",
            "\u001b[34m\u001b[1mwandb\u001b[0m: \thiddennodes: 128\n",
            "\u001b[34m\u001b[1mwandb\u001b[0m: \tinitializer: Xavier\n",
            "\u001b[34m\u001b[1mwandb\u001b[0m: \tlearning_rate: 0.001\n",
            "\u001b[34m\u001b[1mwandb\u001b[0m: \tloss: cross_entropy\n",
            "\u001b[34m\u001b[1mwandb\u001b[0m: \tnum_epochs: 10\n",
            "\u001b[34m\u001b[1mwandb\u001b[0m: \topt: nesterov\n"
          ]
        },
        {
          "output_type": "display_data",
          "data": {
            "text/plain": [
              "<IPython.core.display.HTML object>"
            ],
            "text/html": [
              "Tracking run with wandb version 0.19.8"
            ]
          },
          "metadata": {}
        },
        {
          "output_type": "display_data",
          "data": {
            "text/plain": [
              "<IPython.core.display.HTML object>"
            ],
            "text/html": [
              "Run data is saved locally in <code>/content/wandb/run-20250316_164611-f1kah73c</code>"
            ]
          },
          "metadata": {}
        },
        {
          "output_type": "display_data",
          "data": {
            "text/plain": [
              "<IPython.core.display.HTML object>"
            ],
            "text/html": [
              "Syncing run <strong><a href='https://wandb.ai/karapa-rajesh-iit-madras/DeepLearning/runs/f1kah73c' target=\"_blank\">fearless-sweep-29</a></strong> to <a href='https://wandb.ai/karapa-rajesh-iit-madras/DeepLearning' target=\"_blank\">Weights & Biases</a> (<a href='https://wandb.me/developer-guide' target=\"_blank\">docs</a>)<br>Sweep page: <a href='https://wandb.ai/karapa-rajesh-iit-madras/DeepLearning/sweeps/dzg25g50' target=\"_blank\">https://wandb.ai/karapa-rajesh-iit-madras/DeepLearning/sweeps/dzg25g50</a>"
            ]
          },
          "metadata": {}
        },
        {
          "output_type": "display_data",
          "data": {
            "text/plain": [
              "<IPython.core.display.HTML object>"
            ],
            "text/html": [
              " View project at <a href='https://wandb.ai/karapa-rajesh-iit-madras/DeepLearning' target=\"_blank\">https://wandb.ai/karapa-rajesh-iit-madras/DeepLearning</a>"
            ]
          },
          "metadata": {}
        },
        {
          "output_type": "display_data",
          "data": {
            "text/plain": [
              "<IPython.core.display.HTML object>"
            ],
            "text/html": [
              " View sweep at <a href='https://wandb.ai/karapa-rajesh-iit-madras/DeepLearning/sweeps/dzg25g50' target=\"_blank\">https://wandb.ai/karapa-rajesh-iit-madras/DeepLearning/sweeps/dzg25g50</a>"
            ]
          },
          "metadata": {}
        },
        {
          "output_type": "display_data",
          "data": {
            "text/plain": [
              "<IPython.core.display.HTML object>"
            ],
            "text/html": [
              " View run at <a href='https://wandb.ai/karapa-rajesh-iit-madras/DeepLearning/runs/f1kah73c' target=\"_blank\">https://wandb.ai/karapa-rajesh-iit-madras/DeepLearning/runs/f1kah73c</a>"
            ]
          },
          "metadata": {}
        },
        {
          "output_type": "display_data",
          "data": {
            "text/plain": [
              "<IPython.core.display.HTML object>"
            ],
            "text/html": []
          },
          "metadata": {}
        },
        {
          "output_type": "display_data",
          "data": {
            "text/plain": [
              "<IPython.core.display.HTML object>"
            ],
            "text/html": [
              "<br>    <style><br>        .wandb-row {<br>            display: flex;<br>            flex-direction: row;<br>            flex-wrap: wrap;<br>            justify-content: flex-start;<br>            width: 100%;<br>        }<br>        .wandb-col {<br>            display: flex;<br>            flex-direction: column;<br>            flex-basis: 100%;<br>            flex: 1;<br>            padding: 10px;<br>        }<br>    </style><br><div class=\"wandb-row\"><div class=\"wandb-col\"><h3>Run history:</h3><br/><table class=\"wandb\"><tr><td>epoch</td><td>▁▂▃▃▄▅▆▆▇█</td></tr><tr><td>loss</td><td>█▃▂▂▂▁▁▁▁▁</td></tr><tr><td>test_accuracy</td><td>▁</td></tr><tr><td>val_accuracy</td><td>▁▄▅▆▆▇▇███</td></tr></table><br/></div><div class=\"wandb-col\"><h3>Run summary:</h3><br/><table class=\"wandb\"><tr><td>epoch</td><td>10</td></tr><tr><td>loss</td><td>0.39626</td></tr><tr><td>test_accuracy</td><td>0.8488</td></tr><tr><td>val_accuracy</td><td>0.85717</td></tr></table><br/></div></div>"
            ]
          },
          "metadata": {}
        },
        {
          "output_type": "display_data",
          "data": {
            "text/plain": [
              "<IPython.core.display.HTML object>"
            ],
            "text/html": [
              " View run <strong style=\"color:#cdcd00\">fearless-sweep-29</strong> at: <a href='https://wandb.ai/karapa-rajesh-iit-madras/DeepLearning/runs/f1kah73c' target=\"_blank\">https://wandb.ai/karapa-rajesh-iit-madras/DeepLearning/runs/f1kah73c</a><br> View project at: <a href='https://wandb.ai/karapa-rajesh-iit-madras/DeepLearning' target=\"_blank\">https://wandb.ai/karapa-rajesh-iit-madras/DeepLearning</a><br>Synced 5 W&B file(s), 1 media file(s), 0 artifact file(s) and 0 other file(s)"
            ]
          },
          "metadata": {}
        },
        {
          "output_type": "display_data",
          "data": {
            "text/plain": [
              "<IPython.core.display.HTML object>"
            ],
            "text/html": [
              "Find logs at: <code>./wandb/run-20250316_164611-f1kah73c/logs</code>"
            ]
          },
          "metadata": {}
        },
        {
          "output_type": "stream",
          "name": "stderr",
          "text": [
            "\u001b[34m\u001b[1mwandb\u001b[0m: Agent Starting Run: kci824ma with config:\n",
            "\u001b[34m\u001b[1mwandb\u001b[0m: \tactivation_func: relu\n",
            "\u001b[34m\u001b[1mwandb\u001b[0m: \tbatch_size: 128\n",
            "\u001b[34m\u001b[1mwandb\u001b[0m: \thiddenlayers: 5\n",
            "\u001b[34m\u001b[1mwandb\u001b[0m: \thiddennodes: 128\n",
            "\u001b[34m\u001b[1mwandb\u001b[0m: \tinitializer: Xavier\n",
            "\u001b[34m\u001b[1mwandb\u001b[0m: \tlearning_rate: 0.0005\n",
            "\u001b[34m\u001b[1mwandb\u001b[0m: \tloss: cross_entropy\n",
            "\u001b[34m\u001b[1mwandb\u001b[0m: \tnum_epochs: 10\n",
            "\u001b[34m\u001b[1mwandb\u001b[0m: \topt: rmsprop\n"
          ]
        },
        {
          "output_type": "display_data",
          "data": {
            "text/plain": [
              "<IPython.core.display.HTML object>"
            ],
            "text/html": [
              "Tracking run with wandb version 0.19.8"
            ]
          },
          "metadata": {}
        },
        {
          "output_type": "display_data",
          "data": {
            "text/plain": [
              "<IPython.core.display.HTML object>"
            ],
            "text/html": [
              "Run data is saved locally in <code>/content/wandb/run-20250316_164652-kci824ma</code>"
            ]
          },
          "metadata": {}
        },
        {
          "output_type": "display_data",
          "data": {
            "text/plain": [
              "<IPython.core.display.HTML object>"
            ],
            "text/html": [
              "Syncing run <strong><a href='https://wandb.ai/karapa-rajesh-iit-madras/DeepLearning/runs/kci824ma' target=\"_blank\">rural-sweep-30</a></strong> to <a href='https://wandb.ai/karapa-rajesh-iit-madras/DeepLearning' target=\"_blank\">Weights & Biases</a> (<a href='https://wandb.me/developer-guide' target=\"_blank\">docs</a>)<br>Sweep page: <a href='https://wandb.ai/karapa-rajesh-iit-madras/DeepLearning/sweeps/dzg25g50' target=\"_blank\">https://wandb.ai/karapa-rajesh-iit-madras/DeepLearning/sweeps/dzg25g50</a>"
            ]
          },
          "metadata": {}
        },
        {
          "output_type": "display_data",
          "data": {
            "text/plain": [
              "<IPython.core.display.HTML object>"
            ],
            "text/html": [
              " View project at <a href='https://wandb.ai/karapa-rajesh-iit-madras/DeepLearning' target=\"_blank\">https://wandb.ai/karapa-rajesh-iit-madras/DeepLearning</a>"
            ]
          },
          "metadata": {}
        },
        {
          "output_type": "display_data",
          "data": {
            "text/plain": [
              "<IPython.core.display.HTML object>"
            ],
            "text/html": [
              " View sweep at <a href='https://wandb.ai/karapa-rajesh-iit-madras/DeepLearning/sweeps/dzg25g50' target=\"_blank\">https://wandb.ai/karapa-rajesh-iit-madras/DeepLearning/sweeps/dzg25g50</a>"
            ]
          },
          "metadata": {}
        },
        {
          "output_type": "display_data",
          "data": {
            "text/plain": [
              "<IPython.core.display.HTML object>"
            ],
            "text/html": [
              " View run at <a href='https://wandb.ai/karapa-rajesh-iit-madras/DeepLearning/runs/kci824ma' target=\"_blank\">https://wandb.ai/karapa-rajesh-iit-madras/DeepLearning/runs/kci824ma</a>"
            ]
          },
          "metadata": {}
        },
        {
          "output_type": "display_data",
          "data": {
            "text/plain": [
              "<IPython.core.display.HTML object>"
            ],
            "text/html": []
          },
          "metadata": {}
        },
        {
          "output_type": "display_data",
          "data": {
            "text/plain": [
              "<IPython.core.display.HTML object>"
            ],
            "text/html": [
              "<br>    <style><br>        .wandb-row {<br>            display: flex;<br>            flex-direction: row;<br>            flex-wrap: wrap;<br>            justify-content: flex-start;<br>            width: 100%;<br>        }<br>        .wandb-col {<br>            display: flex;<br>            flex-direction: column;<br>            flex-basis: 100%;<br>            flex: 1;<br>            padding: 10px;<br>        }<br>    </style><br><div class=\"wandb-row\"><div class=\"wandb-col\"><h3>Run history:</h3><br/><table class=\"wandb\"><tr><td>epoch</td><td>▁▂▃▃▄▅▆▆▇█</td></tr><tr><td>loss</td><td>█▄▃▃▂▂▂▁▁▁</td></tr><tr><td>test_accuracy</td><td>▁</td></tr><tr><td>val_accuracy</td><td>▁▅▆▇▅██▇▆▄</td></tr></table><br/></div><div class=\"wandb-col\"><h3>Run summary:</h3><br/><table class=\"wandb\"><tr><td>epoch</td><td>10</td></tr><tr><td>loss</td><td>0.25128</td></tr><tr><td>test_accuracy</td><td>0.8443</td></tr><tr><td>val_accuracy</td><td>0.85117</td></tr></table><br/></div></div>"
            ]
          },
          "metadata": {}
        },
        {
          "output_type": "display_data",
          "data": {
            "text/plain": [
              "<IPython.core.display.HTML object>"
            ],
            "text/html": [
              " View run <strong style=\"color:#cdcd00\">rural-sweep-30</strong> at: <a href='https://wandb.ai/karapa-rajesh-iit-madras/DeepLearning/runs/kci824ma' target=\"_blank\">https://wandb.ai/karapa-rajesh-iit-madras/DeepLearning/runs/kci824ma</a><br> View project at: <a href='https://wandb.ai/karapa-rajesh-iit-madras/DeepLearning' target=\"_blank\">https://wandb.ai/karapa-rajesh-iit-madras/DeepLearning</a><br>Synced 5 W&B file(s), 1 media file(s), 0 artifact file(s) and 0 other file(s)"
            ]
          },
          "metadata": {}
        },
        {
          "output_type": "display_data",
          "data": {
            "text/plain": [
              "<IPython.core.display.HTML object>"
            ],
            "text/html": [
              "Find logs at: <code>./wandb/run-20250316_164652-kci824ma/logs</code>"
            ]
          },
          "metadata": {}
        }
      ],
      "source": [
        "import numpy as np\n",
        "import matplotlib.pyplot as plt\n",
        "import wandb\n",
        "from keras.datasets import fashion_mnist\n",
        "\n",
        "# -----------------------\n",
        "# Neural operations\n",
        "def linear(z):\n",
        "    return np.maximum(0, z)\n",
        "def linear_grad(z):\n",
        "    return (z > 0) * 1.0\n",
        "def logistic(z):\n",
        "    return 1 / (1 + np.exp(-z))\n",
        "def logistic_grad(z):\n",
        "    s = logistic(z)\n",
        "    return s * (1 - s)\n",
        "def hyperbolic(z):\n",
        "    return np.tanh(z)\n",
        "def hyperbolic_grad(z):\n",
        "    return 1 - np.tanh(z)**2\n",
        "\n",
        "neural_ops = {\n",
        "    \"relu\": (linear, linear_grad),\n",
        "    \"sigmoid\": (logistic, logistic_grad),\n",
        "    \"tanh\": (hyperbolic, hyperbolic_grad)\n",
        "}\n",
        "\n",
        "# -----------------------\n",
        "# Deep Neural Network Class\n",
        "class DeepNeuralNet:\n",
        "    def __init__(self, input_dim, hidden_dims, output_dim, activation=\"relu\", init_scheme=\"Xavier\"):\n",
        "        self.layer_count = len(hidden_dims) + 1\n",
        "        self.activation = activation\n",
        "        self.weights = []\n",
        "        self.biases = []\n",
        "\n",
        "        dims = [input_dim] + hidden_dims + [output_dim]\n",
        "        for i in range(self.layer_count):\n",
        "            if init_scheme == \"Xavier\":\n",
        "                if activation in [\"tanh\", \"sigmoid\"]:\n",
        "                    scale = np.sqrt(2. / (dims[i] + dims[i+1]))\n",
        "                else:  # ReLU\n",
        "                    scale = np.sqrt(2. / dims[i])\n",
        "                W = np.random.randn(dims[i], dims[i+1]) * scale\n",
        "            else:\n",
        "                W = np.random.randn(dims[i], dims[i+1]) * 0.01\n",
        "            b = np.zeros((1, dims[i+1]))\n",
        "            self.weights.append(W)\n",
        "            self.biases.append(b)\n",
        "\n",
        "    def predict(self, X):\n",
        "        activate, _ = neural_ops[self.activation]\n",
        "        self.z_records = []\n",
        "        self.a_records = [X]\n",
        "        A = X\n",
        "        for idx in range(self.layer_count):\n",
        "            Z = A.dot(self.weights[idx]) + self.biases[idx]\n",
        "            self.z_records.append(Z)\n",
        "            if idx == self.layer_count - 1:\n",
        "                shifted = Z - np.max(Z, axis=1, keepdims=True)\n",
        "                exp = np.exp(shifted)\n",
        "                A = exp / np.sum(exp, axis=1, keepdims=True)\n",
        "            else:\n",
        "                A = activate(Z)\n",
        "            self.a_records.append(A)\n",
        "        return A\n",
        "\n",
        "    def calculate_cost(self, Y_hat, Y_real, cost_type=\"cross_entropy\"):\n",
        "        m = Y_real.shape[0]\n",
        "        if cost_type == \"cross_entropy\":\n",
        "            return -np.sum(Y_real * np.log(Y_hat + 1e-8)) / m\n",
        "        elif cost_type == \"mean_squared_error\":\n",
        "            return np.sum((Y_real - Y_hat)**2) / (2 * m)\n",
        "\n",
        "    def compute_gradients(self, X, Y, cost_type=\"cross_entropy\"):\n",
        "        m = X.shape[0]\n",
        "        grad_weights = [None] * self.layer_count\n",
        "        grad_biases = [None] * self.layer_count\n",
        "\n",
        "        final_act = self.a_records[-1]\n",
        "        if cost_type == \"cross_entropy\":\n",
        "            delta = final_act - Y\n",
        "        elif cost_type == \"mean_squared_error\":\n",
        "            delta = (final_act - Y)\n",
        "\n",
        "        for idx in reversed(range(self.layer_count)):\n",
        "            if idx == self.layer_count - 1:\n",
        "                dZ = delta\n",
        "            else:\n",
        "                _, grad_func = neural_ops[self.activation]\n",
        "                dZ = delta * grad_func(self.z_records[idx])\n",
        "            prev_act = self.a_records[idx]\n",
        "            grad_weights[idx] = prev_act.T.dot(dZ) / m\n",
        "            grad_biases[idx] = np.sum(dZ, axis=0, keepdims=True) / m\n",
        "            if idx > 0:\n",
        "                delta = dZ.dot(self.weights[idx].T)\n",
        "        return grad_weights, grad_biases\n",
        "\n",
        "    def adjust_params(self, grad_w, grad_b, optim, settings, states):\n",
        "        lr = settings.learning_rate\n",
        "\n",
        "        if optim == \"sgd\":\n",
        "            for i in range(self.layer_count):\n",
        "                self.weights[i] -= lr * grad_w[i]\n",
        "                self.biases[i] -= lr * grad_b[i]\n",
        "\n",
        "        elif optim == \"momentum\":\n",
        "            momentum_val = getattr(settings, 'momentum', 0.5)\n",
        "            if \"momentum\" not in states:\n",
        "                states[\"momentum\"] = {\n",
        "                    \"v_w\": [np.zeros_like(w) for w in self.weights],\n",
        "                    \"v_b\": [np.zeros_like(b) for b in self.biases]\n",
        "                }\n",
        "            for i in range(self.layer_count):\n",
        "                states[\"momentum\"][\"v_w\"][i] = momentum_val * states[\"momentum\"][\"v_w\"][i] + grad_w[i]\n",
        "                self.weights[i] -= lr * states[\"momentum\"][\"v_w\"][i]\n",
        "                states[\"momentum\"][\"v_b\"][i] = momentum_val * states[\"momentum\"][\"v_b\"][i] + grad_b[i]\n",
        "                self.biases[i] -= lr * states[\"momentum\"][\"v_b\"][i]\n",
        "\n",
        "        elif optim == \"nesterov\":\n",
        "            if \"nesterov\" not in states:\n",
        "                states[\"nesterov\"] = {\n",
        "                    \"v_w\": [np.zeros_like(w) for w in self.weights],\n",
        "                    \"v_b\": [np.zeros_like(b) for b in self.biases]\n",
        "                }\n",
        "            momentum = 0.9\n",
        "            for i in range(self.layer_count):\n",
        "                states[\"nesterov\"][\"v_w\"][i] = momentum * states[\"nesterov\"][\"v_w\"][i] + grad_w[i]\n",
        "                self.weights[i] -= lr * (momentum * states[\"nesterov\"][\"v_w\"][i] + grad_w[i])\n",
        "                states[\"nesterov\"][\"v_b\"][i] = momentum * states[\"nesterov\"][\"v_b\"][i] + grad_b[i]\n",
        "                self.biases[i] -= lr * (momentum * states[\"nesterov\"][\"v_b\"][i] + grad_b[i])\n",
        "\n",
        "        elif optim == \"rmsprop\":\n",
        "            if \"rmsprop\" not in states:\n",
        "                states[\"rmsprop\"] = {\n",
        "                    \"cache_w\": [np.zeros_like(w) for w in self.weights],\n",
        "                    \"cache_b\": [np.zeros_like(b) for b in self.biases]\n",
        "                }\n",
        "            gamma = 0.9\n",
        "            eps = 1e-8\n",
        "            for i in range(self.layer_count):\n",
        "                states[\"rmsprop\"][\"cache_w\"][i] = gamma * states[\"rmsprop\"][\"cache_w\"][i] + (1 - gamma) * (grad_w[i]**2)\n",
        "                self.weights[i] -= lr * grad_w[i] / (np.sqrt(states[\"rmsprop\"][\"cache_w\"][i]) + eps)\n",
        "                states[\"rmsprop\"][\"cache_b\"][i] = gamma * states[\"rmsprop\"][\"cache_b\"][i] + (1 - gamma) * (grad_b[i]**2)\n",
        "                self.biases[i] -= lr * grad_b[i] / (np.sqrt(states[\"rmsprop\"][\"cache_b\"][i]) + eps)\n",
        "\n",
        "        elif optim == \"adam\":\n",
        "            if \"adam\" not in states:\n",
        "                states[\"adam\"] = {\n",
        "                    \"m_w\": [np.zeros_like(w) for w in self.weights],\n",
        "                    \"v_w\": [np.zeros_like(w) for w in self.weights],\n",
        "                    \"m_b\": [np.zeros_like(b) for b in self.biases],\n",
        "                    \"v_b\": [np.zeros_like(b) for b in self.biases],\n",
        "                    \"step\": 0\n",
        "                }\n",
        "            beta1 = 0.9\n",
        "            beta2 = 0.999\n",
        "            eps = 1e-8\n",
        "            states[\"adam\"][\"step\"] += 1\n",
        "            t = states[\"adam\"][\"step\"]\n",
        "            for i in range(self.layer_count):\n",
        "                states[\"adam\"][\"m_w\"][i] = beta1 * states[\"adam\"][\"m_w\"][i] + (1 - beta1) * grad_w[i]\n",
        "                states[\"adam\"][\"v_w\"][i] = beta2 * states[\"adam\"][\"v_w\"][i] + (1 - beta2) * (grad_w[i]**2)\n",
        "                m_w_adj = states[\"adam\"][\"m_w\"][i] / (1 - beta1**t)\n",
        "                v_w_adj = states[\"adam\"][\"v_w\"][i] / (1 - beta2**t)\n",
        "                self.weights[i] -= lr * m_w_adj / (np.sqrt(v_w_adj) + eps)\n",
        "                states[\"adam\"][\"m_b\"][i] = beta1 * states[\"adam\"][\"m_b\"][i] + (1 - beta1) * grad_b[i]\n",
        "                states[\"adam\"][\"v_b\"][i] = beta2 * states[\"adam\"][\"v_b\"][i] + (1 - beta2) * (grad_b[i]**2)\n",
        "                m_b_adj = states[\"adam\"][\"m_b\"][i] / (1 - beta1**t)\n",
        "                v_b_adj = states[\"adam\"][\"v_b\"][i] / (1 - beta2**t)\n",
        "                self.biases[i] -= lr * m_b_adj / (np.sqrt(v_b_adj) + eps)\n",
        "\n",
        "        elif optim == \"nadam\":\n",
        "            if \"nadam\" not in states:\n",
        "                states[\"nadam\"] = {\n",
        "                    \"m_w\": [np.zeros_like(w) for w in self.weights],\n",
        "                    \"v_w\": [np.zeros_like(w) for w in self.weights],\n",
        "                    \"m_b\": [np.zeros_like(b) for b in self.biases],\n",
        "                    \"v_b\": [np.zeros_like(b) for b in self.biases],\n",
        "                    \"step\": 0\n",
        "                }\n",
        "            beta1 = getattr(settings, 'beta1', 0.9)\n",
        "            beta2 = getattr(settings, 'beta2', 0.999)\n",
        "            eps = getattr(settings, 'eps', 1e-8)\n",
        "            states[\"nadam\"][\"step\"] += 1\n",
        "            t = states[\"nadam\"][\"step\"]\n",
        "            for i in range(self.layer_count):\n",
        "                states[\"nadam\"][\"m_w\"][i] = beta1 * states[\"nadam\"][\"m_w\"][i] + (1 - beta1) * grad_w[i]\n",
        "                states[\"nadam\"][\"v_w\"][i] = beta2 * states[\"nadam\"][\"v_w\"][i] + (1 - beta2) * (grad_w[i]**2)\n",
        "                m_w_hat = states[\"nadam\"][\"m_w\"][i] / (1 - beta1**t)\n",
        "                v_w_hat = states[\"nadam\"][\"v_w\"][i] / (1 - beta2**t)\n",
        "                m_w_bar = beta1 * m_w_hat + ((1 - beta1) * grad_w[i]) / (1 - beta1**t)\n",
        "                self.weights[i] -= lr * m_w_bar / (np.sqrt(v_w_hat) + eps)\n",
        "\n",
        "                states[\"nadam\"][\"m_b\"][i] = beta1 * states[\"nadam\"][\"m_b\"][i] + (1 - beta1) * grad_b[i]\n",
        "                states[\"nadam\"][\"v_b\"][i] = beta2 * states[\"nadam\"][\"v_b\"][i] + (1 - beta2) * (grad_b[i]**2)\n",
        "                m_b_hat = states[\"nadam\"][\"m_b\"][i] / (1 - beta1**t)\n",
        "                v_b_hat = states[\"nadam\"][\"v_b\"][i] / (1 - beta2**t)\n",
        "                m_b_bar = beta1 * m_b_hat + ((1 - beta1) * grad_b[i]) / (1 - beta1**t)\n",
        "                self.biases[i] -= lr * m_b_bar / (np.sqrt(v_b_hat) + eps)\n",
        "\n",
        "        return states\n",
        "\n",
        "# -----------------------\n",
        "# Helper utilities\n",
        "def encode_labels(y, num_labels):\n",
        "    encoded = np.zeros((len(y), num_labels))\n",
        "    encoded[np.arange(len(y)), y] = 1\n",
        "    return encoded\n",
        "\n",
        "def get_accuracy(Y_est, Y_actual):\n",
        "    preds = np.argmax(Y_est, axis=1)\n",
        "    truths = np.argmax(Y_actual, axis=1)\n",
        "    return np.mean(preds == truths)\n",
        "\n",
        "def log_confusion_matrix(Y_est, y_real, classes):\n",
        "    from sklearn.metrics import confusion_matrix\n",
        "    import seaborn as sns\n",
        "    cm = confusion_matrix(y_real, np.argmax(Y_est, axis=1))\n",
        "    plt.figure(figsize=(9,7))\n",
        "    sns.heatmap(cm, annot=True, fmt=\"d\", cmap=\"Greens\", xticklabels=classes, yticklabels=classes)\n",
        "    plt.xlabel(\"Predicted Labels\")\n",
        "    plt.ylabel(\"True Labels\")\n",
        "    plt.title(\"Confusion Matrix\")\n",
        "    wandb.log({\"Confusion Matrix\": wandb.Image(plt)})\n",
        "    plt.close()\n",
        "\n",
        "# -----------------------\n",
        "# Question 1: Sample Images\n",
        "def log_q1_samples():\n",
        "    (train_X, train_y), _ = fashion_mnist.load_data()\n",
        "    class_names = ['T-shirt/top', 'Trouser', 'Pullover', 'Dress', 'Coat',\n",
        "                   'Sandal', 'Shirt', 'Sneaker', 'Bag', 'Ankle boot']\n",
        "    plt.figure(figsize=(10,5))\n",
        "    for i in range(10):\n",
        "        idx = np.where(train_y == i)[0][0]\n",
        "        plt.subplot(2,5,i+1)\n",
        "        plt.imshow(train_X[idx], cmap='gray')\n",
        "        plt.title(class_names[i])\n",
        "        plt.axis('off')\n",
        "    plt.tight_layout()\n",
        "    wandb.log({\"Question 1 Samples\": wandb.Image(plt)})\n",
        "    plt.close()\n",
        "\n",
        "# -----------------------\n",
        "# Training procedure\n",
        "def execute_training():\n",
        "    wandb.init()\n",
        "    cfg = wandb.config\n",
        "\n",
        "    (train_X, train_y), (test_X, test_y) = fashion_mnist.load_data()\n",
        "    train_X = train_X.reshape(train_X.shape[0], -1) / 255.0\n",
        "    test_X = test_X.reshape(test_X.shape[0], -1) / 255.0\n",
        "    num_classes = 10\n",
        "    train_y_oh = encode_labels(train_y, num_classes)\n",
        "    test_y_oh = encode_labels(test_y, num_classes)\n",
        "\n",
        "    val_split = int(0.9 * train_X.shape[0])\n",
        "    val_X, val_y_oh = train_X[val_split:], train_y_oh[val_split:]\n",
        "    train_X, train_y_oh = train_X[:val_split], train_y_oh[:val_split]\n",
        "\n",
        "    input_dim = train_X.shape[1]\n",
        "    hidden_arch = [cfg.hiddennodes] * cfg.hiddenlayers\n",
        "    model = DeepNeuralNet(input_dim, hidden_arch, num_classes,\n",
        "                          activation=cfg.activation_func, init_scheme=cfg.initializer)\n",
        "\n",
        "    optimizer_states = {}\n",
        "    grad_clip_value = 1.0\n",
        "\n",
        "    for epoch in range(cfg.num_epochs):\n",
        "        shuffle_idx = np.random.permutation(train_X.shape[0])\n",
        "        train_X = train_X[shuffle_idx]\n",
        "        train_y_oh = train_y_oh[shuffle_idx]\n",
        "        batches = train_X.shape[0] // cfg.batch_size\n",
        "        epoch_loss = 0.0\n",
        "\n",
        "        for batch in range(batches):\n",
        "            start = batch * cfg.batch_size\n",
        "            end = start + cfg.batch_size\n",
        "            X_batch = train_X[start:end]\n",
        "            y_batch = train_y_oh[start:end]\n",
        "\n",
        "            outputs = model.predict(X_batch)\n",
        "            loss = model.calculate_cost(outputs, y_batch, cost_type=cfg.loss)\n",
        "            epoch_loss += loss\n",
        "\n",
        "            grad_w, grad_b = model.compute_gradients(X_batch, y_batch, cost_type=cfg.loss)\n",
        "\n",
        "            for i in range(len(grad_w)):\n",
        "                grad_w[i] = np.clip(grad_w[i], -grad_clip_value, grad_clip_value)\n",
        "                grad_b[i] = np.clip(grad_b[i], -grad_clip_value, grad_clip_value)\n",
        "\n",
        "            optimizer_states = model.adjust_params(grad_w, grad_b, cfg.opt, cfg, optimizer_states)\n",
        "\n",
        "        avg_loss = epoch_loss / batches\n",
        "        val_outputs = model.predict(val_X)\n",
        "        val_acc = get_accuracy(val_outputs, val_y_oh)\n",
        "        wandb.log({\"epoch\": epoch+1, \"loss\": avg_loss, \"val_accuracy\": val_acc})\n",
        "\n",
        "    test_outputs = model.predict(test_X)\n",
        "    final_acc = get_accuracy(test_outputs, test_y_oh)\n",
        "    wandb.log({\"test_accuracy\": final_acc})\n",
        "    log_confusion_matrix(test_outputs, test_y, [str(i) for i in range(num_classes)])\n",
        "\n",
        "# -----------------------\n",
        "# Sweep configuration (unchanged)\n",
        "sweep_config = {\n",
        "    'name': \"karapa-rajesh\",\n",
        "    'method': 'bayes',\n",
        "    'metric': {'name': 'val_accuracy', 'goal': 'maximize'},\n",
        "    'parameters': {\n",
        "        'hiddenlayers': {'values': [3,4,5]},\n",
        "        'num_epochs': {'values': [10,15]},\n",
        "        'hiddennodes': {'values': [128,256]},\n",
        "        'learning_rate': {'values': [1e-3,5e-4]},\n",
        "        'initializer': {'values': [\"Xavier\"]},\n",
        "        'batch_size': {'values': [64,128]},\n",
        "        'opt': {'values': [\"adam\",\"nesterov\",\"rmsprop\",\"momentum\",\"nadam\"]},\n",
        "        'activation_func': {'values': [\"relu\"]},\n",
        "        'loss': {'values': [\"cross_entropy\"]}\n",
        "    }\n",
        "}\n",
        "\n",
        "# -----------------------\n",
        "# Execution\n",
        "if __name__ == \"__main__\":\n",
        "    # Log Q1 samples\n",
        "    wandb.init(project=\"DeepLearning\", name=\"Q1_Samples\", job_type=\"logging\")\n",
        "    log_q1_samples()\n",
        "    wandb.finish()\n",
        "\n",
        "    # Run sweep\n",
        "    sweep_id = wandb.sweep(sweep_config, project=\"DeepLearning\")\n",
        "    wandb.agent(sweep_id, function=execute_training, count=30)"
      ]
    }
  ]
}