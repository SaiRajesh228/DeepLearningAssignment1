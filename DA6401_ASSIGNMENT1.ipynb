{
  "nbformat": 4,
  "nbformat_minor": 0,
  "metadata": {
    "colab": {
      "provenance": [],
      "authorship_tag": "ABX9TyMOIXWO0/UShdGCGw0LjCWC",
      "include_colab_link": true
    },
    "kernelspec": {
      "name": "python3",
      "display_name": "Python 3"
    },
    "language_info": {
      "name": "python"
    }
  },
  "cells": [
    {
      "cell_type": "markdown",
      "metadata": {
        "id": "view-in-github",
        "colab_type": "text"
      },
      "source": [
        "<a href=\"https://colab.research.google.com/github/SaiRajesh228/DeepLearningAssignment1/blob/main/DA6401_ASSIGNMENT1.ipynb\" target=\"_parent\"><img src=\"https://colab.research.google.com/assets/colab-badge.svg\" alt=\"Open In Colab\"/></a>"
      ]
    },
    {
      "cell_type": "code",
      "execution_count": 6,
      "metadata": {
        "colab": {
          "base_uri": "https://localhost:8080/",
          "height": 1000
        },
        "id": "R1PeztwY0iu6",
        "outputId": "217847bc-b01b-4ea8-90fb-9796a30c63d3"
      },
      "outputs": [
        {
          "output_type": "display_data",
          "data": {
            "text/plain": [
              "<IPython.core.display.HTML object>"
            ],
            "text/html": [
              "Changes to your `wandb` environment variables will be ignored because your `wandb` session has already started. For more information on how to modify your settings with `wandb.init()` arguments, please refer to <a href='https://wandb.me/wandb-init' target=\"_blank\">the W&B docs</a>."
            ]
          },
          "metadata": {}
        },
        {
          "output_type": "display_data",
          "data": {
            "text/plain": [
              "<IPython.core.display.HTML object>"
            ],
            "text/html": [
              "Ignoring project 'DeepLearning' when running a sweep."
            ]
          },
          "metadata": {}
        },
        {
          "output_type": "display_data",
          "data": {
            "text/plain": [
              "<IPython.core.display.HTML object>"
            ],
            "text/html": [
              "Tracking run with wandb version 0.19.8"
            ]
          },
          "metadata": {}
        },
        {
          "output_type": "display_data",
          "data": {
            "text/plain": [
              "<IPython.core.display.HTML object>"
            ],
            "text/html": [
              "Run data is saved locally in <code>/content/wandb/run-20250317_155156-7z7cuq9f</code>"
            ]
          },
          "metadata": {}
        },
        {
          "output_type": "display_data",
          "data": {
            "text/plain": [
              "<IPython.core.display.HTML object>"
            ],
            "text/html": [
              "Syncing run <strong><a href='https://wandb.ai/karapa-rajesh-iit-madras/DL-Assignment/runs/7z7cuq9f' target=\"_blank\">Q1_Samples</a></strong> to <a href='https://wandb.ai/karapa-rajesh-iit-madras/DL-Assignment' target=\"_blank\">Weights & Biases</a> (<a href='https://wandb.me/developer-guide' target=\"_blank\">docs</a>)<br>Sweep page: <a href='https://wandb.ai/karapa-rajesh-iit-madras/DL-Assignment/sweeps/6ia22xtj' target=\"_blank\">https://wandb.ai/karapa-rajesh-iit-madras/DL-Assignment/sweeps/6ia22xtj</a>"
            ]
          },
          "metadata": {}
        },
        {
          "output_type": "display_data",
          "data": {
            "text/plain": [
              "<IPython.core.display.HTML object>"
            ],
            "text/html": [
              " View project at <a href='https://wandb.ai/karapa-rajesh-iit-madras/DL-Assignment' target=\"_blank\">https://wandb.ai/karapa-rajesh-iit-madras/DL-Assignment</a>"
            ]
          },
          "metadata": {}
        },
        {
          "output_type": "display_data",
          "data": {
            "text/plain": [
              "<IPython.core.display.HTML object>"
            ],
            "text/html": [
              " View sweep at <a href='https://wandb.ai/karapa-rajesh-iit-madras/DL-Assignment/sweeps/6ia22xtj' target=\"_blank\">https://wandb.ai/karapa-rajesh-iit-madras/DL-Assignment/sweeps/6ia22xtj</a>"
            ]
          },
          "metadata": {}
        },
        {
          "output_type": "display_data",
          "data": {
            "text/plain": [
              "<IPython.core.display.HTML object>"
            ],
            "text/html": [
              " View run at <a href='https://wandb.ai/karapa-rajesh-iit-madras/DL-Assignment/runs/7z7cuq9f' target=\"_blank\">https://wandb.ai/karapa-rajesh-iit-madras/DL-Assignment/runs/7z7cuq9f</a>"
            ]
          },
          "metadata": {}
        },
        {
          "output_type": "display_data",
          "data": {
            "text/plain": [
              "<IPython.core.display.HTML object>"
            ],
            "text/html": []
          },
          "metadata": {}
        },
        {
          "output_type": "display_data",
          "data": {
            "text/plain": [
              "<IPython.core.display.HTML object>"
            ],
            "text/html": [
              " View run <strong style=\"color:#cdcd00\">Q1_Samples</strong> at: <a href='https://wandb.ai/karapa-rajesh-iit-madras/DL-Assignment/runs/7z7cuq9f' target=\"_blank\">https://wandb.ai/karapa-rajesh-iit-madras/DL-Assignment/runs/7z7cuq9f</a><br> View project at: <a href='https://wandb.ai/karapa-rajesh-iit-madras/DL-Assignment' target=\"_blank\">https://wandb.ai/karapa-rajesh-iit-madras/DL-Assignment</a><br>Synced 5 W&B file(s), 1 media file(s), 0 artifact file(s) and 0 other file(s)"
            ]
          },
          "metadata": {}
        },
        {
          "output_type": "display_data",
          "data": {
            "text/plain": [
              "<IPython.core.display.HTML object>"
            ],
            "text/html": [
              "Find logs at: <code>./wandb/run-20250317_155156-7z7cuq9f/logs</code>"
            ]
          },
          "metadata": {}
        },
        {
          "output_type": "display_data",
          "data": {
            "text/plain": [
              "<IPython.core.display.HTML object>"
            ],
            "text/html": [
              "Changes to your `wandb` environment variables will be ignored because your `wandb` session has already started. For more information on how to modify your settings with `wandb.init()` arguments, please refer to <a href='https://wandb.me/wandb-init' target=\"_blank\">the W&B docs</a>."
            ]
          },
          "metadata": {}
        },
        {
          "output_type": "display_data",
          "data": {
            "text/plain": [
              "<IPython.core.display.HTML object>"
            ],
            "text/html": [
              "Ignoring project 'DL-Assignment' when running a sweep."
            ]
          },
          "metadata": {}
        },
        {
          "output_type": "display_data",
          "data": {
            "text/plain": [
              "<IPython.core.display.HTML object>"
            ],
            "text/html": [
              "Tracking run with wandb version 0.19.8"
            ]
          },
          "metadata": {}
        },
        {
          "output_type": "display_data",
          "data": {
            "text/plain": [
              "<IPython.core.display.HTML object>"
            ],
            "text/html": [
              "Run data is saved locally in <code>/content/wandb/run-20250317_155159-7z7cuq9f</code>"
            ]
          },
          "metadata": {}
        },
        {
          "output_type": "display_data",
          "data": {
            "text/plain": [
              "<IPython.core.display.HTML object>"
            ],
            "text/html": [
              "Syncing run <strong><a href='https://wandb.ai/karapa-rajesh-iit-madras/DL-Assignment/runs/7z7cuq9f' target=\"_blank\">Q2a_Sigmoid_NoReg</a></strong> to <a href='https://wandb.ai/karapa-rajesh-iit-madras/DL-Assignment' target=\"_blank\">Weights & Biases</a> (<a href='https://wandb.me/developer-guide' target=\"_blank\">docs</a>)<br>Sweep page: <a href='https://wandb.ai/karapa-rajesh-iit-madras/DL-Assignment/sweeps/6ia22xtj' target=\"_blank\">https://wandb.ai/karapa-rajesh-iit-madras/DL-Assignment/sweeps/6ia22xtj</a>"
            ]
          },
          "metadata": {}
        },
        {
          "output_type": "display_data",
          "data": {
            "text/plain": [
              "<IPython.core.display.HTML object>"
            ],
            "text/html": [
              " View project at <a href='https://wandb.ai/karapa-rajesh-iit-madras/DL-Assignment' target=\"_blank\">https://wandb.ai/karapa-rajesh-iit-madras/DL-Assignment</a>"
            ]
          },
          "metadata": {}
        },
        {
          "output_type": "display_data",
          "data": {
            "text/plain": [
              "<IPython.core.display.HTML object>"
            ],
            "text/html": [
              " View sweep at <a href='https://wandb.ai/karapa-rajesh-iit-madras/DL-Assignment/sweeps/6ia22xtj' target=\"_blank\">https://wandb.ai/karapa-rajesh-iit-madras/DL-Assignment/sweeps/6ia22xtj</a>"
            ]
          },
          "metadata": {}
        },
        {
          "output_type": "display_data",
          "data": {
            "text/plain": [
              "<IPython.core.display.HTML object>"
            ],
            "text/html": [
              " View run at <a href='https://wandb.ai/karapa-rajesh-iit-madras/DL-Assignment/runs/7z7cuq9f' target=\"_blank\">https://wandb.ai/karapa-rajesh-iit-madras/DL-Assignment/runs/7z7cuq9f</a>"
            ]
          },
          "metadata": {}
        },
        {
          "output_type": "display_data",
          "data": {
            "text/plain": [
              "<IPython.core.display.HTML object>"
            ],
            "text/html": [
              "Changes to your `wandb` environment variables will be ignored because your `wandb` session has already started. For more information on how to modify your settings with `wandb.init()` arguments, please refer to <a href='https://wandb.me/wandb-init' target=\"_blank\">the W&B docs</a>."
            ]
          },
          "metadata": {}
        },
        {
          "output_type": "display_data",
          "data": {
            "text/plain": [
              "<IPython.core.display.HTML object>"
            ],
            "text/html": []
          },
          "metadata": {}
        },
        {
          "output_type": "display_data",
          "data": {
            "text/plain": [
              "<IPython.core.display.HTML object>"
            ],
            "text/html": [
              "<br>    <style><br>        .wandb-row {<br>            display: flex;<br>            flex-direction: row;<br>            flex-wrap: wrap;<br>            justify-content: flex-start;<br>            width: 100%;<br>        }<br>        .wandb-col {<br>            display: flex;<br>            flex-direction: column;<br>            flex-basis: 100%;<br>            flex: 1;<br>            padding: 10px;<br>        }<br>    </style><br><div class=\"wandb-row\"><div class=\"wandb-col\"><h3>Run history:</h3><br/><table class=\"wandb\"><tr><td>epoch</td><td>▁▂▃▃▄▅▆▆▇█</td></tr><tr><td>loss</td><td>█▄▃▂▂▂▁▁▁▁</td></tr><tr><td>test_accuracy</td><td>▁</td></tr><tr><td>train_accuracy</td><td>▁▄▆▆▇▇████</td></tr><tr><td>val_accuracy</td><td>▁▄▆▇▇▇████</td></tr></table><br/></div><div class=\"wandb-col\"><h3>Run summary:</h3><br/><table class=\"wandb\"><tr><td>epoch</td><td>10</td></tr><tr><td>loss</td><td>0.38909</td></tr><tr><td>test_accuracy</td><td>0.8522</td></tr><tr><td>train_accuracy</td><td>0.87756</td></tr><tr><td>val_accuracy</td><td>0.861</td></tr></table><br/></div></div>"
            ]
          },
          "metadata": {}
        },
        {
          "output_type": "display_data",
          "data": {
            "text/plain": [
              "<IPython.core.display.HTML object>"
            ],
            "text/html": [
              " View run <strong style=\"color:#cdcd00\">Q2a_Sigmoid_NoReg</strong> at: <a href='https://wandb.ai/karapa-rajesh-iit-madras/DL-Assignment/runs/7z7cuq9f' target=\"_blank\">https://wandb.ai/karapa-rajesh-iit-madras/DL-Assignment/runs/7z7cuq9f</a><br> View project at: <a href='https://wandb.ai/karapa-rajesh-iit-madras/DL-Assignment' target=\"_blank\">https://wandb.ai/karapa-rajesh-iit-madras/DL-Assignment</a><br>Synced 5 W&B file(s), 1 media file(s), 0 artifact file(s) and 0 other file(s)"
            ]
          },
          "metadata": {}
        },
        {
          "output_type": "display_data",
          "data": {
            "text/plain": [
              "<IPython.core.display.HTML object>"
            ],
            "text/html": [
              "Find logs at: <code>./wandb/run-20250317_155159-7z7cuq9f/logs</code>"
            ]
          },
          "metadata": {}
        },
        {
          "output_type": "display_data",
          "data": {
            "text/plain": [
              "<IPython.core.display.HTML object>"
            ],
            "text/html": [
              "Changes to your `wandb` environment variables will be ignored because your `wandb` session has already started. For more information on how to modify your settings with `wandb.init()` arguments, please refer to <a href='https://wandb.me/wandb-init' target=\"_blank\">the W&B docs</a>."
            ]
          },
          "metadata": {}
        },
        {
          "output_type": "display_data",
          "data": {
            "text/plain": [
              "<IPython.core.display.HTML object>"
            ],
            "text/html": [
              "Ignoring project 'DL-Assignment' when running a sweep."
            ]
          },
          "metadata": {}
        },
        {
          "output_type": "display_data",
          "data": {
            "text/plain": [
              "<IPython.core.display.HTML object>"
            ],
            "text/html": [
              "Tracking run with wandb version 0.19.8"
            ]
          },
          "metadata": {}
        },
        {
          "output_type": "display_data",
          "data": {
            "text/plain": [
              "<IPython.core.display.HTML object>"
            ],
            "text/html": [
              "Run data is saved locally in <code>/content/wandb/run-20250317_155717-7z7cuq9f</code>"
            ]
          },
          "metadata": {}
        },
        {
          "output_type": "display_data",
          "data": {
            "text/plain": [
              "<IPython.core.display.HTML object>"
            ],
            "text/html": [
              "Syncing run <strong><a href='https://wandb.ai/karapa-rajesh-iit-madras/DL-Assignment/runs/7z7cuq9f' target=\"_blank\">Q2b_Tanh_L2</a></strong> to <a href='https://wandb.ai/karapa-rajesh-iit-madras/DL-Assignment' target=\"_blank\">Weights & Biases</a> (<a href='https://wandb.me/developer-guide' target=\"_blank\">docs</a>)<br>Sweep page: <a href='https://wandb.ai/karapa-rajesh-iit-madras/DL-Assignment/sweeps/6ia22xtj' target=\"_blank\">https://wandb.ai/karapa-rajesh-iit-madras/DL-Assignment/sweeps/6ia22xtj</a>"
            ]
          },
          "metadata": {}
        },
        {
          "output_type": "display_data",
          "data": {
            "text/plain": [
              "<IPython.core.display.HTML object>"
            ],
            "text/html": [
              " View project at <a href='https://wandb.ai/karapa-rajesh-iit-madras/DL-Assignment' target=\"_blank\">https://wandb.ai/karapa-rajesh-iit-madras/DL-Assignment</a>"
            ]
          },
          "metadata": {}
        },
        {
          "output_type": "display_data",
          "data": {
            "text/plain": [
              "<IPython.core.display.HTML object>"
            ],
            "text/html": [
              " View sweep at <a href='https://wandb.ai/karapa-rajesh-iit-madras/DL-Assignment/sweeps/6ia22xtj' target=\"_blank\">https://wandb.ai/karapa-rajesh-iit-madras/DL-Assignment/sweeps/6ia22xtj</a>"
            ]
          },
          "metadata": {}
        },
        {
          "output_type": "display_data",
          "data": {
            "text/plain": [
              "<IPython.core.display.HTML object>"
            ],
            "text/html": [
              " View run at <a href='https://wandb.ai/karapa-rajesh-iit-madras/DL-Assignment/runs/7z7cuq9f' target=\"_blank\">https://wandb.ai/karapa-rajesh-iit-madras/DL-Assignment/runs/7z7cuq9f</a>"
            ]
          },
          "metadata": {}
        },
        {
          "output_type": "display_data",
          "data": {
            "text/plain": [
              "<IPython.core.display.HTML object>"
            ],
            "text/html": [
              "Changes to your `wandb` environment variables will be ignored because your `wandb` session has already started. For more information on how to modify your settings with `wandb.init()` arguments, please refer to <a href='https://wandb.me/wandb-init' target=\"_blank\">the W&B docs</a>."
            ]
          },
          "metadata": {}
        },
        {
          "output_type": "display_data",
          "data": {
            "text/plain": [
              "<IPython.core.display.HTML object>"
            ],
            "text/html": []
          },
          "metadata": {}
        },
        {
          "output_type": "display_data",
          "data": {
            "text/plain": [
              "<IPython.core.display.HTML object>"
            ],
            "text/html": [
              "<br>    <style><br>        .wandb-row {<br>            display: flex;<br>            flex-direction: row;<br>            flex-wrap: wrap;<br>            justify-content: flex-start;<br>            width: 100%;<br>        }<br>        .wandb-col {<br>            display: flex;<br>            flex-direction: column;<br>            flex-basis: 100%;<br>            flex: 1;<br>            padding: 10px;<br>        }<br>    </style><br><div class=\"wandb-row\"><div class=\"wandb-col\"><h3>Run history:</h3><br/><table class=\"wandb\"><tr><td>epoch</td><td>▁▂▃▃▄▅▆▆▇█</td></tr><tr><td>loss</td><td>█▇▇▅▄▃▂▂▁▁</td></tr><tr><td>test_accuracy</td><td>▁</td></tr><tr><td>train_accuracy</td><td>▁▁▄▅▆▇▇███</td></tr><tr><td>val_accuracy</td><td>▁▁▄▅▆▇▇███</td></tr></table><br/></div><div class=\"wandb-col\"><h3>Run summary:</h3><br/><table class=\"wandb\"><tr><td>epoch</td><td>10</td></tr><tr><td>loss</td><td>0.44464</td></tr><tr><td>test_accuracy</td><td>0.8373</td></tr><tr><td>train_accuracy</td><td>0.85837</td></tr><tr><td>val_accuracy</td><td>0.84383</td></tr></table><br/></div></div>"
            ]
          },
          "metadata": {}
        },
        {
          "output_type": "display_data",
          "data": {
            "text/plain": [
              "<IPython.core.display.HTML object>"
            ],
            "text/html": [
              " View run <strong style=\"color:#cdcd00\">Q2b_Tanh_L2</strong> at: <a href='https://wandb.ai/karapa-rajesh-iit-madras/DL-Assignment/runs/7z7cuq9f' target=\"_blank\">https://wandb.ai/karapa-rajesh-iit-madras/DL-Assignment/runs/7z7cuq9f</a><br> View project at: <a href='https://wandb.ai/karapa-rajesh-iit-madras/DL-Assignment' target=\"_blank\">https://wandb.ai/karapa-rajesh-iit-madras/DL-Assignment</a><br>Synced 5 W&B file(s), 1 media file(s), 0 artifact file(s) and 0 other file(s)"
            ]
          },
          "metadata": {}
        },
        {
          "output_type": "display_data",
          "data": {
            "text/plain": [
              "<IPython.core.display.HTML object>"
            ],
            "text/html": [
              "Find logs at: <code>./wandb/run-20250317_155717-7z7cuq9f/logs</code>"
            ]
          },
          "metadata": {}
        },
        {
          "output_type": "display_data",
          "data": {
            "text/plain": [
              "<IPython.core.display.HTML object>"
            ],
            "text/html": [
              "Changes to your `wandb` environment variables will be ignored because your `wandb` session has already started. For more information on how to modify your settings with `wandb.init()` arguments, please refer to <a href='https://wandb.me/wandb-init' target=\"_blank\">the W&B docs</a>."
            ]
          },
          "metadata": {}
        },
        {
          "output_type": "display_data",
          "data": {
            "text/plain": [
              "<IPython.core.display.HTML object>"
            ],
            "text/html": [
              "Ignoring project 'DL-Assignment' when running a sweep."
            ]
          },
          "metadata": {}
        },
        {
          "output_type": "display_data",
          "data": {
            "text/plain": [
              "<IPython.core.display.HTML object>"
            ],
            "text/html": [
              "Tracking run with wandb version 0.19.8"
            ]
          },
          "metadata": {}
        },
        {
          "output_type": "display_data",
          "data": {
            "text/plain": [
              "<IPython.core.display.HTML object>"
            ],
            "text/html": [
              "Run data is saved locally in <code>/content/wandb/run-20250317_160233-7z7cuq9f</code>"
            ]
          },
          "metadata": {}
        },
        {
          "output_type": "display_data",
          "data": {
            "text/plain": [
              "<IPython.core.display.HTML object>"
            ],
            "text/html": [
              "Syncing run <strong><a href='https://wandb.ai/karapa-rajesh-iit-madras/DL-Assignment/runs/7z7cuq9f' target=\"_blank\">Q2c_ReLU_L2</a></strong> to <a href='https://wandb.ai/karapa-rajesh-iit-madras/DL-Assignment' target=\"_blank\">Weights & Biases</a> (<a href='https://wandb.me/developer-guide' target=\"_blank\">docs</a>)<br>Sweep page: <a href='https://wandb.ai/karapa-rajesh-iit-madras/DL-Assignment/sweeps/6ia22xtj' target=\"_blank\">https://wandb.ai/karapa-rajesh-iit-madras/DL-Assignment/sweeps/6ia22xtj</a>"
            ]
          },
          "metadata": {}
        },
        {
          "output_type": "display_data",
          "data": {
            "text/plain": [
              "<IPython.core.display.HTML object>"
            ],
            "text/html": [
              " View project at <a href='https://wandb.ai/karapa-rajesh-iit-madras/DL-Assignment' target=\"_blank\">https://wandb.ai/karapa-rajesh-iit-madras/DL-Assignment</a>"
            ]
          },
          "metadata": {}
        },
        {
          "output_type": "display_data",
          "data": {
            "text/plain": [
              "<IPython.core.display.HTML object>"
            ],
            "text/html": [
              " View sweep at <a href='https://wandb.ai/karapa-rajesh-iit-madras/DL-Assignment/sweeps/6ia22xtj' target=\"_blank\">https://wandb.ai/karapa-rajesh-iit-madras/DL-Assignment/sweeps/6ia22xtj</a>"
            ]
          },
          "metadata": {}
        },
        {
          "output_type": "display_data",
          "data": {
            "text/plain": [
              "<IPython.core.display.HTML object>"
            ],
            "text/html": [
              " View run at <a href='https://wandb.ai/karapa-rajesh-iit-madras/DL-Assignment/runs/7z7cuq9f' target=\"_blank\">https://wandb.ai/karapa-rajesh-iit-madras/DL-Assignment/runs/7z7cuq9f</a>"
            ]
          },
          "metadata": {}
        },
        {
          "output_type": "display_data",
          "data": {
            "text/plain": [
              "<IPython.core.display.HTML object>"
            ],
            "text/html": [
              "Changes to your `wandb` environment variables will be ignored because your `wandb` session has already started. For more information on how to modify your settings with `wandb.init()` arguments, please refer to <a href='https://wandb.me/wandb-init' target=\"_blank\">the W&B docs</a>."
            ]
          },
          "metadata": {}
        },
        {
          "output_type": "display_data",
          "data": {
            "text/plain": [
              "<IPython.core.display.HTML object>"
            ],
            "text/html": []
          },
          "metadata": {}
        },
        {
          "output_type": "display_data",
          "data": {
            "text/plain": [
              "<IPython.core.display.HTML object>"
            ],
            "text/html": [
              "<br>    <style><br>        .wandb-row {<br>            display: flex;<br>            flex-direction: row;<br>            flex-wrap: wrap;<br>            justify-content: flex-start;<br>            width: 100%;<br>        }<br>        .wandb-col {<br>            display: flex;<br>            flex-direction: column;<br>            flex-basis: 100%;<br>            flex: 1;<br>            padding: 10px;<br>        }<br>    </style><br><div class=\"wandb-row\"><div class=\"wandb-col\"><h3>Run history:</h3><br/><table class=\"wandb\"><tr><td>epoch</td><td>▁▂▃▃▄▅▆▆▇█</td></tr><tr><td>loss</td><td>█▅▃▂▂▁▁▁▁▁</td></tr><tr><td>test_accuracy</td><td>▁</td></tr><tr><td>train_accuracy</td><td>▁▅▆▇▇█████</td></tr><tr><td>val_accuracy</td><td>▁▅▇▇██████</td></tr></table><br/></div><div class=\"wandb-col\"><h3>Run summary:</h3><br/><table class=\"wandb\"><tr><td>epoch</td><td>10</td></tr><tr><td>loss</td><td>0.50375</td></tr><tr><td>test_accuracy</td><td>0.8228</td></tr><tr><td>train_accuracy</td><td>0.84543</td></tr><tr><td>val_accuracy</td><td>0.831</td></tr></table><br/></div></div>"
            ]
          },
          "metadata": {}
        },
        {
          "output_type": "display_data",
          "data": {
            "text/plain": [
              "<IPython.core.display.HTML object>"
            ],
            "text/html": [
              " View run <strong style=\"color:#cdcd00\">Q2c_ReLU_L2</strong> at: <a href='https://wandb.ai/karapa-rajesh-iit-madras/DL-Assignment/runs/7z7cuq9f' target=\"_blank\">https://wandb.ai/karapa-rajesh-iit-madras/DL-Assignment/runs/7z7cuq9f</a><br> View project at: <a href='https://wandb.ai/karapa-rajesh-iit-madras/DL-Assignment' target=\"_blank\">https://wandb.ai/karapa-rajesh-iit-madras/DL-Assignment</a><br>Synced 5 W&B file(s), 1 media file(s), 0 artifact file(s) and 0 other file(s)"
            ]
          },
          "metadata": {}
        },
        {
          "output_type": "display_data",
          "data": {
            "text/plain": [
              "<IPython.core.display.HTML object>"
            ],
            "text/html": [
              "Find logs at: <code>./wandb/run-20250317_160233-7z7cuq9f/logs</code>"
            ]
          },
          "metadata": {}
        },
        {
          "output_type": "stream",
          "name": "stdout",
          "text": [
            "Create sweep with ID: otedsodt\n",
            "Sweep URL: https://wandb.ai/karapa-rajesh-iit-madras/DeepLearning/sweeps/otedsodt\n"
          ]
        },
        {
          "output_type": "stream",
          "name": "stderr",
          "text": [
            "\u001b[34m\u001b[1mwandb\u001b[0m: Agent Starting Run: tek7ct8g with config:\n",
            "\u001b[34m\u001b[1mwandb\u001b[0m: \tactivation_func: relu\n",
            "\u001b[34m\u001b[1mwandb\u001b[0m: \tbatch_size: 64\n",
            "\u001b[34m\u001b[1mwandb\u001b[0m: \thiddenlayers: 4\n",
            "\u001b[34m\u001b[1mwandb\u001b[0m: \thiddennodes: 256\n",
            "\u001b[34m\u001b[1mwandb\u001b[0m: \tinitializer: random\n",
            "\u001b[34m\u001b[1mwandb\u001b[0m: \tlearning_rate: 0.001\n",
            "\u001b[34m\u001b[1mwandb\u001b[0m: \tloss: mean_squared_error\n",
            "\u001b[34m\u001b[1mwandb\u001b[0m: \tnum_epochs: 15\n",
            "\u001b[34m\u001b[1mwandb\u001b[0m: \topt: adam\n",
            "\u001b[34m\u001b[1mwandb\u001b[0m: \tweight_decay: 0\n"
          ]
        },
        {
          "output_type": "display_data",
          "data": {
            "text/plain": [
              "<IPython.core.display.HTML object>"
            ],
            "text/html": [
              "Tracking run with wandb version 0.19.8"
            ]
          },
          "metadata": {}
        },
        {
          "output_type": "display_data",
          "data": {
            "text/plain": [
              "<IPython.core.display.HTML object>"
            ],
            "text/html": [
              "Run data is saved locally in <code>/content/wandb/run-20250317_160741-tek7ct8g</code>"
            ]
          },
          "metadata": {}
        },
        {
          "output_type": "display_data",
          "data": {
            "text/plain": [
              "<IPython.core.display.HTML object>"
            ],
            "text/html": [
              "Syncing run <strong><a href='https://wandb.ai/karapa-rajesh-iit-madras/DeepLearning/runs/tek7ct8g' target=\"_blank\">still-sweep-1</a></strong> to <a href='https://wandb.ai/karapa-rajesh-iit-madras/DeepLearning' target=\"_blank\">Weights & Biases</a> (<a href='https://wandb.me/developer-guide' target=\"_blank\">docs</a>)<br>Sweep page: <a href='https://wandb.ai/karapa-rajesh-iit-madras/DeepLearning/sweeps/otedsodt' target=\"_blank\">https://wandb.ai/karapa-rajesh-iit-madras/DeepLearning/sweeps/otedsodt</a>"
            ]
          },
          "metadata": {}
        },
        {
          "output_type": "display_data",
          "data": {
            "text/plain": [
              "<IPython.core.display.HTML object>"
            ],
            "text/html": [
              " View project at <a href='https://wandb.ai/karapa-rajesh-iit-madras/DeepLearning' target=\"_blank\">https://wandb.ai/karapa-rajesh-iit-madras/DeepLearning</a>"
            ]
          },
          "metadata": {}
        },
        {
          "output_type": "display_data",
          "data": {
            "text/plain": [
              "<IPython.core.display.HTML object>"
            ],
            "text/html": [
              " View sweep at <a href='https://wandb.ai/karapa-rajesh-iit-madras/DeepLearning/sweeps/otedsodt' target=\"_blank\">https://wandb.ai/karapa-rajesh-iit-madras/DeepLearning/sweeps/otedsodt</a>"
            ]
          },
          "metadata": {}
        },
        {
          "output_type": "display_data",
          "data": {
            "text/plain": [
              "<IPython.core.display.HTML object>"
            ],
            "text/html": [
              " View run at <a href='https://wandb.ai/karapa-rajesh-iit-madras/DeepLearning/runs/tek7ct8g' target=\"_blank\">https://wandb.ai/karapa-rajesh-iit-madras/DeepLearning/runs/tek7ct8g</a>"
            ]
          },
          "metadata": {}
        },
        {
          "output_type": "display_data",
          "data": {
            "text/plain": [
              "<IPython.core.display.HTML object>"
            ],
            "text/html": []
          },
          "metadata": {}
        },
        {
          "output_type": "display_data",
          "data": {
            "text/plain": [
              "<IPython.core.display.HTML object>"
            ],
            "text/html": [
              "<br>    <style><br>        .wandb-row {<br>            display: flex;<br>            flex-direction: row;<br>            flex-wrap: wrap;<br>            justify-content: flex-start;<br>            width: 100%;<br>        }<br>        .wandb-col {<br>            display: flex;<br>            flex-direction: column;<br>            flex-basis: 100%;<br>            flex: 1;<br>            padding: 10px;<br>        }<br>    </style><br><div class=\"wandb-row\"><div class=\"wandb-col\"><h3>Run history:</h3><br/><table class=\"wandb\"><tr><td>epoch</td><td>▁▁▂▃▃▃▄▅▅▅▆▇▇▇█</td></tr><tr><td>loss</td><td>█▄▃▃▂▂▂▂▂▂▁▁▁▁▁</td></tr><tr><td>test_accuracy</td><td>▁</td></tr><tr><td>train_accuracy</td><td>▁▃▅▅▅▅▆▇▆▆▇▇█▇█</td></tr><tr><td>val_accuracy</td><td>▁▃▅▅▆▅▇▇▇▇█▇█▇█</td></tr></table><br/></div><div class=\"wandb-col\"><h3>Run summary:</h3><br/><table class=\"wandb\"><tr><td>epoch</td><td>15</td></tr><tr><td>loss</td><td>0.06004</td></tr><tr><td>test_accuracy</td><td>0.8867</td></tr><tr><td>train_accuracy</td><td>0.92519</td></tr><tr><td>val_accuracy</td><td>0.8905</td></tr></table><br/></div></div>"
            ]
          },
          "metadata": {}
        },
        {
          "output_type": "display_data",
          "data": {
            "text/plain": [
              "<IPython.core.display.HTML object>"
            ],
            "text/html": [
              " View run <strong style=\"color:#cdcd00\">still-sweep-1</strong> at: <a href='https://wandb.ai/karapa-rajesh-iit-madras/DeepLearning/runs/tek7ct8g' target=\"_blank\">https://wandb.ai/karapa-rajesh-iit-madras/DeepLearning/runs/tek7ct8g</a><br> View project at: <a href='https://wandb.ai/karapa-rajesh-iit-madras/DeepLearning' target=\"_blank\">https://wandb.ai/karapa-rajesh-iit-madras/DeepLearning</a><br>Synced 5 W&B file(s), 1 media file(s), 0 artifact file(s) and 0 other file(s)"
            ]
          },
          "metadata": {}
        },
        {
          "output_type": "display_data",
          "data": {
            "text/plain": [
              "<IPython.core.display.HTML object>"
            ],
            "text/html": [
              "Find logs at: <code>./wandb/run-20250317_160741-tek7ct8g/logs</code>"
            ]
          },
          "metadata": {}
        }
      ],
      "source": [
        "import numpy as np\n",
        "import matplotlib.pyplot as plt\n",
        "import wandb\n",
        "from keras.datasets import fashion_mnist\n",
        "from sklearn.metrics import confusion_matrix\n",
        "import seaborn as sns\n",
        "\n",
        "# -----------------------\n",
        "# Neural operations\n",
        "def linear(z):\n",
        "    return np.maximum(0, z)\n",
        "def linear_grad(z):\n",
        "    return (z > 0) * 1.0\n",
        "def logistic(z):\n",
        "    return 1 / (1 + np.exp(-z))\n",
        "def logistic_grad(z):\n",
        "    s = logistic(z)\n",
        "    return s * (1 - s)\n",
        "def hyperbolic(z):\n",
        "    return np.tanh(z)\n",
        "def hyperbolic_grad(z):\n",
        "    return 1 - np.tanh(z)**2\n",
        "\n",
        "neural_ops = {\n",
        "    \"relu\": (linear, linear_grad),\n",
        "    \"sigmoid\": (logistic, logistic_grad),\n",
        "    \"tanh\": (hyperbolic, hyperbolic_grad)\n",
        "}\n",
        "\n",
        "# -----------------------\n",
        "# Enhanced Deep Neural Network Class with L2 Regularization\n",
        "class DeepNeuralNet:\n",
        "    def __init__(self, input_dim, hidden_dims, output_dim, activation=\"relu\", init_scheme=\"Xavier\"):\n",
        "        self.layer_count = len(hidden_dims) + 1\n",
        "        self.activation = activation\n",
        "        self.weights = []\n",
        "        self.biases = []\n",
        "\n",
        "        dims = [input_dim] + hidden_dims + [output_dim]\n",
        "        for i in range(self.layer_count):\n",
        "            if init_scheme == \"Xavier\":\n",
        "                if activation in [\"tanh\", \"sigmoid\"]:\n",
        "                    scale = np.sqrt(2. / (dims[i] + dims[i+1]))\n",
        "                else:  # ReLU\n",
        "                    scale = np.sqrt(2. / dims[i])\n",
        "                W = np.random.randn(dims[i], dims[i+1]) * scale\n",
        "            else:  # Random initialization\n",
        "                W = np.random.randn(dims[i], dims[i+1]) * 0.01\n",
        "            b = np.zeros((1, dims[i+1]))\n",
        "            self.weights.append(W)\n",
        "            self.biases.append(b)\n",
        "\n",
        "    def predict(self, X):\n",
        "        activate, _ = neural_ops[self.activation]\n",
        "        self.z_records = []\n",
        "        self.a_records = [X]\n",
        "        A = X\n",
        "        for idx in range(self.layer_count):\n",
        "            Z = A.dot(self.weights[idx]) + self.biases[idx]\n",
        "            self.z_records.append(Z)\n",
        "            if idx == self.layer_count - 1:\n",
        "                # Use softmax for the final layer\n",
        "                shifted = Z - np.max(Z, axis=1, keepdims=True)\n",
        "                exp = np.exp(shifted)\n",
        "                A = exp / np.sum(exp, axis=1, keepdims=True)\n",
        "            else:\n",
        "                A = activate(Z)\n",
        "            self.a_records.append(A)\n",
        "        return A\n",
        "\n",
        "    def calculate_cost(self, Y_hat, Y_real, cost_type=\"cross_entropy\", weight_decay=0):\n",
        "        m = Y_real.shape[0]\n",
        "        if cost_type == \"cross_entropy\":\n",
        "            cost = -np.sum(Y_real * np.log(Y_hat + 1e-8)) / m\n",
        "        elif cost_type == \"mean_squared_error\":\n",
        "            cost = np.sum((Y_real - Y_hat)**2) / (2 * m)\n",
        "        # L2 Regularization\n",
        "        if weight_decay > 0:\n",
        "            l2_penalty = sum(np.sum(w**2) for w in self.weights)\n",
        "            cost += (weight_decay / (2 * m)) * l2_penalty\n",
        "        return cost\n",
        "\n",
        "    def compute_gradients(self, X, Y, cost_type=\"cross_entropy\", weight_decay=0):\n",
        "        m = X.shape[0]\n",
        "        grad_weights = [None] * self.layer_count\n",
        "        grad_biases = [None] * self.layer_count\n",
        "\n",
        "        final_act = self.a_records[-1]\n",
        "        if cost_type == \"cross_entropy\":\n",
        "            delta = final_act - Y\n",
        "        elif cost_type == \"mean_squared_error\":\n",
        "            delta = (final_act - Y)\n",
        "\n",
        "        for idx in reversed(range(self.layer_count)):\n",
        "            if idx == self.layer_count - 1:\n",
        "                dZ = delta\n",
        "            else:\n",
        "                _, grad_func = neural_ops[self.activation]\n",
        "                dZ = delta * grad_func(self.z_records[idx])\n",
        "\n",
        "            prev_act = self.a_records[idx]\n",
        "            grad_weights[idx] = prev_act.T.dot(dZ) / m\n",
        "            grad_biases[idx] = np.sum(dZ, axis=0, keepdims=True) / m\n",
        "\n",
        "            # L2 gradient\n",
        "            if weight_decay > 0:\n",
        "                grad_weights[idx] += (weight_decay / m) * self.weights[idx]\n",
        "\n",
        "            if idx > 0:\n",
        "                delta = dZ.dot(self.weights[idx].T)\n",
        "        return grad_weights, grad_biases\n",
        "\n",
        "    def adjust_params(self, grad_w, grad_b, optim, settings, states):\n",
        "        lr = settings.learning_rate\n",
        "\n",
        "        if optim == \"sgd\":\n",
        "            for i in range(self.layer_count):\n",
        "                self.weights[i] -= lr * grad_w[i]\n",
        "                self.biases[i] -= lr * grad_b[i]\n",
        "\n",
        "        elif optim == \"momentum\":\n",
        "            momentum_val = 0.9\n",
        "            if \"momentum\" not in states:\n",
        "                states[\"momentum\"] = {\n",
        "                    \"v_w\": [np.zeros_like(w) for w in self.weights],\n",
        "                    \"v_b\": [np.zeros_like(b) for b in self.biases]\n",
        "                }\n",
        "            for i in range(self.layer_count):\n",
        "                states[\"momentum\"][\"v_w\"][i] = momentum_val * states[\"momentum\"][\"v_w\"][i] + grad_w[i]\n",
        "                self.weights[i] -= lr * states[\"momentum\"][\"v_w\"][i]\n",
        "                states[\"momentum\"][\"v_b\"][i] = momentum_val * states[\"momentum\"][\"v_b\"][i] + grad_b[i]\n",
        "                self.biases[i] -= lr * states[\"momentum\"][\"v_b\"][i]\n",
        "\n",
        "        elif optim == \"nesterov\":\n",
        "            momentum = 0.9\n",
        "            if \"nesterov\" not in states:\n",
        "                states[\"nesterov\"] = {\n",
        "                    \"v_w\": [np.zeros_like(w) for w in self.weights],\n",
        "                    \"v_b\": [np.zeros_like(b) for b in self.biases]\n",
        "                }\n",
        "            for i in range(self.layer_count):\n",
        "                states[\"nesterov\"][\"v_w\"][i] = momentum * states[\"nesterov\"][\"v_w\"][i] + grad_w[i]\n",
        "                self.weights[i] -= lr * (momentum * states[\"nesterov\"][\"v_w\"][i] + grad_w[i])\n",
        "                states[\"nesterov\"][\"v_b\"][i] = momentum * states[\"nesterov\"][\"v_b\"][i] + grad_b[i]\n",
        "                self.biases[i] -= lr * (momentum * states[\"nesterov\"][\"v_b\"][i] + grad_b[i])\n",
        "\n",
        "        elif optim == \"rmsprop\":\n",
        "            gamma = 0.9\n",
        "            eps = 1e-8\n",
        "            if \"rmsprop\" not in states:\n",
        "                states[\"rmsprop\"] = {\n",
        "                    \"cache_w\": [np.zeros_like(w) for w in self.weights],\n",
        "                    \"cache_b\": [np.zeros_like(b) for b in self.biases]\n",
        "                }\n",
        "            for i in range(self.layer_count):\n",
        "                states[\"rmsprop\"][\"cache_w\"][i] = gamma * states[\"rmsprop\"][\"cache_w\"][i] + (1 - gamma) * (grad_w[i]**2)\n",
        "                self.weights[i] -= lr * grad_w[i] / (np.sqrt(states[\"rmsprop\"][\"cache_w\"][i]) + eps)\n",
        "                states[\"rmsprop\"][\"cache_b\"][i] = gamma * states[\"rmsprop\"][\"cache_b\"][i] + (1 - gamma) * (grad_b[i]**2)\n",
        "                self.biases[i] -= lr * grad_b[i] / (np.sqrt(states[\"rmsprop\"][\"cache_b\"][i]) + eps)\n",
        "\n",
        "        elif optim == \"adam\":\n",
        "            beta1 = 0.9\n",
        "            beta2 = 0.999\n",
        "            eps = 1e-8\n",
        "            if \"adam\" not in states:\n",
        "                states[\"adam\"] = {\n",
        "                    \"m_w\": [np.zeros_like(w) for w in self.weights],\n",
        "                    \"v_w\": [np.zeros_like(w) for w in self.weights],\n",
        "                    \"m_b\": [np.zeros_like(b) for b in self.biases],\n",
        "                    \"v_b\": [np.zeros_like(b) for b in self.biases],\n",
        "                    \"step\": 0\n",
        "                }\n",
        "            states[\"adam\"][\"step\"] += 1\n",
        "            t = states[\"adam\"][\"step\"]\n",
        "            for i in range(self.layer_count):\n",
        "                # Update weights\n",
        "                states[\"adam\"][\"m_w\"][i] = beta1 * states[\"adam\"][\"m_w\"][i] + (1 - beta1) * grad_w[i]\n",
        "                states[\"adam\"][\"v_w\"][i] = beta2 * states[\"adam\"][\"v_w\"][i] + (1 - beta2) * (grad_w[i]**2)\n",
        "                m_w_adj = states[\"adam\"][\"m_w\"][i] / (1 - beta1**t)\n",
        "                v_w_adj = states[\"adam\"][\"v_w\"][i] / (1 - beta2**t)\n",
        "                self.weights[i] -= lr * m_w_adj / (np.sqrt(v_w_adj) + eps)\n",
        "\n",
        "                # Update biases\n",
        "                states[\"adam\"][\"m_b\"][i] = beta1 * states[\"adam\"][\"m_b\"][i] + (1 - beta1) * grad_b[i]\n",
        "                states[\"adam\"][\"v_b\"][i] = beta2 * states[\"adam\"][\"v_b\"][i] + (1 - beta2) * (grad_b[i]**2)\n",
        "                m_b_adj = states[\"adam\"][\"m_b\"][i] / (1 - beta1**t)\n",
        "                v_b_adj = states[\"adam\"][\"v_b\"][i] / (1 - beta2**t)\n",
        "                self.biases[i] -= lr * m_b_adj / (np.sqrt(v_b_adj) + eps)\n",
        "        return states\n",
        "\n",
        "# -----------------------\n",
        "# Helper utilities\n",
        "def encode_labels(y, num_labels):\n",
        "    encoded = np.zeros((len(y), num_labels))\n",
        "    encoded[np.arange(len(y)), y] = 1\n",
        "    return encoded\n",
        "\n",
        "def get_accuracy(Y_est, Y_actual):\n",
        "    preds = np.argmax(Y_est, axis=1)\n",
        "    truths = np.argmax(Y_actual, axis=1)\n",
        "    return np.mean(preds == truths)\n",
        "\n",
        "def log_confusion_matrix(Y_est, y_real, classes):\n",
        "    cm = confusion_matrix(y_real, np.argmax(Y_est, axis=1))\n",
        "    plt.figure(figsize=(9,7))\n",
        "    sns.heatmap(cm, annot=True, fmt=\"d\", cmap=\"Blues\", xticklabels=classes, yticklabels=classes)\n",
        "    plt.xlabel(\"Predicted\")\n",
        "    plt.ylabel(\"True\")\n",
        "    plt.title(\"Confusion Matrix\")\n",
        "    wandb.log({\"Confusion Matrix\": wandb.Image(plt)})\n",
        "    plt.close()\n",
        "\n",
        "# -----------------------\n",
        "# Question 1: Sample Images\n",
        "def log_q1_samples():\n",
        "    (train_X, train_y), _ = fashion_mnist.load_data()\n",
        "    class_names = ['T-shirt/top', 'Trouser', 'Pullover', 'Dress', 'Coat',\n",
        "                   'Sandal', 'Shirt', 'Sneaker', 'Bag', 'Ankle boot']\n",
        "    plt.figure(figsize=(10,5))\n",
        "    for i in range(10):\n",
        "        idx = np.where(train_y == i)[0][0]\n",
        "        plt.subplot(2,5,i+1)\n",
        "        plt.imshow(train_X[idx], cmap='gray')\n",
        "        plt.title(class_names[i])\n",
        "        plt.axis('off')\n",
        "    plt.tight_layout()\n",
        "    wandb.log({\"Question 1 Samples\": wandb.Image(plt)})\n",
        "    plt.close()\n",
        "\n",
        "# -----------------------\n",
        "# New: Dedicated Question 2 Logging\n",
        "def log_q2_experiments():\n",
        "    \"\"\"Execute specific experiments for Question 2 requirements\"\"\"\n",
        "    q2_configs = [\n",
        "        {\n",
        "            \"name\": \"Q2a_Sigmoid_NoReg\",\n",
        "            \"config\": {\n",
        "                \"activation_func\": \"sigmoid\",\n",
        "                \"weight_decay\": 0,\n",
        "                \"hiddenlayers\": 3,\n",
        "                \"hiddennodes\": 128,\n",
        "                \"num_epochs\": 10,\n",
        "                \"learning_rate\": 0.001,\n",
        "                \"batch_size\": 64,\n",
        "                \"opt\": \"adam\",\n",
        "                \"loss\": \"cross_entropy\",\n",
        "                \"initializer\": \"Xavier\"\n",
        "            }\n",
        "        },\n",
        "        {\n",
        "            \"name\": \"Q2b_Tanh_L2\",\n",
        "            \"config\": {\n",
        "                \"activation_func\": \"tanh\",\n",
        "                \"weight_decay\": 0.001,\n",
        "                \"hiddenlayers\": 3,\n",
        "                \"hiddennodes\": 128,\n",
        "                \"num_epochs\": 10,\n",
        "                \"learning_rate\": 0.001,\n",
        "                \"batch_size\": 64,\n",
        "                \"opt\": \"adam\",\n",
        "                \"loss\": \"cross_entropy\",\n",
        "                \"initializer\": \"Xavier\"\n",
        "            }\n",
        "        },\n",
        "        {\n",
        "            \"name\": \"Q2c_ReLU_L2\",\n",
        "            \"config\": {\n",
        "                \"activation_func\": \"relu\",\n",
        "                \"weight_decay\": 0.0001,\n",
        "                \"hiddenlayers\": 3,\n",
        "                \"hiddennodes\": 128,\n",
        "                \"num_epochs\": 10,\n",
        "                \"learning_rate\": 0.001,\n",
        "                \"batch_size\": 64,\n",
        "                \"opt\": \"adam\",\n",
        "                \"loss\": \"cross_entropy\",\n",
        "                \"initializer\": \"Xavier\"\n",
        "            }\n",
        "        }\n",
        "    ]\n",
        "\n",
        "    for exp in q2_configs:\n",
        "        with wandb.init(\n",
        "            project=\"DL-Assignment\",\n",
        "            name=exp[\"name\"],\n",
        "            config=exp[\"config\"],\n",
        "            tags=[\"Question2\"]\n",
        "        ):\n",
        "            execute_training()\n",
        "        wandb.finish()\n",
        "\n",
        "# -----------------------\n",
        "# Enhanced Training Procedure with L2 Regularization\n",
        "def execute_training():\n",
        "    wandb.init()\n",
        "    cfg = wandb.config\n",
        "\n",
        "    # Load and prepare data\n",
        "    (train_X, train_y), (test_X, test_y) = fashion_mnist.load_data()\n",
        "    train_X = train_X.reshape(train_X.shape[0], -1) / 255.0\n",
        "    test_X = test_X.reshape(test_X.shape[0], -1) / 255.0\n",
        "    num_classes = 10\n",
        "    train_y_oh = encode_labels(train_y, num_classes)\n",
        "    test_y_oh = encode_labels(test_y, num_classes)\n",
        "\n",
        "    # Validation split\n",
        "    val_split = int(0.9 * train_X.shape[0])\n",
        "    val_X, val_y_oh = train_X[val_split:], train_y_oh[val_split:]\n",
        "    train_X, train_y_oh = train_X[:val_split], train_y_oh[:val_split]\n",
        "\n",
        "    # Model initialization\n",
        "    input_dim = train_X.shape[1]\n",
        "    hidden_arch = [cfg.hiddennodes] * cfg.hiddenlayers\n",
        "    model = DeepNeuralNet(input_dim, hidden_arch, num_classes,\n",
        "                          activation=cfg.activation_func,\n",
        "                          init_scheme=cfg.initializer)\n",
        "\n",
        "    # Training setup\n",
        "    optimizer_states = {}\n",
        "    grad_clip_value = 1.0\n",
        "\n",
        "    for epoch in range(cfg.num_epochs):\n",
        "        # Shuffle training data\n",
        "        shuffle_idx = np.random.permutation(train_X.shape[0])\n",
        "        train_X = train_X[shuffle_idx]\n",
        "        train_y_oh = train_y_oh[shuffle_idx]\n",
        "\n",
        "        batches = train_X.shape[0] // cfg.batch_size\n",
        "        epoch_loss = 0.0\n",
        "\n",
        "        for batch in range(batches):\n",
        "            start = batch * cfg.batch_size\n",
        "            end = start + cfg.batch_size\n",
        "            X_batch = train_X[start:end]\n",
        "            y_batch = train_y_oh[start:end]\n",
        "\n",
        "            # Forward pass\n",
        "            outputs = model.predict(X_batch)\n",
        "\n",
        "            # Calculate loss with L2 regularization\n",
        "            loss = model.calculate_cost(outputs, y_batch,\n",
        "                                          cost_type=cfg.loss,\n",
        "                                          weight_decay=cfg.weight_decay)\n",
        "            epoch_loss += loss\n",
        "\n",
        "            # Backward pass\n",
        "            grad_w, grad_b = model.compute_gradients(X_batch, y_batch,\n",
        "                                                     cost_type=cfg.loss,\n",
        "                                                     weight_decay=cfg.weight_decay)\n",
        "\n",
        "            # Gradient clipping\n",
        "            for i in range(len(grad_w)):\n",
        "                grad_w[i] = np.clip(grad_w[i], -grad_clip_value, grad_clip_value)\n",
        "                grad_b[i] = np.clip(grad_b[i], -grad_clip_value, grad_clip_value)\n",
        "\n",
        "            # Parameter update\n",
        "            optimizer_states = model.adjust_params(grad_w, grad_b, cfg.opt, cfg, optimizer_states)\n",
        "\n",
        "        # Log metrics\n",
        "        avg_loss = epoch_loss / batches\n",
        "\n",
        "        # Training accuracy\n",
        "        train_outputs = model.predict(train_X)\n",
        "        train_acc = get_accuracy(train_outputs, train_y_oh)\n",
        "\n",
        "        # Validation accuracy\n",
        "        val_outputs = model.predict(val_X)\n",
        "        val_acc = get_accuracy(val_outputs, val_y_oh)\n",
        "\n",
        "        wandb.log({\n",
        "            \"epoch\": epoch+1,\n",
        "            \"loss\": avg_loss,\n",
        "            \"train_accuracy\": train_acc,\n",
        "            \"val_accuracy\": val_acc\n",
        "        })\n",
        "\n",
        "    # Final evaluation on test data\n",
        "    test_outputs = model.predict(test_X)\n",
        "    final_acc = get_accuracy(test_outputs, test_y_oh)\n",
        "    wandb.log({\"test_accuracy\": final_acc})\n",
        "\n",
        "    # Log confusion matrix\n",
        "    log_confusion_matrix(test_outputs, test_y, [str(i) for i in range(num_classes)])\n",
        "    wandb.finish()\n",
        "\n",
        "# -----------------------\n",
        "# Question 2 Sweep Configuration\n",
        "sweep_config = {\n",
        "    'name': \"question2-sweep\",\n",
        "    'method': 'bayes',\n",
        "    'metric': {'name': 'val_accuracy', 'goal': 'maximize'},\n",
        "    'parameters': {\n",
        "        'hiddenlayers': {'values': [3, 4, 5]},\n",
        "        'num_epochs': {'values': [10, 15]},\n",
        "        'hiddennodes': {'values': [128, 256]},\n",
        "        'learning_rate': {'values': [1e-3, 5e-4]},\n",
        "        'initializer': {'values': [\"Xavier\", \"random\"]},\n",
        "        'batch_size': {'values': [64, 128]},\n",
        "        'opt': {'values': [\"adam\", \"nesterov\", \"rmsprop\"]},\n",
        "        'activation_func': {'values': [\"relu\", \"tanh\", \"sigmoid\"]},\n",
        "        'loss': {'values': [\"cross_entropy\", \"mean_squared_error\"]},\n",
        "        'weight_decay': {'values': [0, 0.0001, 0.001]}\n",
        "    }\n",
        "}\n",
        "\n",
        "# -----------------------\n",
        "# Execution Flow\n",
        "if __name__ == \"__main__\":\n",
        "    # 1. Log Q1 samples\n",
        "    wandb.init(project=\"DeepLearning\", name=\"Q1_Samples\", job_type=\"logging\")\n",
        "    log_q1_samples()\n",
        "    wandb.finish()\n",
        "\n",
        "    # 2. Run dedicated Q2 experiments\n",
        "    log_q2_experiments()\n",
        "\n",
        "    # 3. Run Q2 hyperparameter sweep\n",
        "    sweep_id = wandb.sweep(sweep_config, project=\"DeepLearning\")\n",
        "    wandb.agent(sweep_id, function=execute_training, count=1)\n"
      ]
    }
  ]
}