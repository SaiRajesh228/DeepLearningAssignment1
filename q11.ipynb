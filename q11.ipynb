{
  "nbformat": 4,
  "nbformat_minor": 0,
  "metadata": {
    "colab": {
      "provenance": [],
      "authorship_tag": "ABX9TyOqFPN0QsV1xMNyFhQLCe4q",
      "include_colab_link": true
    },
    "kernelspec": {
      "name": "python3",
      "display_name": "Python 3"
    },
    "language_info": {
      "name": "python"
    }
  },
  "cells": [
    {
      "cell_type": "markdown",
      "metadata": {
        "id": "view-in-github",
        "colab_type": "text"
      },
      "source": [
        "<a href=\"https://colab.research.google.com/github/SaiRajesh228/DeepLearningAssignment1/blob/main/q11.ipynb\" target=\"_parent\"><img src=\"https://colab.research.google.com/assets/colab-badge.svg\" alt=\"Open In Colab\"/></a>"
      ]
    },
    {
      "cell_type": "code",
      "execution_count": null,
      "metadata": {
        "id": "qIqjDyU7yrkW"
      },
      "outputs": [],
      "source": [
        "import pandas as pd\n",
        "import numpy as np\n",
        "from keras.datasets import fashion_mnist\n",
        "import wandb"
      ]
    },
    {
      "cell_type": "code",
      "source": [
        "!pip install wandb -Uq\n",
        "import wandb\n",
        "from getpass import getpass\n",
        "\n",
        "# 1. Authenticate with W&B\n",
        "wandb.finish()\n",
        "api_key = getpass(\"Enter W&B API key: \")\n",
        "wandb.login(key=api_key, relogin=True)\n",
        "\n",
        "# 2. Verify authentication and get username\n",
        "try:\n",
        "    api = wandb.Api()\n",
        "    user = api.viewer()  # Get user details\n",
        "    username = user.get(\"entity\")  # Extract username\n",
        "    print(f\"✓ Authenticated as: {username}\")\n",
        "except Exception as e:\n",
        "    print(f\"❌ Authentication failed: {e}\")\n",
        "    exit(1)\n",
        "\n",
        "# 3. Sweep Configuration\n",
        "sweep_config = {\n",
        "    'method': 'random',\n",
        "    'metric': {'name': 'accuracy', 'goal': 'maximize'},\n",
        "    'parameters': {\n",
        "        'learning_rate': {'values': [1e-3, 1e-4]},\n",
        "        'batch_size': {'values': [16, 32, 64]},\n",
        "        'epochs': {'values': [5, 10]},\n",
        "        'hidden_layers': {'values': [3, 4, 5]},\n",
        "        'hidden_size': {'values': [32, 64, 128]},\n",
        "        'activation': {'values': ['relu', 'sigmoid', 'tanh']},\n",
        "        'optimizer': {'values': ['sgd', 'momentum', 'nesterov', 'rmsprop', 'adam', 'nadam']},\n",
        "        'weight_init': {'values': ['random', 'xavier']},\n",
        "        'weight_decay': {\"values\": [0, 0.0005, 0.5]}\n",
        "    },\n",
        "    \"run_cap\": 100\n",
        "}\n",
        "\n",
        "# 4. Create Sweep Under Correct Username\n",
        "try:\n",
        "    sweep_id = wandb.sweep(sweep_config, entity=username, project=\"DLAssignment1\")\n",
        "    print(f\"✅ Sweep created! View at: https://wandb.ai/{username}/DLAssignment1/sweeps/{sweep_id}\")\n",
        "except Exception as e:\n",
        "    print(f\"❌ Error: {e}\")\n",
        "    print(\"Verify:\")\n",
        "    print(f\"1. Project exists at https://wandb.ai/{username}/DLAssignment1\")\n",
        "    print(\"2. API key has write permissions\")\n",
        "finally:\n",
        "    wandb.finish()"
      ],
      "metadata": {
        "colab": {
          "base_uri": "https://localhost:8080/",
          "height": 496
        },
        "id": "9T19xJzY78qG",
        "outputId": "e5ab27ce-53fe-47e7-f943-9d24137ff82a"
      },
      "execution_count": 33,
      "outputs": [
        {
          "name": "stdout",
          "output_type": "stream",
          "text": [
            "Enter W&B API key: ··········\n"
          ]
        },
        {
          "output_type": "stream",
          "name": "stderr",
          "text": [
            "\u001b[34m\u001b[1mwandb\u001b[0m: \u001b[33mWARNING\u001b[0m If you're specifying your api key in code, ensure this code is not shared publicly.\n",
            "\u001b[34m\u001b[1mwandb\u001b[0m: \u001b[33mWARNING\u001b[0m Consider setting the WANDB_API_KEY environment variable, or running `wandb login` from the command line.\n",
            "\u001b[34m\u001b[1mwandb\u001b[0m: Appending key for api.wandb.ai to your netrc file: /root/.netrc\n"
          ]
        },
        {
          "output_type": "stream",
          "name": "stdout",
          "text": [
            "❌ Authentication failed: 'NoneType' object has no attribute 'keys'\n",
            "❌ Error: name 'username' is not defined\n",
            "Verify:\n"
          ]
        },
        {
          "output_type": "error",
          "ename": "NameError",
          "evalue": "name 'username' is not defined",
          "traceback": [
            "\u001b[0;31m---------------------------------------------------------------------------\u001b[0m",
            "\u001b[0;31mNameError\u001b[0m                                 Traceback (most recent call last)",
            "\u001b[0;32m<ipython-input-33-4edabe77f7fe>\u001b[0m in \u001b[0;36m<cell line: 0>\u001b[0;34m()\u001b[0m\n\u001b[1;32m     39\u001b[0m \u001b[0;32mtry\u001b[0m\u001b[0;34m:\u001b[0m\u001b[0;34m\u001b[0m\u001b[0;34m\u001b[0m\u001b[0m\n\u001b[0;32m---> 40\u001b[0;31m     \u001b[0msweep_id\u001b[0m \u001b[0;34m=\u001b[0m \u001b[0mwandb\u001b[0m\u001b[0;34m.\u001b[0m\u001b[0msweep\u001b[0m\u001b[0;34m(\u001b[0m\u001b[0msweep_config\u001b[0m\u001b[0;34m,\u001b[0m \u001b[0mentity\u001b[0m\u001b[0;34m=\u001b[0m\u001b[0musername\u001b[0m\u001b[0;34m,\u001b[0m \u001b[0mproject\u001b[0m\u001b[0;34m=\u001b[0m\u001b[0;34m\"DLAssignment1\"\u001b[0m\u001b[0;34m)\u001b[0m\u001b[0;34m\u001b[0m\u001b[0;34m\u001b[0m\u001b[0m\n\u001b[0m\u001b[1;32m     41\u001b[0m     \u001b[0mprint\u001b[0m\u001b[0;34m(\u001b[0m\u001b[0;34mf\"✅ Sweep created! View at: https://wandb.ai/{username}/DLAssignment1/sweeps/{sweep_id}\"\u001b[0m\u001b[0;34m)\u001b[0m\u001b[0;34m\u001b[0m\u001b[0;34m\u001b[0m\u001b[0m\n",
            "\u001b[0;31mNameError\u001b[0m: name 'username' is not defined",
            "\nDuring handling of the above exception, another exception occurred:\n",
            "\u001b[0;31mNameError\u001b[0m                                 Traceback (most recent call last)",
            "\u001b[0;32m<ipython-input-33-4edabe77f7fe>\u001b[0m in \u001b[0;36m<cell line: 0>\u001b[0;34m()\u001b[0m\n\u001b[1;32m     43\u001b[0m     \u001b[0mprint\u001b[0m\u001b[0;34m(\u001b[0m\u001b[0;34mf\"❌ Error: {e}\"\u001b[0m\u001b[0;34m)\u001b[0m\u001b[0;34m\u001b[0m\u001b[0;34m\u001b[0m\u001b[0m\n\u001b[1;32m     44\u001b[0m     \u001b[0mprint\u001b[0m\u001b[0;34m(\u001b[0m\u001b[0;34m\"Verify:\"\u001b[0m\u001b[0;34m)\u001b[0m\u001b[0;34m\u001b[0m\u001b[0;34m\u001b[0m\u001b[0m\n\u001b[0;32m---> 45\u001b[0;31m     \u001b[0mprint\u001b[0m\u001b[0;34m(\u001b[0m\u001b[0;34mf\"1. Project exists at https://wandb.ai/{username}/DLAssignment1\"\u001b[0m\u001b[0;34m)\u001b[0m\u001b[0;34m\u001b[0m\u001b[0;34m\u001b[0m\u001b[0m\n\u001b[0m\u001b[1;32m     46\u001b[0m     \u001b[0mprint\u001b[0m\u001b[0;34m(\u001b[0m\u001b[0;34m\"2. API key has write permissions\"\u001b[0m\u001b[0;34m)\u001b[0m\u001b[0;34m\u001b[0m\u001b[0;34m\u001b[0m\u001b[0m\n\u001b[1;32m     47\u001b[0m \u001b[0;32mfinally\u001b[0m\u001b[0;34m:\u001b[0m\u001b[0;34m\u001b[0m\u001b[0;34m\u001b[0m\u001b[0m\n",
            "\u001b[0;31mNameError\u001b[0m: name 'username' is not defined"
          ]
        }
      ]
    }
  ]
}